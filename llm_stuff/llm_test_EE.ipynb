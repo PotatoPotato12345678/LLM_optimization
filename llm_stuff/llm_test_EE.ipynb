{
 "cells": [
  {
   "cell_type": "code",
   "execution_count": 10,
   "id": "89ea7783",
   "metadata": {},
   "outputs": [],
   "source": [
    "model = \"gpt-5-mini-2025-08-07\"\n",
    "import tiktoken\n",
    "def count_tokens(text: str, model: str = model) -> int:\n",
    "    encoding = tiktoken.encoding_for_model(model)\n",
    "    tokens = encoding.encode(text)\n",
    "    return len(tokens)"
   ]
  },
  {
   "cell_type": "markdown",
   "id": "55337ee7",
   "metadata": {},
   "source": [
    "特に要望はありませんが、employee_3さんとemployee_4とは息が合っているなという印象です。\n",
    "employee_5さんとだけ働きたい"
   ]
  },
  {
   "cell_type": "code",
   "execution_count": 11,
   "id": "69cb791e",
   "metadata": {},
   "outputs": [
    {
     "name": "stdout",
     "output_type": "stream",
     "text": [
      "465\n"
     ]
    }
   ],
   "source": [
    "employee_list = [\"Employee_1\", \"Employee_2\", \"Employee_3\", \"Employee_4\", \"Employee_5\"]\n",
    "employee_flat = \", \".join([f\"e{i+1}:{name}\" for i, name in enumerate(employee_list)])\n",
    "\n",
    "text_input = \"\"\"\n",
    "employee_2さんとは働きやすいやすいので、時々一緒に働けたら嬉しいです。\n",
    "\"\"\"\n",
    "main_context_1 = f\"\"\"\n",
    "The available employees are: {employee_flat}. Total employees are {len(employee_list)}.\n",
    "Task:\n",
    "- Comprehend the given text input in Japanese and classify willingness to work with a given employee.\n",
    "\n",
    "Output Format:\n",
    "- JSON object with keys \"e1\" to \"eN\" (N = {len(employee_list)}).\n",
    "- The value indicates willingness to work with that employee.\n",
    "- Employees not mentioned in the text MUST default to neutral (0).\"\"\"\n",
    "main_context_2 = \"\"\"\n",
    "- Example:\n",
    "  {\n",
    "  \"employees\": {\n",
    "    \"e1\": float,\n",
    "    \"e2\": float,\n",
    "    \"e3\": float,\n",
    "    ...\n",
    "    \"eN\":float\n",
    "  }\n",
    "  }\n",
    "\n",
    "\n",
    "Willingness Scale:\n",
    "- Very unwilling: -1.0 to -0.6 (exclusive)\n",
    "- Slightly unwilling: -0.6 to -0.2 (exclusive)\n",
    "- Neutral: -0.2 to 0.2 (exclusive)\n",
    "- Slightly willing: 0.2 to 0.6 (exclusive)\n",
    "- Very willing: 0.6 to 1.0 (inclusive)\n",
    "\n",
    "Japanese Phrase Mapping (with precedence rules):\n",
    "- If a phrase contains both positive and negative (e.g., \"入れるけどできれば入りたくない\"), **the negative overrides the positive**.\n",
    "- \"入れる\" or \"働ける\" → slightly willing (0.2–0.6)\n",
    "- \"できれば入りたくない\" → slightly unwilling (-0.6 to -0.2)\n",
    "- \"無理\" or \"絶対無理\" → very unwilling (-1.0 to -0.6)\n",
    "- \"一番嬉しい\" or \"大好き\" → very willing (0.6–1.0)\n",
    "Instructions:\n",
    "1. Never hallucinate information; only use what is explicitly stated.\n",
    "2. Identify willingness at the phrase level in the input text.\n",
    "3. Resolve conflicts using the precedence rules above.\n",
    "4. Only return the JSON object; do not include any explanations or extra text.\n",
    "\"\"\"\n",
    "main_context = main_context_1 + main_context_2\n",
    "print(count_tokens(main_context+text_input))"
   ]
  },
  {
   "cell_type": "code",
   "execution_count": 12,
   "id": "d4875f88",
   "metadata": {},
   "outputs": [
    {
     "name": "stdout",
     "output_type": "stream",
     "text": [
      "\n",
      "The available employees are: e1:Employee_1, e2:Employee_2, e3:Employee_3, e4:Employee_4, e5:Employee_5. Total employees are 5.\n",
      "Task:\n",
      "- Comprehend the given text input in Japanese and classify willingness to work with a given employee.\n",
      "\n",
      "Output Format:\n",
      "- JSON object with keys \"e1\" to \"eN\" (N = 5).\n",
      "- The value indicates willingness to work with that employee.\n",
      "- Employees not mentioned in the text MUST default to neutral (0).\n",
      "- Example:\n",
      "  {\n",
      "  \"employees\": {\n",
      "    \"e1\": float,\n",
      "    \"e2\": float,\n",
      "    \"e3\": float,\n",
      "    ...\n",
      "    \"eN\":float\n",
      "  }\n",
      "  }\n",
      "\n",
      "\n",
      "Willingness Scale:\n",
      "- Very unwilling: -1.0 to -0.6 (exclusive)\n",
      "- Slightly unwilling: -0.6 to -0.2 (exclusive)\n",
      "- Neutral: -0.2 to 0.2 (exclusive)\n",
      "- Slightly willing: 0.2 to 0.6 (exclusive)\n",
      "- Very willing: 0.6 to 1.0 (inclusive)\n",
      "\n",
      "Japanese Phrase Mapping (with precedence rules):\n",
      "- If a phrase contains both positive and negative (e.g., \"入れるけどできれば入りたくない\"), **the negative overrides the positive**.\n",
      "- \"入れる\" or \"働ける\" → slightly willing (0.2–0.6)\n",
      "- \"できれば入りたくない\" → slightly unwilling (-0.6 to -0.2)\n",
      "- \"無理\" or \"絶対無理\" → very unwilling (-1.0 to -0.6)\n",
      "- \"一番嬉しい\" or \"大好き\" → very willing (0.6–1.0)\n",
      "Instructions:\n",
      "1. Never hallucinate information; only use what is explicitly stated.\n",
      "2. Identify willingness at the phrase level in the input text.\n",
      "3. Resolve conflicts using the precedence rules above.\n",
      "4. Only return the JSON object; do not include any explanations or extra text.\n",
      "\n",
      "employee_2さんとは働きやすいやすいので、時々一緒に働けたら嬉しいです。\n",
      "\n"
     ]
    }
   ],
   "source": [
    "print(main_context+text_input)"
   ]
  },
  {
   "cell_type": "code",
   "execution_count": null,
   "id": "5944801d",
   "metadata": {},
   "outputs": [],
   "source": [
    "from openai import OpenAI\n",
    "from pydantic import BaseModel\n",
    "from typing import List, Tuple, Dict\n",
    "client = OpenAI(api_key=\"\")\n",
    "from typing import List\n",
    "\n",
    "class Employee(BaseModel):\n",
    "    id: str\n",
    "    willingness: float\n",
    "\n",
    "class EmployeeWillingness(BaseModel):\n",
    "    employees: List[Employee]\n",
    "\n",
    "response = client.beta.chat.completions.parse(\n",
    "    model=model,\n",
    "    messages=[\n",
    "        {\"role\": \"system\", \"content\": main_context},\n",
    "        {\"role\": \"user\", \"content\": text_input},\n",
    "    ],\n",
    "    response_format=EmployeeWillingness,\n",
    ")\n",
    "\n",
    "employee_pref = response.choices[0].message.parsed\n",
    "\n",
    "# Convert to dict if needed\n",
    "employee_dict = {emp.id: emp.willingness for emp in employee_pref.employees}"
   ]
  },
  {
   "cell_type": "code",
   "execution_count": 14,
   "id": "f66ffdd3",
   "metadata": {},
   "outputs": [
    {
     "data": {
      "text/plain": [
       "{'e1': 0.0, 'e2': 0.4, 'e3': 0.0, 'e4': 0.0, 'e5': 0.0}"
      ]
     },
     "execution_count": 14,
     "metadata": {},
     "output_type": "execute_result"
    }
   ],
   "source": [
    "employee_dict"
   ]
  }
 ],
 "metadata": {
  "kernelspec": {
   "display_name": "base",
   "language": "python",
   "name": "python3"
  },
  "language_info": {
   "codemirror_mode": {
    "name": "ipython",
    "version": 3
   },
   "file_extension": ".py",
   "mimetype": "text/x-python",
   "name": "python",
   "nbconvert_exporter": "python",
   "pygments_lexer": "ipython3",
   "version": "3.12.2"
  }
 },
 "nbformat": 4,
 "nbformat_minor": 5
}
