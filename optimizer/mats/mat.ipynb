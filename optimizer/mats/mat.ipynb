{
 "cells": [
  {
   "cell_type": "markdown",
   "id": "761156d81c06b607",
   "metadata": {},
   "source": [
    "# Willingness Matrix"
   ]
  },
  {
   "cell_type": "code",
   "execution_count": 36,
   "id": "0218aa6f",
   "metadata": {
    "ExecuteTime": {
     "end_time": "2025-10-18T13:12:55.435555Z",
     "start_time": "2025-10-18T13:12:55.421625Z"
    }
   },
   "outputs": [],
   "source": [
    "import numpy as np\n",
    "import pandas as pd"
   ]
  },
  {
   "cell_type": "code",
   "execution_count": 37,
   "id": "ce13a940",
   "metadata": {
    "ExecuteTime": {
     "end_time": "2025-10-18T13:12:55.472981Z",
     "start_time": "2025-10-18T13:12:55.464018Z"
    }
   },
   "outputs": [],
   "source": [
    "df_will = pd.read_json(\"willingness_mat.json\")"
   ]
  },
  {
   "cell_type": "code",
   "execution_count": 38,
   "id": "9f555ec6",
   "metadata": {
    "ExecuteTime": {
     "end_time": "2025-10-18T13:12:55.518761Z",
     "start_time": "2025-10-18T13:12:55.495391Z"
    }
   },
   "outputs": [
    {
     "data": {
      "application/vnd.microsoft.datawrangler.viewer.v0+json": {
       "columns": [
        {
         "name": "index",
         "rawType": "object",
         "type": "string"
        },
        {
         "name": "Alice",
         "rawType": "object",
         "type": "unknown"
        },
        {
         "name": "Bob",
         "rawType": "object",
         "type": "unknown"
        }
       ],
       "ref": "5e7296af-7ae1-4087-a714-c84255bb0fb3",
       "rows": [
        [
         "d1",
         "[{'shift': 0, 'willingness': 0.0}, {'shift': 1, 'willingness': 0.0}]",
         "[{'shift': 0, 'willingness': 0.0}, {'shift': 1, 'willingness': 0.0}]"
        ],
        [
         "d2",
         "[{'shift': 0, 'willingness': -0.5}, {'shift': 1, 'willingness': -0.5}]",
         "[{'shift': 0, 'willingness': -0.5}, {'shift': 1, 'willingness': -0.5}]"
        ],
        [
         "d3",
         "[{'shift': 0, 'willingness': 0.5}, {'shift': 1, 'willingness': 0.5}]",
         "[{'shift': 0, 'willingness': 0.5}, {'shift': 1, 'willingness': 0.5}]"
        ],
        [
         "d4",
         "[{'shift': 0, 'willingness': 0.5}, {'shift': 1, 'willingness': 0.5}]",
         "[{'shift': 0, 'willingness': 0.5}, {'shift': 1, 'willingness': 0.5}]"
        ],
        [
         "d5",
         "[{'shift': 0, 'willingness': 0.5}, {'shift': 1, 'willingness': 0.5}]",
         "[{'shift': 0, 'willingness': 0.5}, {'shift': 1, 'willingness': 0.5}]"
        ],
        [
         "d6",
         "[{'shift': 0, 'willingness': 0.0}, {'shift': 1, 'willingness': 0.0}]",
         "[{'shift': 0, 'willingness': 0.0}, {'shift': 1, 'willingness': 0.0}]"
        ],
        [
         "d7",
         "[{'shift': 0, 'willingness': 0.0}, {'shift': 1, 'willingness': 0.0}]",
         "[{'shift': 0, 'willingness': 0.0}, {'shift': 1, 'willingness': 0.0}]"
        ],
        [
         "d8",
         "[{'shift': 0, 'willingness': 1.0}, {'shift': 1, 'willingness': 0.0}]",
         "[{'shift': 0, 'willingness': 1.0}, {'shift': 1, 'willingness': 0.0}]"
        ],
        [
         "d9",
         "[{'shift': 0, 'willingness': 1.0}, {'shift': 1, 'willingness': 0.0}]",
         "[{'shift': 0, 'willingness': 1.0}, {'shift': 1, 'willingness': 0.0}]"
        ],
        [
         "d10",
         "[{'shift': 0, 'willingness': -0.5}, {'shift': 1, 'willingness': -0.5}]",
         "[{'shift': 0, 'willingness': -0.5}, {'shift': 1, 'willingness': -0.5}]"
        ],
        [
         "d11",
         "[{'shift': 0, 'willingness': 0.5}, {'shift': 1, 'willingness': 0.5}]",
         "[{'shift': 0, 'willingness': 0.5}, {'shift': 1, 'willingness': 0.5}]"
        ],
        [
         "d12",
         "[{'shift': 0, 'willingness': 0.5}, {'shift': 1, 'willingness': 0.5}]",
         "[{'shift': 0, 'willingness': 0.5}, {'shift': 1, 'willingness': 0.5}]"
        ],
        [
         "d13",
         "[{'shift': 0, 'willingness': 0.5}, {'shift': 1, 'willingness': 0.5}]",
         "[{'shift': 0, 'willingness': 0.5}, {'shift': 1, 'willingness': 0.5}]"
        ],
        [
         "d14",
         "[{'shift': 0, 'willingness': 0.0}, {'shift': 1, 'willingness': 0.0}]",
         "[{'shift': 0, 'willingness': 0.0}, {'shift': 1, 'willingness': 0.0}]"
        ],
        [
         "d15",
         "[{'shift': 0, 'willingness': 0.0}, {'shift': 1, 'willingness': 0.0}]",
         "[{'shift': 0, 'willingness': 0.0}, {'shift': 1, 'willingness': 0.0}]"
        ],
        [
         "d16",
         "[{'shift': 0, 'willingness': 0.0}, {'shift': 1, 'willingness': 0.0}]",
         "[{'shift': 0, 'willingness': 0.0}, {'shift': 1, 'willingness': 0.0}]"
        ],
        [
         "d17",
         "[{'shift': 0, 'willingness': -0.5}, {'shift': 1, 'willingness': -0.5}]",
         "[{'shift': 0, 'willingness': -0.5}, {'shift': 1, 'willingness': -0.5}]"
        ],
        [
         "d18",
         "[{'shift': 0, 'willingness': 0.5}, {'shift': 1, 'willingness': 0.5}]",
         "[{'shift': 0, 'willingness': 0.5}, {'shift': 1, 'willingness': 0.5}]"
        ],
        [
         "d19",
         "[{'shift': 0, 'willingness': 0.5}, {'shift': 1, 'willingness': 0.5}]",
         "[{'shift': 0, 'willingness': 0.5}, {'shift': 1, 'willingness': 0.5}]"
        ],
        [
         "d20",
         "[{'shift': 0, 'willingness': 0.5}, {'shift': 1, 'willingness': 0.5}]",
         "[{'shift': 0, 'willingness': 0.5}, {'shift': 1, 'willingness': 0.5}]"
        ],
        [
         "d21",
         "[{'shift': 0, 'willingness': 0.0}, {'shift': 1, 'willingness': 0.0}]",
         "[{'shift': 0, 'willingness': 0.0}, {'shift': 1, 'willingness': 0.0}]"
        ],
        [
         "d22",
         "[{'shift': 0, 'willingness': 1.0}, {'shift': 1, 'willingness': 0.0}]",
         "[{'shift': 0, 'willingness': 1.0}, {'shift': 1, 'willingness': 0.0}]"
        ],
        [
         "d23",
         "[{'shift': 0, 'willingness': 1.0}, {'shift': 1, 'willingness': 0.0}]",
         "[{'shift': 0, 'willingness': 1.0}, {'shift': 1, 'willingness': 0.0}]"
        ],
        [
         "d24",
         "[{'shift': 0, 'willingness': -0.5}, {'shift': 1, 'willingness': -0.5}]",
         "[{'shift': 0, 'willingness': -0.5}, {'shift': 1, 'willingness': -0.5}]"
        ],
        [
         "d25",
         "[{'shift': 0, 'willingness': 0.5}, {'shift': 1, 'willingness': 0.5}]",
         "[{'shift': 0, 'willingness': 0.5}, {'shift': 1, 'willingness': 0.5}]"
        ],
        [
         "d26",
         "[{'shift': 0, 'willingness': 0.5}, {'shift': 1, 'willingness': 0.5}]",
         "[{'shift': 0, 'willingness': 0.5}, {'shift': 1, 'willingness': 0.5}]"
        ],
        [
         "d27",
         "[{'shift': 0, 'willingness': 0.5}, {'shift': 1, 'willingness': 0.5}]",
         "[{'shift': 0, 'willingness': 0.5}, {'shift': 1, 'willingness': 0.5}]"
        ],
        [
         "d28",
         "[{'shift': 0, 'willingness': 0.0}, {'shift': 1, 'willingness': 0.0}]",
         "[{'shift': 0, 'willingness': 0.0}, {'shift': 1, 'willingness': 0.0}]"
        ]
       ],
       "shape": {
        "columns": 2,
        "rows": 28
       }
      },
      "text/html": [
       "<div>\n",
       "<style scoped>\n",
       "    .dataframe tbody tr th:only-of-type {\n",
       "        vertical-align: middle;\n",
       "    }\n",
       "\n",
       "    .dataframe tbody tr th {\n",
       "        vertical-align: top;\n",
       "    }\n",
       "\n",
       "    .dataframe thead th {\n",
       "        text-align: right;\n",
       "    }\n",
       "</style>\n",
       "<table border=\"1\" class=\"dataframe\">\n",
       "  <thead>\n",
       "    <tr style=\"text-align: right;\">\n",
       "      <th></th>\n",
       "      <th>Alice</th>\n",
       "      <th>Bob</th>\n",
       "    </tr>\n",
       "  </thead>\n",
       "  <tbody>\n",
       "    <tr>\n",
       "      <th>d1</th>\n",
       "      <td>[{'shift': 0, 'willingness': 0.0}, {'shift': 1...</td>\n",
       "      <td>[{'shift': 0, 'willingness': 0.0}, {'shift': 1...</td>\n",
       "    </tr>\n",
       "    <tr>\n",
       "      <th>d2</th>\n",
       "      <td>[{'shift': 0, 'willingness': -0.5}, {'shift': ...</td>\n",
       "      <td>[{'shift': 0, 'willingness': -0.5}, {'shift': ...</td>\n",
       "    </tr>\n",
       "    <tr>\n",
       "      <th>d3</th>\n",
       "      <td>[{'shift': 0, 'willingness': 0.5}, {'shift': 1...</td>\n",
       "      <td>[{'shift': 0, 'willingness': 0.5}, {'shift': 1...</td>\n",
       "    </tr>\n",
       "    <tr>\n",
       "      <th>d4</th>\n",
       "      <td>[{'shift': 0, 'willingness': 0.5}, {'shift': 1...</td>\n",
       "      <td>[{'shift': 0, 'willingness': 0.5}, {'shift': 1...</td>\n",
       "    </tr>\n",
       "    <tr>\n",
       "      <th>d5</th>\n",
       "      <td>[{'shift': 0, 'willingness': 0.5}, {'shift': 1...</td>\n",
       "      <td>[{'shift': 0, 'willingness': 0.5}, {'shift': 1...</td>\n",
       "    </tr>\n",
       "    <tr>\n",
       "      <th>d6</th>\n",
       "      <td>[{'shift': 0, 'willingness': 0.0}, {'shift': 1...</td>\n",
       "      <td>[{'shift': 0, 'willingness': 0.0}, {'shift': 1...</td>\n",
       "    </tr>\n",
       "    <tr>\n",
       "      <th>d7</th>\n",
       "      <td>[{'shift': 0, 'willingness': 0.0}, {'shift': 1...</td>\n",
       "      <td>[{'shift': 0, 'willingness': 0.0}, {'shift': 1...</td>\n",
       "    </tr>\n",
       "    <tr>\n",
       "      <th>d8</th>\n",
       "      <td>[{'shift': 0, 'willingness': 1.0}, {'shift': 1...</td>\n",
       "      <td>[{'shift': 0, 'willingness': 1.0}, {'shift': 1...</td>\n",
       "    </tr>\n",
       "    <tr>\n",
       "      <th>d9</th>\n",
       "      <td>[{'shift': 0, 'willingness': 1.0}, {'shift': 1...</td>\n",
       "      <td>[{'shift': 0, 'willingness': 1.0}, {'shift': 1...</td>\n",
       "    </tr>\n",
       "    <tr>\n",
       "      <th>d10</th>\n",
       "      <td>[{'shift': 0, 'willingness': -0.5}, {'shift': ...</td>\n",
       "      <td>[{'shift': 0, 'willingness': -0.5}, {'shift': ...</td>\n",
       "    </tr>\n",
       "    <tr>\n",
       "      <th>d11</th>\n",
       "      <td>[{'shift': 0, 'willingness': 0.5}, {'shift': 1...</td>\n",
       "      <td>[{'shift': 0, 'willingness': 0.5}, {'shift': 1...</td>\n",
       "    </tr>\n",
       "    <tr>\n",
       "      <th>d12</th>\n",
       "      <td>[{'shift': 0, 'willingness': 0.5}, {'shift': 1...</td>\n",
       "      <td>[{'shift': 0, 'willingness': 0.5}, {'shift': 1...</td>\n",
       "    </tr>\n",
       "    <tr>\n",
       "      <th>d13</th>\n",
       "      <td>[{'shift': 0, 'willingness': 0.5}, {'shift': 1...</td>\n",
       "      <td>[{'shift': 0, 'willingness': 0.5}, {'shift': 1...</td>\n",
       "    </tr>\n",
       "    <tr>\n",
       "      <th>d14</th>\n",
       "      <td>[{'shift': 0, 'willingness': 0.0}, {'shift': 1...</td>\n",
       "      <td>[{'shift': 0, 'willingness': 0.0}, {'shift': 1...</td>\n",
       "    </tr>\n",
       "    <tr>\n",
       "      <th>d15</th>\n",
       "      <td>[{'shift': 0, 'willingness': 0.0}, {'shift': 1...</td>\n",
       "      <td>[{'shift': 0, 'willingness': 0.0}, {'shift': 1...</td>\n",
       "    </tr>\n",
       "    <tr>\n",
       "      <th>d16</th>\n",
       "      <td>[{'shift': 0, 'willingness': 0.0}, {'shift': 1...</td>\n",
       "      <td>[{'shift': 0, 'willingness': 0.0}, {'shift': 1...</td>\n",
       "    </tr>\n",
       "    <tr>\n",
       "      <th>d17</th>\n",
       "      <td>[{'shift': 0, 'willingness': -0.5}, {'shift': ...</td>\n",
       "      <td>[{'shift': 0, 'willingness': -0.5}, {'shift': ...</td>\n",
       "    </tr>\n",
       "    <tr>\n",
       "      <th>d18</th>\n",
       "      <td>[{'shift': 0, 'willingness': 0.5}, {'shift': 1...</td>\n",
       "      <td>[{'shift': 0, 'willingness': 0.5}, {'shift': 1...</td>\n",
       "    </tr>\n",
       "    <tr>\n",
       "      <th>d19</th>\n",
       "      <td>[{'shift': 0, 'willingness': 0.5}, {'shift': 1...</td>\n",
       "      <td>[{'shift': 0, 'willingness': 0.5}, {'shift': 1...</td>\n",
       "    </tr>\n",
       "    <tr>\n",
       "      <th>d20</th>\n",
       "      <td>[{'shift': 0, 'willingness': 0.5}, {'shift': 1...</td>\n",
       "      <td>[{'shift': 0, 'willingness': 0.5}, {'shift': 1...</td>\n",
       "    </tr>\n",
       "    <tr>\n",
       "      <th>d21</th>\n",
       "      <td>[{'shift': 0, 'willingness': 0.0}, {'shift': 1...</td>\n",
       "      <td>[{'shift': 0, 'willingness': 0.0}, {'shift': 1...</td>\n",
       "    </tr>\n",
       "    <tr>\n",
       "      <th>d22</th>\n",
       "      <td>[{'shift': 0, 'willingness': 1.0}, {'shift': 1...</td>\n",
       "      <td>[{'shift': 0, 'willingness': 1.0}, {'shift': 1...</td>\n",
       "    </tr>\n",
       "    <tr>\n",
       "      <th>d23</th>\n",
       "      <td>[{'shift': 0, 'willingness': 1.0}, {'shift': 1...</td>\n",
       "      <td>[{'shift': 0, 'willingness': 1.0}, {'shift': 1...</td>\n",
       "    </tr>\n",
       "    <tr>\n",
       "      <th>d24</th>\n",
       "      <td>[{'shift': 0, 'willingness': -0.5}, {'shift': ...</td>\n",
       "      <td>[{'shift': 0, 'willingness': -0.5}, {'shift': ...</td>\n",
       "    </tr>\n",
       "    <tr>\n",
       "      <th>d25</th>\n",
       "      <td>[{'shift': 0, 'willingness': 0.5}, {'shift': 1...</td>\n",
       "      <td>[{'shift': 0, 'willingness': 0.5}, {'shift': 1...</td>\n",
       "    </tr>\n",
       "    <tr>\n",
       "      <th>d26</th>\n",
       "      <td>[{'shift': 0, 'willingness': 0.5}, {'shift': 1...</td>\n",
       "      <td>[{'shift': 0, 'willingness': 0.5}, {'shift': 1...</td>\n",
       "    </tr>\n",
       "    <tr>\n",
       "      <th>d27</th>\n",
       "      <td>[{'shift': 0, 'willingness': 0.5}, {'shift': 1...</td>\n",
       "      <td>[{'shift': 0, 'willingness': 0.5}, {'shift': 1...</td>\n",
       "    </tr>\n",
       "    <tr>\n",
       "      <th>d28</th>\n",
       "      <td>[{'shift': 0, 'willingness': 0.0}, {'shift': 1...</td>\n",
       "      <td>[{'shift': 0, 'willingness': 0.0}, {'shift': 1...</td>\n",
       "    </tr>\n",
       "  </tbody>\n",
       "</table>\n",
       "</div>"
      ],
      "text/plain": [
       "                                                 Alice  \\\n",
       "d1   [{'shift': 0, 'willingness': 0.0}, {'shift': 1...   \n",
       "d2   [{'shift': 0, 'willingness': -0.5}, {'shift': ...   \n",
       "d3   [{'shift': 0, 'willingness': 0.5}, {'shift': 1...   \n",
       "d4   [{'shift': 0, 'willingness': 0.5}, {'shift': 1...   \n",
       "d5   [{'shift': 0, 'willingness': 0.5}, {'shift': 1...   \n",
       "d6   [{'shift': 0, 'willingness': 0.0}, {'shift': 1...   \n",
       "d7   [{'shift': 0, 'willingness': 0.0}, {'shift': 1...   \n",
       "d8   [{'shift': 0, 'willingness': 1.0}, {'shift': 1...   \n",
       "d9   [{'shift': 0, 'willingness': 1.0}, {'shift': 1...   \n",
       "d10  [{'shift': 0, 'willingness': -0.5}, {'shift': ...   \n",
       "d11  [{'shift': 0, 'willingness': 0.5}, {'shift': 1...   \n",
       "d12  [{'shift': 0, 'willingness': 0.5}, {'shift': 1...   \n",
       "d13  [{'shift': 0, 'willingness': 0.5}, {'shift': 1...   \n",
       "d14  [{'shift': 0, 'willingness': 0.0}, {'shift': 1...   \n",
       "d15  [{'shift': 0, 'willingness': 0.0}, {'shift': 1...   \n",
       "d16  [{'shift': 0, 'willingness': 0.0}, {'shift': 1...   \n",
       "d17  [{'shift': 0, 'willingness': -0.5}, {'shift': ...   \n",
       "d18  [{'shift': 0, 'willingness': 0.5}, {'shift': 1...   \n",
       "d19  [{'shift': 0, 'willingness': 0.5}, {'shift': 1...   \n",
       "d20  [{'shift': 0, 'willingness': 0.5}, {'shift': 1...   \n",
       "d21  [{'shift': 0, 'willingness': 0.0}, {'shift': 1...   \n",
       "d22  [{'shift': 0, 'willingness': 1.0}, {'shift': 1...   \n",
       "d23  [{'shift': 0, 'willingness': 1.0}, {'shift': 1...   \n",
       "d24  [{'shift': 0, 'willingness': -0.5}, {'shift': ...   \n",
       "d25  [{'shift': 0, 'willingness': 0.5}, {'shift': 1...   \n",
       "d26  [{'shift': 0, 'willingness': 0.5}, {'shift': 1...   \n",
       "d27  [{'shift': 0, 'willingness': 0.5}, {'shift': 1...   \n",
       "d28  [{'shift': 0, 'willingness': 0.0}, {'shift': 1...   \n",
       "\n",
       "                                                   Bob  \n",
       "d1   [{'shift': 0, 'willingness': 0.0}, {'shift': 1...  \n",
       "d2   [{'shift': 0, 'willingness': -0.5}, {'shift': ...  \n",
       "d3   [{'shift': 0, 'willingness': 0.5}, {'shift': 1...  \n",
       "d4   [{'shift': 0, 'willingness': 0.5}, {'shift': 1...  \n",
       "d5   [{'shift': 0, 'willingness': 0.5}, {'shift': 1...  \n",
       "d6   [{'shift': 0, 'willingness': 0.0}, {'shift': 1...  \n",
       "d7   [{'shift': 0, 'willingness': 0.0}, {'shift': 1...  \n",
       "d8   [{'shift': 0, 'willingness': 1.0}, {'shift': 1...  \n",
       "d9   [{'shift': 0, 'willingness': 1.0}, {'shift': 1...  \n",
       "d10  [{'shift': 0, 'willingness': -0.5}, {'shift': ...  \n",
       "d11  [{'shift': 0, 'willingness': 0.5}, {'shift': 1...  \n",
       "d12  [{'shift': 0, 'willingness': 0.5}, {'shift': 1...  \n",
       "d13  [{'shift': 0, 'willingness': 0.5}, {'shift': 1...  \n",
       "d14  [{'shift': 0, 'willingness': 0.0}, {'shift': 1...  \n",
       "d15  [{'shift': 0, 'willingness': 0.0}, {'shift': 1...  \n",
       "d16  [{'shift': 0, 'willingness': 0.0}, {'shift': 1...  \n",
       "d17  [{'shift': 0, 'willingness': -0.5}, {'shift': ...  \n",
       "d18  [{'shift': 0, 'willingness': 0.5}, {'shift': 1...  \n",
       "d19  [{'shift': 0, 'willingness': 0.5}, {'shift': 1...  \n",
       "d20  [{'shift': 0, 'willingness': 0.5}, {'shift': 1...  \n",
       "d21  [{'shift': 0, 'willingness': 0.0}, {'shift': 1...  \n",
       "d22  [{'shift': 0, 'willingness': 1.0}, {'shift': 1...  \n",
       "d23  [{'shift': 0, 'willingness': 1.0}, {'shift': 1...  \n",
       "d24  [{'shift': 0, 'willingness': -0.5}, {'shift': ...  \n",
       "d25  [{'shift': 0, 'willingness': 0.5}, {'shift': 1...  \n",
       "d26  [{'shift': 0, 'willingness': 0.5}, {'shift': 1...  \n",
       "d27  [{'shift': 0, 'willingness': 0.5}, {'shift': 1...  \n",
       "d28  [{'shift': 0, 'willingness': 0.0}, {'shift': 1...  "
      ]
     },
     "execution_count": 38,
     "metadata": {},
     "output_type": "execute_result"
    }
   ],
   "source": [
    "df_will"
   ]
  },
  {
   "cell_type": "code",
   "execution_count": 39,
   "id": "79b73f95",
   "metadata": {
    "ExecuteTime": {
     "end_time": "2025-10-18T13:12:55.561254Z",
     "start_time": "2025-10-18T13:12:55.557873Z"
    }
   },
   "outputs": [],
   "source": [
    "rows = []\n",
    "\n",
    "for day, row in df_will.iterrows():\n",
    "    for employee, shifts in row.items():\n",
    "        for s in shifts:\n",
    "            rows.append({\n",
    "                \"employee\": employee,\n",
    "                \"day\": day,\n",
    "                \"shift\": s[\"shift\"],\n",
    "                \"willingness\": s[\"willingness\"]\n",
    "            })\n",
    "\n",
    "\n",
    "df_flat = pd.DataFrame(rows)"
   ]
  },
  {
   "cell_type": "code",
   "execution_count": 40,
   "id": "fd6de653334ced73",
   "metadata": {
    "ExecuteTime": {
     "end_time": "2025-10-18T13:12:55.629418Z",
     "start_time": "2025-10-18T13:12:55.626289Z"
    }
   },
   "outputs": [],
   "source": [
    "df_flat = df_flat.sort_values([\"employee\", \"day\", \"shift\"]).reset_index(drop=True)"
   ]
  },
  {
   "cell_type": "code",
   "execution_count": 41,
   "id": "5cc540878ca227d2",
   "metadata": {
    "ExecuteTime": {
     "end_time": "2025-10-18T13:12:55.655813Z",
     "start_time": "2025-10-18T13:12:55.652390Z"
    }
   },
   "outputs": [],
   "source": [
    "df_flat[\"shift\"] = df_flat[\"shift\"].map({0: \"morning\", 1: \"evening\"})"
   ]
  },
  {
   "cell_type": "code",
   "execution_count": 42,
   "id": "d52401972987b2d6",
   "metadata": {
    "ExecuteTime": {
     "end_time": "2025-10-18T13:12:55.681667Z",
     "start_time": "2025-10-18T13:12:55.674611Z"
    }
   },
   "outputs": [
    {
     "data": {
      "application/vnd.microsoft.datawrangler.viewer.v0+json": {
       "columns": [
        {
         "name": "index",
         "rawType": "int64",
         "type": "integer"
        },
        {
         "name": "employee",
         "rawType": "object",
         "type": "string"
        },
        {
         "name": "day",
         "rawType": "object",
         "type": "string"
        },
        {
         "name": "shift",
         "rawType": "object",
         "type": "string"
        },
        {
         "name": "willingness",
         "rawType": "float64",
         "type": "float"
        }
       ],
       "ref": "eac0b890-6520-4e33-96c7-65ca6393501c",
       "rows": [
        [
         "0",
         "Alice",
         "d1",
         "morning",
         "0.0"
        ],
        [
         "1",
         "Alice",
         "d1",
         "evening",
         "0.0"
        ],
        [
         "2",
         "Alice",
         "d10",
         "morning",
         "-0.5"
        ],
        [
         "3",
         "Alice",
         "d10",
         "evening",
         "-0.5"
        ],
        [
         "4",
         "Alice",
         "d11",
         "morning",
         "0.5"
        ],
        [
         "5",
         "Alice",
         "d11",
         "evening",
         "0.5"
        ],
        [
         "6",
         "Alice",
         "d12",
         "morning",
         "0.5"
        ],
        [
         "7",
         "Alice",
         "d12",
         "evening",
         "0.5"
        ],
        [
         "8",
         "Alice",
         "d13",
         "morning",
         "0.5"
        ],
        [
         "9",
         "Alice",
         "d13",
         "evening",
         "0.5"
        ],
        [
         "10",
         "Alice",
         "d14",
         "morning",
         "0.0"
        ],
        [
         "11",
         "Alice",
         "d14",
         "evening",
         "0.0"
        ],
        [
         "12",
         "Alice",
         "d15",
         "morning",
         "0.0"
        ],
        [
         "13",
         "Alice",
         "d15",
         "evening",
         "0.0"
        ],
        [
         "14",
         "Alice",
         "d16",
         "morning",
         "0.0"
        ],
        [
         "15",
         "Alice",
         "d16",
         "evening",
         "0.0"
        ],
        [
         "16",
         "Alice",
         "d17",
         "morning",
         "-0.5"
        ],
        [
         "17",
         "Alice",
         "d17",
         "evening",
         "-0.5"
        ],
        [
         "18",
         "Alice",
         "d18",
         "morning",
         "0.5"
        ],
        [
         "19",
         "Alice",
         "d18",
         "evening",
         "0.5"
        ],
        [
         "20",
         "Alice",
         "d19",
         "morning",
         "0.5"
        ],
        [
         "21",
         "Alice",
         "d19",
         "evening",
         "0.5"
        ],
        [
         "22",
         "Alice",
         "d2",
         "morning",
         "-0.5"
        ],
        [
         "23",
         "Alice",
         "d2",
         "evening",
         "-0.5"
        ],
        [
         "24",
         "Alice",
         "d20",
         "morning",
         "0.5"
        ],
        [
         "25",
         "Alice",
         "d20",
         "evening",
         "0.5"
        ],
        [
         "26",
         "Alice",
         "d21",
         "morning",
         "0.0"
        ],
        [
         "27",
         "Alice",
         "d21",
         "evening",
         "0.0"
        ],
        [
         "28",
         "Alice",
         "d22",
         "morning",
         "1.0"
        ],
        [
         "29",
         "Alice",
         "d22",
         "evening",
         "0.0"
        ],
        [
         "30",
         "Alice",
         "d23",
         "morning",
         "1.0"
        ],
        [
         "31",
         "Alice",
         "d23",
         "evening",
         "0.0"
        ],
        [
         "32",
         "Alice",
         "d24",
         "morning",
         "-0.5"
        ],
        [
         "33",
         "Alice",
         "d24",
         "evening",
         "-0.5"
        ],
        [
         "34",
         "Alice",
         "d25",
         "morning",
         "0.5"
        ],
        [
         "35",
         "Alice",
         "d25",
         "evening",
         "0.5"
        ],
        [
         "36",
         "Alice",
         "d26",
         "morning",
         "0.5"
        ],
        [
         "37",
         "Alice",
         "d26",
         "evening",
         "0.5"
        ],
        [
         "38",
         "Alice",
         "d27",
         "morning",
         "0.5"
        ],
        [
         "39",
         "Alice",
         "d27",
         "evening",
         "0.5"
        ],
        [
         "40",
         "Alice",
         "d28",
         "morning",
         "0.0"
        ],
        [
         "41",
         "Alice",
         "d28",
         "evening",
         "0.0"
        ],
        [
         "42",
         "Alice",
         "d3",
         "morning",
         "0.5"
        ],
        [
         "43",
         "Alice",
         "d3",
         "evening",
         "0.5"
        ],
        [
         "44",
         "Alice",
         "d4",
         "morning",
         "0.5"
        ],
        [
         "45",
         "Alice",
         "d4",
         "evening",
         "0.5"
        ],
        [
         "46",
         "Alice",
         "d5",
         "morning",
         "0.5"
        ],
        [
         "47",
         "Alice",
         "d5",
         "evening",
         "0.5"
        ],
        [
         "48",
         "Alice",
         "d6",
         "morning",
         "0.0"
        ],
        [
         "49",
         "Alice",
         "d6",
         "evening",
         "0.0"
        ]
       ],
       "shape": {
        "columns": 4,
        "rows": 112
       }
      },
      "text/html": [
       "<div>\n",
       "<style scoped>\n",
       "    .dataframe tbody tr th:only-of-type {\n",
       "        vertical-align: middle;\n",
       "    }\n",
       "\n",
       "    .dataframe tbody tr th {\n",
       "        vertical-align: top;\n",
       "    }\n",
       "\n",
       "    .dataframe thead th {\n",
       "        text-align: right;\n",
       "    }\n",
       "</style>\n",
       "<table border=\"1\" class=\"dataframe\">\n",
       "  <thead>\n",
       "    <tr style=\"text-align: right;\">\n",
       "      <th></th>\n",
       "      <th>employee</th>\n",
       "      <th>day</th>\n",
       "      <th>shift</th>\n",
       "      <th>willingness</th>\n",
       "    </tr>\n",
       "  </thead>\n",
       "  <tbody>\n",
       "    <tr>\n",
       "      <th>0</th>\n",
       "      <td>Alice</td>\n",
       "      <td>d1</td>\n",
       "      <td>morning</td>\n",
       "      <td>0.0</td>\n",
       "    </tr>\n",
       "    <tr>\n",
       "      <th>1</th>\n",
       "      <td>Alice</td>\n",
       "      <td>d1</td>\n",
       "      <td>evening</td>\n",
       "      <td>0.0</td>\n",
       "    </tr>\n",
       "    <tr>\n",
       "      <th>2</th>\n",
       "      <td>Alice</td>\n",
       "      <td>d10</td>\n",
       "      <td>morning</td>\n",
       "      <td>-0.5</td>\n",
       "    </tr>\n",
       "    <tr>\n",
       "      <th>3</th>\n",
       "      <td>Alice</td>\n",
       "      <td>d10</td>\n",
       "      <td>evening</td>\n",
       "      <td>-0.5</td>\n",
       "    </tr>\n",
       "    <tr>\n",
       "      <th>4</th>\n",
       "      <td>Alice</td>\n",
       "      <td>d11</td>\n",
       "      <td>morning</td>\n",
       "      <td>0.5</td>\n",
       "    </tr>\n",
       "    <tr>\n",
       "      <th>...</th>\n",
       "      <td>...</td>\n",
       "      <td>...</td>\n",
       "      <td>...</td>\n",
       "      <td>...</td>\n",
       "    </tr>\n",
       "    <tr>\n",
       "      <th>107</th>\n",
       "      <td>Bob</td>\n",
       "      <td>d7</td>\n",
       "      <td>evening</td>\n",
       "      <td>0.0</td>\n",
       "    </tr>\n",
       "    <tr>\n",
       "      <th>108</th>\n",
       "      <td>Bob</td>\n",
       "      <td>d8</td>\n",
       "      <td>morning</td>\n",
       "      <td>1.0</td>\n",
       "    </tr>\n",
       "    <tr>\n",
       "      <th>109</th>\n",
       "      <td>Bob</td>\n",
       "      <td>d8</td>\n",
       "      <td>evening</td>\n",
       "      <td>0.0</td>\n",
       "    </tr>\n",
       "    <tr>\n",
       "      <th>110</th>\n",
       "      <td>Bob</td>\n",
       "      <td>d9</td>\n",
       "      <td>morning</td>\n",
       "      <td>1.0</td>\n",
       "    </tr>\n",
       "    <tr>\n",
       "      <th>111</th>\n",
       "      <td>Bob</td>\n",
       "      <td>d9</td>\n",
       "      <td>evening</td>\n",
       "      <td>0.0</td>\n",
       "    </tr>\n",
       "  </tbody>\n",
       "</table>\n",
       "<p>112 rows × 4 columns</p>\n",
       "</div>"
      ],
      "text/plain": [
       "    employee  day    shift  willingness\n",
       "0      Alice   d1  morning          0.0\n",
       "1      Alice   d1  evening          0.0\n",
       "2      Alice  d10  morning         -0.5\n",
       "3      Alice  d10  evening         -0.5\n",
       "4      Alice  d11  morning          0.5\n",
       "..       ...  ...      ...          ...\n",
       "107      Bob   d7  evening          0.0\n",
       "108      Bob   d8  morning          1.0\n",
       "109      Bob   d8  evening          0.0\n",
       "110      Bob   d9  morning          1.0\n",
       "111      Bob   d9  evening          0.0\n",
       "\n",
       "[112 rows x 4 columns]"
      ]
     },
     "execution_count": 42,
     "metadata": {},
     "output_type": "execute_result"
    }
   ],
   "source": [
    "df_flat"
   ]
  },
  {
   "cell_type": "code",
   "execution_count": 43,
   "id": "28f7ad0648fe48d6",
   "metadata": {
    "ExecuteTime": {
     "end_time": "2025-10-18T13:12:55.722999Z",
     "start_time": "2025-10-18T13:12:55.719348Z"
    }
   },
   "outputs": [],
   "source": [
    "df_flat[\"day\"] = df_flat[\"day\"].str.extract(r\"(\\d+)\").astype(int)\n",
    "df_sorted = df_flat.sort_values([\"employee\", \"day\", \"shift\"]).reset_index(drop=True)"
   ]
  },
  {
   "cell_type": "code",
   "execution_count": 44,
   "id": "820d22fa2589f1d1",
   "metadata": {
    "ExecuteTime": {
     "end_time": "2025-10-18T13:12:55.789620Z",
     "start_time": "2025-10-18T13:12:55.783516Z"
    }
   },
   "outputs": [
    {
     "data": {
      "application/vnd.microsoft.datawrangler.viewer.v0+json": {
       "columns": [
        {
         "name": "index",
         "rawType": "int64",
         "type": "integer"
        },
        {
         "name": "employee",
         "rawType": "object",
         "type": "string"
        },
        {
         "name": "day",
         "rawType": "int64",
         "type": "integer"
        },
        {
         "name": "shift",
         "rawType": "object",
         "type": "string"
        },
        {
         "name": "willingness",
         "rawType": "float64",
         "type": "float"
        }
       ],
       "ref": "1169e6db-5e01-47c1-81ca-269e79633d0d",
       "rows": [
        [
         "0",
         "Alice",
         "1",
         "evening",
         "0.0"
        ],
        [
         "1",
         "Alice",
         "1",
         "morning",
         "0.0"
        ],
        [
         "2",
         "Alice",
         "2",
         "evening",
         "-0.5"
        ],
        [
         "3",
         "Alice",
         "2",
         "morning",
         "-0.5"
        ],
        [
         "4",
         "Alice",
         "3",
         "evening",
         "0.5"
        ],
        [
         "5",
         "Alice",
         "3",
         "morning",
         "0.5"
        ],
        [
         "6",
         "Alice",
         "4",
         "evening",
         "0.5"
        ],
        [
         "7",
         "Alice",
         "4",
         "morning",
         "0.5"
        ],
        [
         "8",
         "Alice",
         "5",
         "evening",
         "0.5"
        ],
        [
         "9",
         "Alice",
         "5",
         "morning",
         "0.5"
        ],
        [
         "10",
         "Alice",
         "6",
         "evening",
         "0.0"
        ],
        [
         "11",
         "Alice",
         "6",
         "morning",
         "0.0"
        ],
        [
         "12",
         "Alice",
         "7",
         "evening",
         "0.0"
        ],
        [
         "13",
         "Alice",
         "7",
         "morning",
         "0.0"
        ],
        [
         "14",
         "Alice",
         "8",
         "evening",
         "0.0"
        ],
        [
         "15",
         "Alice",
         "8",
         "morning",
         "1.0"
        ],
        [
         "16",
         "Alice",
         "9",
         "evening",
         "0.0"
        ],
        [
         "17",
         "Alice",
         "9",
         "morning",
         "1.0"
        ],
        [
         "18",
         "Alice",
         "10",
         "evening",
         "-0.5"
        ],
        [
         "19",
         "Alice",
         "10",
         "morning",
         "-0.5"
        ],
        [
         "20",
         "Alice",
         "11",
         "evening",
         "0.5"
        ],
        [
         "21",
         "Alice",
         "11",
         "morning",
         "0.5"
        ],
        [
         "22",
         "Alice",
         "12",
         "evening",
         "0.5"
        ],
        [
         "23",
         "Alice",
         "12",
         "morning",
         "0.5"
        ],
        [
         "24",
         "Alice",
         "13",
         "evening",
         "0.5"
        ],
        [
         "25",
         "Alice",
         "13",
         "morning",
         "0.5"
        ],
        [
         "26",
         "Alice",
         "14",
         "evening",
         "0.0"
        ],
        [
         "27",
         "Alice",
         "14",
         "morning",
         "0.0"
        ],
        [
         "28",
         "Alice",
         "15",
         "evening",
         "0.0"
        ],
        [
         "29",
         "Alice",
         "15",
         "morning",
         "0.0"
        ],
        [
         "30",
         "Alice",
         "16",
         "evening",
         "0.0"
        ],
        [
         "31",
         "Alice",
         "16",
         "morning",
         "0.0"
        ],
        [
         "32",
         "Alice",
         "17",
         "evening",
         "-0.5"
        ],
        [
         "33",
         "Alice",
         "17",
         "morning",
         "-0.5"
        ],
        [
         "34",
         "Alice",
         "18",
         "evening",
         "0.5"
        ],
        [
         "35",
         "Alice",
         "18",
         "morning",
         "0.5"
        ],
        [
         "36",
         "Alice",
         "19",
         "evening",
         "0.5"
        ],
        [
         "37",
         "Alice",
         "19",
         "morning",
         "0.5"
        ],
        [
         "38",
         "Alice",
         "20",
         "evening",
         "0.5"
        ],
        [
         "39",
         "Alice",
         "20",
         "morning",
         "0.5"
        ],
        [
         "40",
         "Alice",
         "21",
         "evening",
         "0.0"
        ],
        [
         "41",
         "Alice",
         "21",
         "morning",
         "0.0"
        ],
        [
         "42",
         "Alice",
         "22",
         "evening",
         "0.0"
        ],
        [
         "43",
         "Alice",
         "22",
         "morning",
         "1.0"
        ],
        [
         "44",
         "Alice",
         "23",
         "evening",
         "0.0"
        ],
        [
         "45",
         "Alice",
         "23",
         "morning",
         "1.0"
        ],
        [
         "46",
         "Alice",
         "24",
         "evening",
         "-0.5"
        ],
        [
         "47",
         "Alice",
         "24",
         "morning",
         "-0.5"
        ],
        [
         "48",
         "Alice",
         "25",
         "evening",
         "0.5"
        ],
        [
         "49",
         "Alice",
         "25",
         "morning",
         "0.5"
        ]
       ],
       "shape": {
        "columns": 4,
        "rows": 112
       }
      },
      "text/html": [
       "<div>\n",
       "<style scoped>\n",
       "    .dataframe tbody tr th:only-of-type {\n",
       "        vertical-align: middle;\n",
       "    }\n",
       "\n",
       "    .dataframe tbody tr th {\n",
       "        vertical-align: top;\n",
       "    }\n",
       "\n",
       "    .dataframe thead th {\n",
       "        text-align: right;\n",
       "    }\n",
       "</style>\n",
       "<table border=\"1\" class=\"dataframe\">\n",
       "  <thead>\n",
       "    <tr style=\"text-align: right;\">\n",
       "      <th></th>\n",
       "      <th>employee</th>\n",
       "      <th>day</th>\n",
       "      <th>shift</th>\n",
       "      <th>willingness</th>\n",
       "    </tr>\n",
       "  </thead>\n",
       "  <tbody>\n",
       "    <tr>\n",
       "      <th>0</th>\n",
       "      <td>Alice</td>\n",
       "      <td>1</td>\n",
       "      <td>evening</td>\n",
       "      <td>0.0</td>\n",
       "    </tr>\n",
       "    <tr>\n",
       "      <th>1</th>\n",
       "      <td>Alice</td>\n",
       "      <td>1</td>\n",
       "      <td>morning</td>\n",
       "      <td>0.0</td>\n",
       "    </tr>\n",
       "    <tr>\n",
       "      <th>2</th>\n",
       "      <td>Alice</td>\n",
       "      <td>2</td>\n",
       "      <td>evening</td>\n",
       "      <td>-0.5</td>\n",
       "    </tr>\n",
       "    <tr>\n",
       "      <th>3</th>\n",
       "      <td>Alice</td>\n",
       "      <td>2</td>\n",
       "      <td>morning</td>\n",
       "      <td>-0.5</td>\n",
       "    </tr>\n",
       "    <tr>\n",
       "      <th>4</th>\n",
       "      <td>Alice</td>\n",
       "      <td>3</td>\n",
       "      <td>evening</td>\n",
       "      <td>0.5</td>\n",
       "    </tr>\n",
       "    <tr>\n",
       "      <th>...</th>\n",
       "      <td>...</td>\n",
       "      <td>...</td>\n",
       "      <td>...</td>\n",
       "      <td>...</td>\n",
       "    </tr>\n",
       "    <tr>\n",
       "      <th>107</th>\n",
       "      <td>Bob</td>\n",
       "      <td>26</td>\n",
       "      <td>morning</td>\n",
       "      <td>0.5</td>\n",
       "    </tr>\n",
       "    <tr>\n",
       "      <th>108</th>\n",
       "      <td>Bob</td>\n",
       "      <td>27</td>\n",
       "      <td>evening</td>\n",
       "      <td>0.5</td>\n",
       "    </tr>\n",
       "    <tr>\n",
       "      <th>109</th>\n",
       "      <td>Bob</td>\n",
       "      <td>27</td>\n",
       "      <td>morning</td>\n",
       "      <td>0.5</td>\n",
       "    </tr>\n",
       "    <tr>\n",
       "      <th>110</th>\n",
       "      <td>Bob</td>\n",
       "      <td>28</td>\n",
       "      <td>evening</td>\n",
       "      <td>0.0</td>\n",
       "    </tr>\n",
       "    <tr>\n",
       "      <th>111</th>\n",
       "      <td>Bob</td>\n",
       "      <td>28</td>\n",
       "      <td>morning</td>\n",
       "      <td>0.0</td>\n",
       "    </tr>\n",
       "  </tbody>\n",
       "</table>\n",
       "<p>112 rows × 4 columns</p>\n",
       "</div>"
      ],
      "text/plain": [
       "    employee  day    shift  willingness\n",
       "0      Alice    1  evening          0.0\n",
       "1      Alice    1  morning          0.0\n",
       "2      Alice    2  evening         -0.5\n",
       "3      Alice    2  morning         -0.5\n",
       "4      Alice    3  evening          0.5\n",
       "..       ...  ...      ...          ...\n",
       "107      Bob   26  morning          0.5\n",
       "108      Bob   27  evening          0.5\n",
       "109      Bob   27  morning          0.5\n",
       "110      Bob   28  evening          0.0\n",
       "111      Bob   28  morning          0.0\n",
       "\n",
       "[112 rows x 4 columns]"
      ]
     },
     "execution_count": 44,
     "metadata": {},
     "output_type": "execute_result"
    }
   ],
   "source": [
    "df_sorted"
   ]
  },
  {
   "cell_type": "code",
   "execution_count": 45,
   "id": "a9c1933122baa499",
   "metadata": {
    "ExecuteTime": {
     "end_time": "2025-10-18T13:12:56.007096Z",
     "start_time": "2025-10-18T13:12:55.994961Z"
    }
   },
   "outputs": [
    {
     "data": {
      "application/vnd.microsoft.datawrangler.viewer.v0+json": {
       "columns": [
        {
         "name": "index",
         "rawType": "int64",
         "type": "integer"
        },
        {
         "name": "employee",
         "rawType": "object",
         "type": "string"
        },
        {
         "name": "day",
         "rawType": "int64",
         "type": "integer"
        },
        {
         "name": "shift",
         "rawType": "object",
         "type": "string"
        },
        {
         "name": "willingness",
         "rawType": "float64",
         "type": "float"
        }
       ],
       "ref": "658fc5b2-6eca-4c8c-9fb5-c3d2dc1c079c",
       "rows": [
        [
         "0",
         "Alice",
         "1",
         "evening",
         "0.0"
        ],
        [
         "1",
         "Alice",
         "1",
         "morning",
         "0.0"
        ],
        [
         "2",
         "Alice",
         "2",
         "evening",
         "-0.5"
        ],
        [
         "3",
         "Alice",
         "2",
         "morning",
         "-0.5"
        ],
        [
         "4",
         "Alice",
         "3",
         "evening",
         "0.5"
        ],
        [
         "5",
         "Alice",
         "3",
         "morning",
         "0.5"
        ],
        [
         "6",
         "Alice",
         "4",
         "evening",
         "0.5"
        ],
        [
         "7",
         "Alice",
         "4",
         "morning",
         "0.5"
        ],
        [
         "8",
         "Alice",
         "5",
         "evening",
         "0.5"
        ],
        [
         "9",
         "Alice",
         "5",
         "morning",
         "0.5"
        ],
        [
         "10",
         "Alice",
         "6",
         "evening",
         "0.0"
        ],
        [
         "11",
         "Alice",
         "6",
         "morning",
         "0.0"
        ],
        [
         "12",
         "Alice",
         "7",
         "evening",
         "0.0"
        ],
        [
         "13",
         "Alice",
         "7",
         "morning",
         "0.0"
        ],
        [
         "14",
         "Alice",
         "8",
         "evening",
         "0.0"
        ],
        [
         "15",
         "Alice",
         "8",
         "morning",
         "1.0"
        ],
        [
         "16",
         "Alice",
         "9",
         "evening",
         "0.0"
        ],
        [
         "17",
         "Alice",
         "9",
         "morning",
         "1.0"
        ],
        [
         "18",
         "Alice",
         "10",
         "evening",
         "-0.5"
        ],
        [
         "19",
         "Alice",
         "10",
         "morning",
         "-0.5"
        ],
        [
         "20",
         "Alice",
         "11",
         "evening",
         "0.5"
        ],
        [
         "21",
         "Alice",
         "11",
         "morning",
         "0.5"
        ],
        [
         "22",
         "Alice",
         "12",
         "evening",
         "0.5"
        ],
        [
         "23",
         "Alice",
         "12",
         "morning",
         "0.5"
        ],
        [
         "24",
         "Alice",
         "13",
         "evening",
         "0.5"
        ],
        [
         "25",
         "Alice",
         "13",
         "morning",
         "0.5"
        ],
        [
         "26",
         "Alice",
         "14",
         "evening",
         "0.0"
        ],
        [
         "27",
         "Alice",
         "14",
         "morning",
         "0.0"
        ],
        [
         "28",
         "Alice",
         "15",
         "evening",
         "0.0"
        ],
        [
         "29",
         "Alice",
         "15",
         "morning",
         "0.0"
        ],
        [
         "30",
         "Alice",
         "16",
         "evening",
         "0.0"
        ],
        [
         "31",
         "Alice",
         "16",
         "morning",
         "0.0"
        ],
        [
         "32",
         "Alice",
         "17",
         "evening",
         "-0.5"
        ],
        [
         "33",
         "Alice",
         "17",
         "morning",
         "-0.5"
        ],
        [
         "34",
         "Alice",
         "18",
         "evening",
         "0.5"
        ],
        [
         "35",
         "Alice",
         "18",
         "morning",
         "0.5"
        ],
        [
         "36",
         "Alice",
         "19",
         "evening",
         "0.5"
        ],
        [
         "37",
         "Alice",
         "19",
         "morning",
         "0.5"
        ],
        [
         "38",
         "Alice",
         "20",
         "evening",
         "0.5"
        ],
        [
         "39",
         "Alice",
         "20",
         "morning",
         "0.5"
        ],
        [
         "40",
         "Alice",
         "21",
         "evening",
         "0.0"
        ],
        [
         "41",
         "Alice",
         "21",
         "morning",
         "0.0"
        ],
        [
         "42",
         "Alice",
         "22",
         "evening",
         "0.0"
        ],
        [
         "43",
         "Alice",
         "22",
         "morning",
         "1.0"
        ],
        [
         "44",
         "Alice",
         "23",
         "evening",
         "0.0"
        ],
        [
         "45",
         "Alice",
         "23",
         "morning",
         "1.0"
        ],
        [
         "46",
         "Alice",
         "24",
         "evening",
         "-0.5"
        ],
        [
         "47",
         "Alice",
         "24",
         "morning",
         "-0.5"
        ],
        [
         "48",
         "Alice",
         "25",
         "evening",
         "0.5"
        ],
        [
         "49",
         "Alice",
         "25",
         "morning",
         "0.5"
        ]
       ],
       "shape": {
        "columns": 4,
        "rows": 56
       }
      },
      "text/html": [
       "<div>\n",
       "<style scoped>\n",
       "    .dataframe tbody tr th:only-of-type {\n",
       "        vertical-align: middle;\n",
       "    }\n",
       "\n",
       "    .dataframe tbody tr th {\n",
       "        vertical-align: top;\n",
       "    }\n",
       "\n",
       "    .dataframe thead th {\n",
       "        text-align: right;\n",
       "    }\n",
       "</style>\n",
       "<table border=\"1\" class=\"dataframe\">\n",
       "  <thead>\n",
       "    <tr style=\"text-align: right;\">\n",
       "      <th></th>\n",
       "      <th>employee</th>\n",
       "      <th>day</th>\n",
       "      <th>shift</th>\n",
       "      <th>willingness</th>\n",
       "    </tr>\n",
       "  </thead>\n",
       "  <tbody>\n",
       "    <tr>\n",
       "      <th>0</th>\n",
       "      <td>Alice</td>\n",
       "      <td>1</td>\n",
       "      <td>evening</td>\n",
       "      <td>0.0</td>\n",
       "    </tr>\n",
       "    <tr>\n",
       "      <th>1</th>\n",
       "      <td>Alice</td>\n",
       "      <td>1</td>\n",
       "      <td>morning</td>\n",
       "      <td>0.0</td>\n",
       "    </tr>\n",
       "    <tr>\n",
       "      <th>2</th>\n",
       "      <td>Alice</td>\n",
       "      <td>2</td>\n",
       "      <td>evening</td>\n",
       "      <td>-0.5</td>\n",
       "    </tr>\n",
       "    <tr>\n",
       "      <th>3</th>\n",
       "      <td>Alice</td>\n",
       "      <td>2</td>\n",
       "      <td>morning</td>\n",
       "      <td>-0.5</td>\n",
       "    </tr>\n",
       "    <tr>\n",
       "      <th>4</th>\n",
       "      <td>Alice</td>\n",
       "      <td>3</td>\n",
       "      <td>evening</td>\n",
       "      <td>0.5</td>\n",
       "    </tr>\n",
       "    <tr>\n",
       "      <th>5</th>\n",
       "      <td>Alice</td>\n",
       "      <td>3</td>\n",
       "      <td>morning</td>\n",
       "      <td>0.5</td>\n",
       "    </tr>\n",
       "    <tr>\n",
       "      <th>6</th>\n",
       "      <td>Alice</td>\n",
       "      <td>4</td>\n",
       "      <td>evening</td>\n",
       "      <td>0.5</td>\n",
       "    </tr>\n",
       "    <tr>\n",
       "      <th>7</th>\n",
       "      <td>Alice</td>\n",
       "      <td>4</td>\n",
       "      <td>morning</td>\n",
       "      <td>0.5</td>\n",
       "    </tr>\n",
       "    <tr>\n",
       "      <th>8</th>\n",
       "      <td>Alice</td>\n",
       "      <td>5</td>\n",
       "      <td>evening</td>\n",
       "      <td>0.5</td>\n",
       "    </tr>\n",
       "    <tr>\n",
       "      <th>9</th>\n",
       "      <td>Alice</td>\n",
       "      <td>5</td>\n",
       "      <td>morning</td>\n",
       "      <td>0.5</td>\n",
       "    </tr>\n",
       "    <tr>\n",
       "      <th>10</th>\n",
       "      <td>Alice</td>\n",
       "      <td>6</td>\n",
       "      <td>evening</td>\n",
       "      <td>0.0</td>\n",
       "    </tr>\n",
       "    <tr>\n",
       "      <th>11</th>\n",
       "      <td>Alice</td>\n",
       "      <td>6</td>\n",
       "      <td>morning</td>\n",
       "      <td>0.0</td>\n",
       "    </tr>\n",
       "    <tr>\n",
       "      <th>12</th>\n",
       "      <td>Alice</td>\n",
       "      <td>7</td>\n",
       "      <td>evening</td>\n",
       "      <td>0.0</td>\n",
       "    </tr>\n",
       "    <tr>\n",
       "      <th>13</th>\n",
       "      <td>Alice</td>\n",
       "      <td>7</td>\n",
       "      <td>morning</td>\n",
       "      <td>0.0</td>\n",
       "    </tr>\n",
       "    <tr>\n",
       "      <th>14</th>\n",
       "      <td>Alice</td>\n",
       "      <td>8</td>\n",
       "      <td>evening</td>\n",
       "      <td>0.0</td>\n",
       "    </tr>\n",
       "    <tr>\n",
       "      <th>15</th>\n",
       "      <td>Alice</td>\n",
       "      <td>8</td>\n",
       "      <td>morning</td>\n",
       "      <td>1.0</td>\n",
       "    </tr>\n",
       "    <tr>\n",
       "      <th>16</th>\n",
       "      <td>Alice</td>\n",
       "      <td>9</td>\n",
       "      <td>evening</td>\n",
       "      <td>0.0</td>\n",
       "    </tr>\n",
       "    <tr>\n",
       "      <th>17</th>\n",
       "      <td>Alice</td>\n",
       "      <td>9</td>\n",
       "      <td>morning</td>\n",
       "      <td>1.0</td>\n",
       "    </tr>\n",
       "    <tr>\n",
       "      <th>18</th>\n",
       "      <td>Alice</td>\n",
       "      <td>10</td>\n",
       "      <td>evening</td>\n",
       "      <td>-0.5</td>\n",
       "    </tr>\n",
       "    <tr>\n",
       "      <th>19</th>\n",
       "      <td>Alice</td>\n",
       "      <td>10</td>\n",
       "      <td>morning</td>\n",
       "      <td>-0.5</td>\n",
       "    </tr>\n",
       "    <tr>\n",
       "      <th>20</th>\n",
       "      <td>Alice</td>\n",
       "      <td>11</td>\n",
       "      <td>evening</td>\n",
       "      <td>0.5</td>\n",
       "    </tr>\n",
       "    <tr>\n",
       "      <th>21</th>\n",
       "      <td>Alice</td>\n",
       "      <td>11</td>\n",
       "      <td>morning</td>\n",
       "      <td>0.5</td>\n",
       "    </tr>\n",
       "    <tr>\n",
       "      <th>22</th>\n",
       "      <td>Alice</td>\n",
       "      <td>12</td>\n",
       "      <td>evening</td>\n",
       "      <td>0.5</td>\n",
       "    </tr>\n",
       "    <tr>\n",
       "      <th>23</th>\n",
       "      <td>Alice</td>\n",
       "      <td>12</td>\n",
       "      <td>morning</td>\n",
       "      <td>0.5</td>\n",
       "    </tr>\n",
       "    <tr>\n",
       "      <th>24</th>\n",
       "      <td>Alice</td>\n",
       "      <td>13</td>\n",
       "      <td>evening</td>\n",
       "      <td>0.5</td>\n",
       "    </tr>\n",
       "    <tr>\n",
       "      <th>25</th>\n",
       "      <td>Alice</td>\n",
       "      <td>13</td>\n",
       "      <td>morning</td>\n",
       "      <td>0.5</td>\n",
       "    </tr>\n",
       "    <tr>\n",
       "      <th>26</th>\n",
       "      <td>Alice</td>\n",
       "      <td>14</td>\n",
       "      <td>evening</td>\n",
       "      <td>0.0</td>\n",
       "    </tr>\n",
       "    <tr>\n",
       "      <th>27</th>\n",
       "      <td>Alice</td>\n",
       "      <td>14</td>\n",
       "      <td>morning</td>\n",
       "      <td>0.0</td>\n",
       "    </tr>\n",
       "    <tr>\n",
       "      <th>28</th>\n",
       "      <td>Alice</td>\n",
       "      <td>15</td>\n",
       "      <td>evening</td>\n",
       "      <td>0.0</td>\n",
       "    </tr>\n",
       "    <tr>\n",
       "      <th>29</th>\n",
       "      <td>Alice</td>\n",
       "      <td>15</td>\n",
       "      <td>morning</td>\n",
       "      <td>0.0</td>\n",
       "    </tr>\n",
       "    <tr>\n",
       "      <th>30</th>\n",
       "      <td>Alice</td>\n",
       "      <td>16</td>\n",
       "      <td>evening</td>\n",
       "      <td>0.0</td>\n",
       "    </tr>\n",
       "    <tr>\n",
       "      <th>31</th>\n",
       "      <td>Alice</td>\n",
       "      <td>16</td>\n",
       "      <td>morning</td>\n",
       "      <td>0.0</td>\n",
       "    </tr>\n",
       "    <tr>\n",
       "      <th>32</th>\n",
       "      <td>Alice</td>\n",
       "      <td>17</td>\n",
       "      <td>evening</td>\n",
       "      <td>-0.5</td>\n",
       "    </tr>\n",
       "    <tr>\n",
       "      <th>33</th>\n",
       "      <td>Alice</td>\n",
       "      <td>17</td>\n",
       "      <td>morning</td>\n",
       "      <td>-0.5</td>\n",
       "    </tr>\n",
       "    <tr>\n",
       "      <th>34</th>\n",
       "      <td>Alice</td>\n",
       "      <td>18</td>\n",
       "      <td>evening</td>\n",
       "      <td>0.5</td>\n",
       "    </tr>\n",
       "    <tr>\n",
       "      <th>35</th>\n",
       "      <td>Alice</td>\n",
       "      <td>18</td>\n",
       "      <td>morning</td>\n",
       "      <td>0.5</td>\n",
       "    </tr>\n",
       "    <tr>\n",
       "      <th>36</th>\n",
       "      <td>Alice</td>\n",
       "      <td>19</td>\n",
       "      <td>evening</td>\n",
       "      <td>0.5</td>\n",
       "    </tr>\n",
       "    <tr>\n",
       "      <th>37</th>\n",
       "      <td>Alice</td>\n",
       "      <td>19</td>\n",
       "      <td>morning</td>\n",
       "      <td>0.5</td>\n",
       "    </tr>\n",
       "    <tr>\n",
       "      <th>38</th>\n",
       "      <td>Alice</td>\n",
       "      <td>20</td>\n",
       "      <td>evening</td>\n",
       "      <td>0.5</td>\n",
       "    </tr>\n",
       "    <tr>\n",
       "      <th>39</th>\n",
       "      <td>Alice</td>\n",
       "      <td>20</td>\n",
       "      <td>morning</td>\n",
       "      <td>0.5</td>\n",
       "    </tr>\n",
       "    <tr>\n",
       "      <th>40</th>\n",
       "      <td>Alice</td>\n",
       "      <td>21</td>\n",
       "      <td>evening</td>\n",
       "      <td>0.0</td>\n",
       "    </tr>\n",
       "    <tr>\n",
       "      <th>41</th>\n",
       "      <td>Alice</td>\n",
       "      <td>21</td>\n",
       "      <td>morning</td>\n",
       "      <td>0.0</td>\n",
       "    </tr>\n",
       "    <tr>\n",
       "      <th>42</th>\n",
       "      <td>Alice</td>\n",
       "      <td>22</td>\n",
       "      <td>evening</td>\n",
       "      <td>0.0</td>\n",
       "    </tr>\n",
       "    <tr>\n",
       "      <th>43</th>\n",
       "      <td>Alice</td>\n",
       "      <td>22</td>\n",
       "      <td>morning</td>\n",
       "      <td>1.0</td>\n",
       "    </tr>\n",
       "    <tr>\n",
       "      <th>44</th>\n",
       "      <td>Alice</td>\n",
       "      <td>23</td>\n",
       "      <td>evening</td>\n",
       "      <td>0.0</td>\n",
       "    </tr>\n",
       "    <tr>\n",
       "      <th>45</th>\n",
       "      <td>Alice</td>\n",
       "      <td>23</td>\n",
       "      <td>morning</td>\n",
       "      <td>1.0</td>\n",
       "    </tr>\n",
       "    <tr>\n",
       "      <th>46</th>\n",
       "      <td>Alice</td>\n",
       "      <td>24</td>\n",
       "      <td>evening</td>\n",
       "      <td>-0.5</td>\n",
       "    </tr>\n",
       "    <tr>\n",
       "      <th>47</th>\n",
       "      <td>Alice</td>\n",
       "      <td>24</td>\n",
       "      <td>morning</td>\n",
       "      <td>-0.5</td>\n",
       "    </tr>\n",
       "    <tr>\n",
       "      <th>48</th>\n",
       "      <td>Alice</td>\n",
       "      <td>25</td>\n",
       "      <td>evening</td>\n",
       "      <td>0.5</td>\n",
       "    </tr>\n",
       "    <tr>\n",
       "      <th>49</th>\n",
       "      <td>Alice</td>\n",
       "      <td>25</td>\n",
       "      <td>morning</td>\n",
       "      <td>0.5</td>\n",
       "    </tr>\n",
       "    <tr>\n",
       "      <th>50</th>\n",
       "      <td>Alice</td>\n",
       "      <td>26</td>\n",
       "      <td>evening</td>\n",
       "      <td>0.5</td>\n",
       "    </tr>\n",
       "    <tr>\n",
       "      <th>51</th>\n",
       "      <td>Alice</td>\n",
       "      <td>26</td>\n",
       "      <td>morning</td>\n",
       "      <td>0.5</td>\n",
       "    </tr>\n",
       "    <tr>\n",
       "      <th>52</th>\n",
       "      <td>Alice</td>\n",
       "      <td>27</td>\n",
       "      <td>evening</td>\n",
       "      <td>0.5</td>\n",
       "    </tr>\n",
       "    <tr>\n",
       "      <th>53</th>\n",
       "      <td>Alice</td>\n",
       "      <td>27</td>\n",
       "      <td>morning</td>\n",
       "      <td>0.5</td>\n",
       "    </tr>\n",
       "    <tr>\n",
       "      <th>54</th>\n",
       "      <td>Alice</td>\n",
       "      <td>28</td>\n",
       "      <td>evening</td>\n",
       "      <td>0.0</td>\n",
       "    </tr>\n",
       "    <tr>\n",
       "      <th>55</th>\n",
       "      <td>Alice</td>\n",
       "      <td>28</td>\n",
       "      <td>morning</td>\n",
       "      <td>0.0</td>\n",
       "    </tr>\n",
       "  </tbody>\n",
       "</table>\n",
       "</div>"
      ],
      "text/plain": [
       "   employee  day    shift  willingness\n",
       "0     Alice    1  evening          0.0\n",
       "1     Alice    1  morning          0.0\n",
       "2     Alice    2  evening         -0.5\n",
       "3     Alice    2  morning         -0.5\n",
       "4     Alice    3  evening          0.5\n",
       "5     Alice    3  morning          0.5\n",
       "6     Alice    4  evening          0.5\n",
       "7     Alice    4  morning          0.5\n",
       "8     Alice    5  evening          0.5\n",
       "9     Alice    5  morning          0.5\n",
       "10    Alice    6  evening          0.0\n",
       "11    Alice    6  morning          0.0\n",
       "12    Alice    7  evening          0.0\n",
       "13    Alice    7  morning          0.0\n",
       "14    Alice    8  evening          0.0\n",
       "15    Alice    8  morning          1.0\n",
       "16    Alice    9  evening          0.0\n",
       "17    Alice    9  morning          1.0\n",
       "18    Alice   10  evening         -0.5\n",
       "19    Alice   10  morning         -0.5\n",
       "20    Alice   11  evening          0.5\n",
       "21    Alice   11  morning          0.5\n",
       "22    Alice   12  evening          0.5\n",
       "23    Alice   12  morning          0.5\n",
       "24    Alice   13  evening          0.5\n",
       "25    Alice   13  morning          0.5\n",
       "26    Alice   14  evening          0.0\n",
       "27    Alice   14  morning          0.0\n",
       "28    Alice   15  evening          0.0\n",
       "29    Alice   15  morning          0.0\n",
       "30    Alice   16  evening          0.0\n",
       "31    Alice   16  morning          0.0\n",
       "32    Alice   17  evening         -0.5\n",
       "33    Alice   17  morning         -0.5\n",
       "34    Alice   18  evening          0.5\n",
       "35    Alice   18  morning          0.5\n",
       "36    Alice   19  evening          0.5\n",
       "37    Alice   19  morning          0.5\n",
       "38    Alice   20  evening          0.5\n",
       "39    Alice   20  morning          0.5\n",
       "40    Alice   21  evening          0.0\n",
       "41    Alice   21  morning          0.0\n",
       "42    Alice   22  evening          0.0\n",
       "43    Alice   22  morning          1.0\n",
       "44    Alice   23  evening          0.0\n",
       "45    Alice   23  morning          1.0\n",
       "46    Alice   24  evening         -0.5\n",
       "47    Alice   24  morning         -0.5\n",
       "48    Alice   25  evening          0.5\n",
       "49    Alice   25  morning          0.5\n",
       "50    Alice   26  evening          0.5\n",
       "51    Alice   26  morning          0.5\n",
       "52    Alice   27  evening          0.5\n",
       "53    Alice   27  morning          0.5\n",
       "54    Alice   28  evening          0.0\n",
       "55    Alice   28  morning          0.0"
      ]
     },
     "execution_count": 45,
     "metadata": {},
     "output_type": "execute_result"
    }
   ],
   "source": [
    "df_sorted[df_sorted[\"employee\"] == \"Alice\"]"
   ]
  },
  {
   "cell_type": "code",
   "execution_count": 46,
   "id": "8361875d1b14bf31",
   "metadata": {
    "ExecuteTime": {
     "end_time": "2025-10-18T13:12:56.100610Z",
     "start_time": "2025-10-18T13:12:56.098272Z"
    }
   },
   "outputs": [],
   "source": [
    "M_LLM_willingness = df_sorted[[\"employee\", \"day\", \"shift\", \"willingness\"]].values.tolist()"
   ]
  },
  {
   "cell_type": "code",
   "execution_count": 47,
   "id": "4291f2bfbe0fb841",
   "metadata": {
    "ExecuteTime": {
     "end_time": "2025-10-18T13:12:56.132035Z",
     "start_time": "2025-10-18T13:12:56.123985Z"
    }
   },
   "outputs": [
    {
     "data": {
      "text/plain": [
       "[['Alice', 1, 'evening', 0.0],\n",
       " ['Alice', 1, 'morning', 0.0],\n",
       " ['Alice', 2, 'evening', -0.5],\n",
       " ['Alice', 2, 'morning', -0.5],\n",
       " ['Alice', 3, 'evening', 0.5],\n",
       " ['Alice', 3, 'morning', 0.5],\n",
       " ['Alice', 4, 'evening', 0.5],\n",
       " ['Alice', 4, 'morning', 0.5],\n",
       " ['Alice', 5, 'evening', 0.5],\n",
       " ['Alice', 5, 'morning', 0.5],\n",
       " ['Alice', 6, 'evening', 0.0],\n",
       " ['Alice', 6, 'morning', 0.0],\n",
       " ['Alice', 7, 'evening', 0.0],\n",
       " ['Alice', 7, 'morning', 0.0],\n",
       " ['Alice', 8, 'evening', 0.0],\n",
       " ['Alice', 8, 'morning', 1.0],\n",
       " ['Alice', 9, 'evening', 0.0],\n",
       " ['Alice', 9, 'morning', 1.0],\n",
       " ['Alice', 10, 'evening', -0.5],\n",
       " ['Alice', 10, 'morning', -0.5],\n",
       " ['Alice', 11, 'evening', 0.5],\n",
       " ['Alice', 11, 'morning', 0.5],\n",
       " ['Alice', 12, 'evening', 0.5],\n",
       " ['Alice', 12, 'morning', 0.5],\n",
       " ['Alice', 13, 'evening', 0.5],\n",
       " ['Alice', 13, 'morning', 0.5],\n",
       " ['Alice', 14, 'evening', 0.0],\n",
       " ['Alice', 14, 'morning', 0.0],\n",
       " ['Alice', 15, 'evening', 0.0],\n",
       " ['Alice', 15, 'morning', 0.0],\n",
       " ['Alice', 16, 'evening', 0.0],\n",
       " ['Alice', 16, 'morning', 0.0],\n",
       " ['Alice', 17, 'evening', -0.5],\n",
       " ['Alice', 17, 'morning', -0.5],\n",
       " ['Alice', 18, 'evening', 0.5],\n",
       " ['Alice', 18, 'morning', 0.5],\n",
       " ['Alice', 19, 'evening', 0.5],\n",
       " ['Alice', 19, 'morning', 0.5],\n",
       " ['Alice', 20, 'evening', 0.5],\n",
       " ['Alice', 20, 'morning', 0.5],\n",
       " ['Alice', 21, 'evening', 0.0],\n",
       " ['Alice', 21, 'morning', 0.0],\n",
       " ['Alice', 22, 'evening', 0.0],\n",
       " ['Alice', 22, 'morning', 1.0],\n",
       " ['Alice', 23, 'evening', 0.0],\n",
       " ['Alice', 23, 'morning', 1.0],\n",
       " ['Alice', 24, 'evening', -0.5],\n",
       " ['Alice', 24, 'morning', -0.5],\n",
       " ['Alice', 25, 'evening', 0.5],\n",
       " ['Alice', 25, 'morning', 0.5],\n",
       " ['Alice', 26, 'evening', 0.5],\n",
       " ['Alice', 26, 'morning', 0.5],\n",
       " ['Alice', 27, 'evening', 0.5],\n",
       " ['Alice', 27, 'morning', 0.5],\n",
       " ['Alice', 28, 'evening', 0.0],\n",
       " ['Alice', 28, 'morning', 0.0],\n",
       " ['Bob', 1, 'evening', 0.0],\n",
       " ['Bob', 1, 'morning', 0.0],\n",
       " ['Bob', 2, 'evening', -0.5],\n",
       " ['Bob', 2, 'morning', -0.5],\n",
       " ['Bob', 3, 'evening', 0.5],\n",
       " ['Bob', 3, 'morning', 0.5],\n",
       " ['Bob', 4, 'evening', 0.5],\n",
       " ['Bob', 4, 'morning', 0.5],\n",
       " ['Bob', 5, 'evening', 0.5],\n",
       " ['Bob', 5, 'morning', 0.5],\n",
       " ['Bob', 6, 'evening', 0.0],\n",
       " ['Bob', 6, 'morning', 0.0],\n",
       " ['Bob', 7, 'evening', 0.0],\n",
       " ['Bob', 7, 'morning', 0.0],\n",
       " ['Bob', 8, 'evening', 0.0],\n",
       " ['Bob', 8, 'morning', 1.0],\n",
       " ['Bob', 9, 'evening', 0.0],\n",
       " ['Bob', 9, 'morning', 1.0],\n",
       " ['Bob', 10, 'evening', -0.5],\n",
       " ['Bob', 10, 'morning', -0.5],\n",
       " ['Bob', 11, 'evening', 0.5],\n",
       " ['Bob', 11, 'morning', 0.5],\n",
       " ['Bob', 12, 'evening', 0.5],\n",
       " ['Bob', 12, 'morning', 0.5],\n",
       " ['Bob', 13, 'evening', 0.5],\n",
       " ['Bob', 13, 'morning', 0.5],\n",
       " ['Bob', 14, 'evening', 0.0],\n",
       " ['Bob', 14, 'morning', 0.0],\n",
       " ['Bob', 15, 'evening', 0.0],\n",
       " ['Bob', 15, 'morning', 0.0],\n",
       " ['Bob', 16, 'evening', 0.0],\n",
       " ['Bob', 16, 'morning', 0.0],\n",
       " ['Bob', 17, 'evening', -0.5],\n",
       " ['Bob', 17, 'morning', -0.5],\n",
       " ['Bob', 18, 'evening', 0.5],\n",
       " ['Bob', 18, 'morning', 0.5],\n",
       " ['Bob', 19, 'evening', 0.5],\n",
       " ['Bob', 19, 'morning', 0.5],\n",
       " ['Bob', 20, 'evening', 0.5],\n",
       " ['Bob', 20, 'morning', 0.5],\n",
       " ['Bob', 21, 'evening', 0.0],\n",
       " ['Bob', 21, 'morning', 0.0],\n",
       " ['Bob', 22, 'evening', 0.0],\n",
       " ['Bob', 22, 'morning', 1.0],\n",
       " ['Bob', 23, 'evening', 0.0],\n",
       " ['Bob', 23, 'morning', 1.0],\n",
       " ['Bob', 24, 'evening', -0.5],\n",
       " ['Bob', 24, 'morning', -0.5],\n",
       " ['Bob', 25, 'evening', 0.5],\n",
       " ['Bob', 25, 'morning', 0.5],\n",
       " ['Bob', 26, 'evening', 0.5],\n",
       " ['Bob', 26, 'morning', 0.5],\n",
       " ['Bob', 27, 'evening', 0.5],\n",
       " ['Bob', 27, 'morning', 0.5],\n",
       " ['Bob', 28, 'evening', 0.0],\n",
       " ['Bob', 28, 'morning', 0.0]]"
      ]
     },
     "execution_count": 47,
     "metadata": {},
     "output_type": "execute_result"
    }
   ],
   "source": [
    "M_LLM_willingness"
   ]
  },
  {
   "cell_type": "markdown",
   "id": "23e81cd4c243fe16",
   "metadata": {},
   "source": [
    "# Availability Matrix"
   ]
  },
  {
   "cell_type": "code",
   "execution_count": 48,
   "id": "df5e0bd1b05ceb97",
   "metadata": {},
   "outputs": [],
   "source": [
    "df_av = pd.read_json(\"availability_mat.json\")"
   ]
  },
  {
   "cell_type": "code",
   "execution_count": 49,
   "id": "5d972e49",
   "metadata": {},
   "outputs": [
    {
     "data": {
      "application/vnd.microsoft.datawrangler.viewer.v0+json": {
       "columns": [
        {
         "name": "index",
         "rawType": "object",
         "type": "string"
        },
        {
         "name": "Alice",
         "rawType": "object",
         "type": "unknown"
        },
        {
         "name": "Bob",
         "rawType": "object",
         "type": "unknown"
        },
        {
         "name": "Carol",
         "rawType": "object",
         "type": "unknown"
        }
       ],
       "ref": "6739a4dd-706c-48a1-b1a3-a5e603b74082",
       "rows": [
        [
         "availability_calendar",
         "{'2025-11-01': {'morning': 'O', 'evening': 'X'}, '2025-11-02': {'morning': 'O', 'evening': 'O'}, '2025-11-03': {'morning': 'X', 'evening': 'O'}, '2025-11-04': {'morning': 'O', 'evening': 'O'}, '2025-11-05': {'morning': 'X', 'evening': 'X'}, '2025-11-06': {'morning': 'O', 'evening': 'O'}, '2025-11-07': {'morning': 'X', 'evening': 'O'}}",
         "{'2025-11-01': {'morning': 'X', 'evening': 'O'}, '2025-11-02': {'morning': 'X', 'evening': 'O'}, '2025-11-03': {'morning': 'O', 'evening': 'X'}, '2025-11-04': {'morning': 'O', 'evening': 'O'}, '2025-11-05': {'morning': 'O', 'evening': 'X'}, '2025-11-06': {'morning': 'O', 'evening': 'O'}, '2025-11-07': {'morning': 'O', 'evening': 'X'}}",
         "{'2025-11-01': {'morning': 'X', 'evening': 'X'}, '2025-11-02': {'morning': 'O', 'evening': 'O'}, '2025-11-03': {'morning': 'X', 'evening': 'O'}, '2025-11-04': {'morning': 'O', 'evening': 'O'}, '2025-11-05': {'morning': 'O', 'evening': 'X'}, '2025-11-06': {'morning': 'O', 'evening': 'O'}, '2025-11-07': {'morning': 'O', 'evening': 'O'}}"
        ],
        [
         "content",
         "Alice prefers working morning shifts on weekdays and evenings on weekends.",
         "Bob prefers even-numbered dates and cannot work Sunday mornings.",
         "Carol prefers evening shifts but can fill in mornings if needed."
        ]
       ],
       "shape": {
        "columns": 3,
        "rows": 2
       }
      },
      "text/html": [
       "<div>\n",
       "<style scoped>\n",
       "    .dataframe tbody tr th:only-of-type {\n",
       "        vertical-align: middle;\n",
       "    }\n",
       "\n",
       "    .dataframe tbody tr th {\n",
       "        vertical-align: top;\n",
       "    }\n",
       "\n",
       "    .dataframe thead th {\n",
       "        text-align: right;\n",
       "    }\n",
       "</style>\n",
       "<table border=\"1\" class=\"dataframe\">\n",
       "  <thead>\n",
       "    <tr style=\"text-align: right;\">\n",
       "      <th></th>\n",
       "      <th>Alice</th>\n",
       "      <th>Bob</th>\n",
       "      <th>Carol</th>\n",
       "    </tr>\n",
       "  </thead>\n",
       "  <tbody>\n",
       "    <tr>\n",
       "      <th>availability_calendar</th>\n",
       "      <td>{'2025-11-01': {'morning': 'O', 'evening': 'X'...</td>\n",
       "      <td>{'2025-11-01': {'morning': 'X', 'evening': 'O'...</td>\n",
       "      <td>{'2025-11-01': {'morning': 'X', 'evening': 'X'...</td>\n",
       "    </tr>\n",
       "    <tr>\n",
       "      <th>content</th>\n",
       "      <td>Alice prefers working morning shifts on weekda...</td>\n",
       "      <td>Bob prefers even-numbered dates and cannot wor...</td>\n",
       "      <td>Carol prefers evening shifts but can fill in m...</td>\n",
       "    </tr>\n",
       "  </tbody>\n",
       "</table>\n",
       "</div>"
      ],
      "text/plain": [
       "                                                                   Alice  \\\n",
       "availability_calendar  {'2025-11-01': {'morning': 'O', 'evening': 'X'...   \n",
       "content                Alice prefers working morning shifts on weekda...   \n",
       "\n",
       "                                                                     Bob  \\\n",
       "availability_calendar  {'2025-11-01': {'morning': 'X', 'evening': 'O'...   \n",
       "content                Bob prefers even-numbered dates and cannot wor...   \n",
       "\n",
       "                                                                   Carol  \n",
       "availability_calendar  {'2025-11-01': {'morning': 'X', 'evening': 'X'...  \n",
       "content                Carol prefers evening shifts but can fill in m...  "
      ]
     },
     "execution_count": 49,
     "metadata": {},
     "output_type": "execute_result"
    }
   ],
   "source": [
    "df_av"
   ]
  },
  {
   "cell_type": "code",
   "execution_count": 50,
   "id": "c78490ff",
   "metadata": {},
   "outputs": [],
   "source": [
    "df_av.drop(\"content\", inplace=True)"
   ]
  },
  {
   "cell_type": "code",
   "execution_count": 51,
   "id": "fd92aa13",
   "metadata": {},
   "outputs": [
    {
     "data": {
      "application/vnd.microsoft.datawrangler.viewer.v0+json": {
       "columns": [
        {
         "name": "index",
         "rawType": "object",
         "type": "string"
        },
        {
         "name": "Alice",
         "rawType": "object",
         "type": "unknown"
        },
        {
         "name": "Bob",
         "rawType": "object",
         "type": "unknown"
        },
        {
         "name": "Carol",
         "rawType": "object",
         "type": "unknown"
        }
       ],
       "ref": "4c199077-10a5-4d28-9d54-f179dfd49484",
       "rows": [
        [
         "availability_calendar",
         "{'2025-11-01': {'morning': 'O', 'evening': 'X'}, '2025-11-02': {'morning': 'O', 'evening': 'O'}, '2025-11-03': {'morning': 'X', 'evening': 'O'}, '2025-11-04': {'morning': 'O', 'evening': 'O'}, '2025-11-05': {'morning': 'X', 'evening': 'X'}, '2025-11-06': {'morning': 'O', 'evening': 'O'}, '2025-11-07': {'morning': 'X', 'evening': 'O'}}",
         "{'2025-11-01': {'morning': 'X', 'evening': 'O'}, '2025-11-02': {'morning': 'X', 'evening': 'O'}, '2025-11-03': {'morning': 'O', 'evening': 'X'}, '2025-11-04': {'morning': 'O', 'evening': 'O'}, '2025-11-05': {'morning': 'O', 'evening': 'X'}, '2025-11-06': {'morning': 'O', 'evening': 'O'}, '2025-11-07': {'morning': 'O', 'evening': 'X'}}",
         "{'2025-11-01': {'morning': 'X', 'evening': 'X'}, '2025-11-02': {'morning': 'O', 'evening': 'O'}, '2025-11-03': {'morning': 'X', 'evening': 'O'}, '2025-11-04': {'morning': 'O', 'evening': 'O'}, '2025-11-05': {'morning': 'O', 'evening': 'X'}, '2025-11-06': {'morning': 'O', 'evening': 'O'}, '2025-11-07': {'morning': 'O', 'evening': 'O'}}"
        ]
       ],
       "shape": {
        "columns": 3,
        "rows": 1
       }
      },
      "text/html": [
       "<div>\n",
       "<style scoped>\n",
       "    .dataframe tbody tr th:only-of-type {\n",
       "        vertical-align: middle;\n",
       "    }\n",
       "\n",
       "    .dataframe tbody tr th {\n",
       "        vertical-align: top;\n",
       "    }\n",
       "\n",
       "    .dataframe thead th {\n",
       "        text-align: right;\n",
       "    }\n",
       "</style>\n",
       "<table border=\"1\" class=\"dataframe\">\n",
       "  <thead>\n",
       "    <tr style=\"text-align: right;\">\n",
       "      <th></th>\n",
       "      <th>Alice</th>\n",
       "      <th>Bob</th>\n",
       "      <th>Carol</th>\n",
       "    </tr>\n",
       "  </thead>\n",
       "  <tbody>\n",
       "    <tr>\n",
       "      <th>availability_calendar</th>\n",
       "      <td>{'2025-11-01': {'morning': 'O', 'evening': 'X'...</td>\n",
       "      <td>{'2025-11-01': {'morning': 'X', 'evening': 'O'...</td>\n",
       "      <td>{'2025-11-01': {'morning': 'X', 'evening': 'X'...</td>\n",
       "    </tr>\n",
       "  </tbody>\n",
       "</table>\n",
       "</div>"
      ],
      "text/plain": [
       "                                                                   Alice  \\\n",
       "availability_calendar  {'2025-11-01': {'morning': 'O', 'evening': 'X'...   \n",
       "\n",
       "                                                                     Bob  \\\n",
       "availability_calendar  {'2025-11-01': {'morning': 'X', 'evening': 'O'...   \n",
       "\n",
       "                                                                   Carol  \n",
       "availability_calendar  {'2025-11-01': {'morning': 'X', 'evening': 'X'...  "
      ]
     },
     "execution_count": 51,
     "metadata": {},
     "output_type": "execute_result"
    }
   ],
   "source": [
    "df_av"
   ]
  },
  {
   "cell_type": "code",
   "execution_count": 52,
   "id": "ab273eef",
   "metadata": {},
   "outputs": [],
   "source": [
    "records = []\n",
    "\n",
    "for employee in df_av.columns:\n",
    "    emp_data = df_av.iloc[0][employee]\n",
    "    for date, shifts in emp_data.items():\n",
    "        records.append({\n",
    "            \"employee\": employee,\n",
    "            \"date\": date,\n",
    "            \"morning\": shifts[\"morning\"],\n",
    "            \"evening\": shifts[\"evening\"]\n",
    "        })\n",
    "\n",
    "df_flat_av = pd.DataFrame(records)"
   ]
  },
  {
   "cell_type": "code",
   "execution_count": 53,
   "id": "b59b7619",
   "metadata": {},
   "outputs": [
    {
     "data": {
      "application/vnd.microsoft.datawrangler.viewer.v0+json": {
       "columns": [
        {
         "name": "index",
         "rawType": "int64",
         "type": "integer"
        },
        {
         "name": "employee",
         "rawType": "object",
         "type": "string"
        },
        {
         "name": "date",
         "rawType": "object",
         "type": "string"
        },
        {
         "name": "morning",
         "rawType": "object",
         "type": "string"
        },
        {
         "name": "evening",
         "rawType": "object",
         "type": "string"
        }
       ],
       "ref": "aed5c49a-99ee-4dba-98a0-461e0c8f414a",
       "rows": [
        [
         "0",
         "Alice",
         "2025-11-01",
         "O",
         "X"
        ],
        [
         "1",
         "Alice",
         "2025-11-02",
         "O",
         "O"
        ],
        [
         "2",
         "Alice",
         "2025-11-03",
         "X",
         "O"
        ],
        [
         "3",
         "Alice",
         "2025-11-04",
         "O",
         "O"
        ],
        [
         "4",
         "Alice",
         "2025-11-05",
         "X",
         "X"
        ],
        [
         "5",
         "Alice",
         "2025-11-06",
         "O",
         "O"
        ],
        [
         "6",
         "Alice",
         "2025-11-07",
         "X",
         "O"
        ],
        [
         "7",
         "Bob",
         "2025-11-01",
         "X",
         "O"
        ],
        [
         "8",
         "Bob",
         "2025-11-02",
         "X",
         "O"
        ],
        [
         "9",
         "Bob",
         "2025-11-03",
         "O",
         "X"
        ],
        [
         "10",
         "Bob",
         "2025-11-04",
         "O",
         "O"
        ],
        [
         "11",
         "Bob",
         "2025-11-05",
         "O",
         "X"
        ],
        [
         "12",
         "Bob",
         "2025-11-06",
         "O",
         "O"
        ],
        [
         "13",
         "Bob",
         "2025-11-07",
         "O",
         "X"
        ],
        [
         "14",
         "Carol",
         "2025-11-01",
         "X",
         "X"
        ],
        [
         "15",
         "Carol",
         "2025-11-02",
         "O",
         "O"
        ],
        [
         "16",
         "Carol",
         "2025-11-03",
         "X",
         "O"
        ],
        [
         "17",
         "Carol",
         "2025-11-04",
         "O",
         "O"
        ],
        [
         "18",
         "Carol",
         "2025-11-05",
         "O",
         "X"
        ],
        [
         "19",
         "Carol",
         "2025-11-06",
         "O",
         "O"
        ],
        [
         "20",
         "Carol",
         "2025-11-07",
         "O",
         "O"
        ]
       ],
       "shape": {
        "columns": 4,
        "rows": 21
       }
      },
      "text/html": [
       "<div>\n",
       "<style scoped>\n",
       "    .dataframe tbody tr th:only-of-type {\n",
       "        vertical-align: middle;\n",
       "    }\n",
       "\n",
       "    .dataframe tbody tr th {\n",
       "        vertical-align: top;\n",
       "    }\n",
       "\n",
       "    .dataframe thead th {\n",
       "        text-align: right;\n",
       "    }\n",
       "</style>\n",
       "<table border=\"1\" class=\"dataframe\">\n",
       "  <thead>\n",
       "    <tr style=\"text-align: right;\">\n",
       "      <th></th>\n",
       "      <th>employee</th>\n",
       "      <th>date</th>\n",
       "      <th>morning</th>\n",
       "      <th>evening</th>\n",
       "    </tr>\n",
       "  </thead>\n",
       "  <tbody>\n",
       "    <tr>\n",
       "      <th>0</th>\n",
       "      <td>Alice</td>\n",
       "      <td>2025-11-01</td>\n",
       "      <td>O</td>\n",
       "      <td>X</td>\n",
       "    </tr>\n",
       "    <tr>\n",
       "      <th>1</th>\n",
       "      <td>Alice</td>\n",
       "      <td>2025-11-02</td>\n",
       "      <td>O</td>\n",
       "      <td>O</td>\n",
       "    </tr>\n",
       "    <tr>\n",
       "      <th>2</th>\n",
       "      <td>Alice</td>\n",
       "      <td>2025-11-03</td>\n",
       "      <td>X</td>\n",
       "      <td>O</td>\n",
       "    </tr>\n",
       "    <tr>\n",
       "      <th>3</th>\n",
       "      <td>Alice</td>\n",
       "      <td>2025-11-04</td>\n",
       "      <td>O</td>\n",
       "      <td>O</td>\n",
       "    </tr>\n",
       "    <tr>\n",
       "      <th>4</th>\n",
       "      <td>Alice</td>\n",
       "      <td>2025-11-05</td>\n",
       "      <td>X</td>\n",
       "      <td>X</td>\n",
       "    </tr>\n",
       "    <tr>\n",
       "      <th>5</th>\n",
       "      <td>Alice</td>\n",
       "      <td>2025-11-06</td>\n",
       "      <td>O</td>\n",
       "      <td>O</td>\n",
       "    </tr>\n",
       "    <tr>\n",
       "      <th>6</th>\n",
       "      <td>Alice</td>\n",
       "      <td>2025-11-07</td>\n",
       "      <td>X</td>\n",
       "      <td>O</td>\n",
       "    </tr>\n",
       "    <tr>\n",
       "      <th>7</th>\n",
       "      <td>Bob</td>\n",
       "      <td>2025-11-01</td>\n",
       "      <td>X</td>\n",
       "      <td>O</td>\n",
       "    </tr>\n",
       "    <tr>\n",
       "      <th>8</th>\n",
       "      <td>Bob</td>\n",
       "      <td>2025-11-02</td>\n",
       "      <td>X</td>\n",
       "      <td>O</td>\n",
       "    </tr>\n",
       "    <tr>\n",
       "      <th>9</th>\n",
       "      <td>Bob</td>\n",
       "      <td>2025-11-03</td>\n",
       "      <td>O</td>\n",
       "      <td>X</td>\n",
       "    </tr>\n",
       "    <tr>\n",
       "      <th>10</th>\n",
       "      <td>Bob</td>\n",
       "      <td>2025-11-04</td>\n",
       "      <td>O</td>\n",
       "      <td>O</td>\n",
       "    </tr>\n",
       "    <tr>\n",
       "      <th>11</th>\n",
       "      <td>Bob</td>\n",
       "      <td>2025-11-05</td>\n",
       "      <td>O</td>\n",
       "      <td>X</td>\n",
       "    </tr>\n",
       "    <tr>\n",
       "      <th>12</th>\n",
       "      <td>Bob</td>\n",
       "      <td>2025-11-06</td>\n",
       "      <td>O</td>\n",
       "      <td>O</td>\n",
       "    </tr>\n",
       "    <tr>\n",
       "      <th>13</th>\n",
       "      <td>Bob</td>\n",
       "      <td>2025-11-07</td>\n",
       "      <td>O</td>\n",
       "      <td>X</td>\n",
       "    </tr>\n",
       "    <tr>\n",
       "      <th>14</th>\n",
       "      <td>Carol</td>\n",
       "      <td>2025-11-01</td>\n",
       "      <td>X</td>\n",
       "      <td>X</td>\n",
       "    </tr>\n",
       "    <tr>\n",
       "      <th>15</th>\n",
       "      <td>Carol</td>\n",
       "      <td>2025-11-02</td>\n",
       "      <td>O</td>\n",
       "      <td>O</td>\n",
       "    </tr>\n",
       "    <tr>\n",
       "      <th>16</th>\n",
       "      <td>Carol</td>\n",
       "      <td>2025-11-03</td>\n",
       "      <td>X</td>\n",
       "      <td>O</td>\n",
       "    </tr>\n",
       "    <tr>\n",
       "      <th>17</th>\n",
       "      <td>Carol</td>\n",
       "      <td>2025-11-04</td>\n",
       "      <td>O</td>\n",
       "      <td>O</td>\n",
       "    </tr>\n",
       "    <tr>\n",
       "      <th>18</th>\n",
       "      <td>Carol</td>\n",
       "      <td>2025-11-05</td>\n",
       "      <td>O</td>\n",
       "      <td>X</td>\n",
       "    </tr>\n",
       "    <tr>\n",
       "      <th>19</th>\n",
       "      <td>Carol</td>\n",
       "      <td>2025-11-06</td>\n",
       "      <td>O</td>\n",
       "      <td>O</td>\n",
       "    </tr>\n",
       "    <tr>\n",
       "      <th>20</th>\n",
       "      <td>Carol</td>\n",
       "      <td>2025-11-07</td>\n",
       "      <td>O</td>\n",
       "      <td>O</td>\n",
       "    </tr>\n",
       "  </tbody>\n",
       "</table>\n",
       "</div>"
      ],
      "text/plain": [
       "   employee        date morning evening\n",
       "0     Alice  2025-11-01       O       X\n",
       "1     Alice  2025-11-02       O       O\n",
       "2     Alice  2025-11-03       X       O\n",
       "3     Alice  2025-11-04       O       O\n",
       "4     Alice  2025-11-05       X       X\n",
       "5     Alice  2025-11-06       O       O\n",
       "6     Alice  2025-11-07       X       O\n",
       "7       Bob  2025-11-01       X       O\n",
       "8       Bob  2025-11-02       X       O\n",
       "9       Bob  2025-11-03       O       X\n",
       "10      Bob  2025-11-04       O       O\n",
       "11      Bob  2025-11-05       O       X\n",
       "12      Bob  2025-11-06       O       O\n",
       "13      Bob  2025-11-07       O       X\n",
       "14    Carol  2025-11-01       X       X\n",
       "15    Carol  2025-11-02       O       O\n",
       "16    Carol  2025-11-03       X       O\n",
       "17    Carol  2025-11-04       O       O\n",
       "18    Carol  2025-11-05       O       X\n",
       "19    Carol  2025-11-06       O       O\n",
       "20    Carol  2025-11-07       O       O"
      ]
     },
     "execution_count": 53,
     "metadata": {},
     "output_type": "execute_result"
    }
   ],
   "source": [
    "df_flat_av"
   ]
  },
  {
   "cell_type": "code",
   "execution_count": 54,
   "id": "734992cc",
   "metadata": {},
   "outputs": [],
   "source": [
    "df_flat_av[\"shift\"] = np.where(\n",
    "    df_flat_av[\"morning\"] == \"O\",\n",
    "    \"morning\",\n",
    "    \"evening\"\n",
    ")"
   ]
  },
  {
   "cell_type": "code",
   "execution_count": 55,
   "id": "dca6a0ac",
   "metadata": {},
   "outputs": [
    {
     "data": {
      "application/vnd.microsoft.datawrangler.viewer.v0+json": {
       "columns": [
        {
         "name": "index",
         "rawType": "int64",
         "type": "integer"
        },
        {
         "name": "employee",
         "rawType": "object",
         "type": "string"
        },
        {
         "name": "date",
         "rawType": "object",
         "type": "string"
        },
        {
         "name": "morning",
         "rawType": "object",
         "type": "string"
        },
        {
         "name": "evening",
         "rawType": "object",
         "type": "string"
        },
        {
         "name": "shift",
         "rawType": "object",
         "type": "string"
        }
       ],
       "ref": "212b79eb-472c-45dd-be44-4c173370f457",
       "rows": [
        [
         "0",
         "Alice",
         "2025-11-01",
         "O",
         "X",
         "morning"
        ],
        [
         "1",
         "Alice",
         "2025-11-02",
         "O",
         "O",
         "morning"
        ],
        [
         "2",
         "Alice",
         "2025-11-03",
         "X",
         "O",
         "evening"
        ],
        [
         "3",
         "Alice",
         "2025-11-04",
         "O",
         "O",
         "morning"
        ],
        [
         "4",
         "Alice",
         "2025-11-05",
         "X",
         "X",
         "evening"
        ],
        [
         "5",
         "Alice",
         "2025-11-06",
         "O",
         "O",
         "morning"
        ],
        [
         "6",
         "Alice",
         "2025-11-07",
         "X",
         "O",
         "evening"
        ],
        [
         "7",
         "Bob",
         "2025-11-01",
         "X",
         "O",
         "evening"
        ],
        [
         "8",
         "Bob",
         "2025-11-02",
         "X",
         "O",
         "evening"
        ],
        [
         "9",
         "Bob",
         "2025-11-03",
         "O",
         "X",
         "morning"
        ],
        [
         "10",
         "Bob",
         "2025-11-04",
         "O",
         "O",
         "morning"
        ],
        [
         "11",
         "Bob",
         "2025-11-05",
         "O",
         "X",
         "morning"
        ],
        [
         "12",
         "Bob",
         "2025-11-06",
         "O",
         "O",
         "morning"
        ],
        [
         "13",
         "Bob",
         "2025-11-07",
         "O",
         "X",
         "morning"
        ],
        [
         "14",
         "Carol",
         "2025-11-01",
         "X",
         "X",
         "evening"
        ],
        [
         "15",
         "Carol",
         "2025-11-02",
         "O",
         "O",
         "morning"
        ],
        [
         "16",
         "Carol",
         "2025-11-03",
         "X",
         "O",
         "evening"
        ],
        [
         "17",
         "Carol",
         "2025-11-04",
         "O",
         "O",
         "morning"
        ],
        [
         "18",
         "Carol",
         "2025-11-05",
         "O",
         "X",
         "morning"
        ],
        [
         "19",
         "Carol",
         "2025-11-06",
         "O",
         "O",
         "morning"
        ],
        [
         "20",
         "Carol",
         "2025-11-07",
         "O",
         "O",
         "morning"
        ]
       ],
       "shape": {
        "columns": 5,
        "rows": 21
       }
      },
      "text/html": [
       "<div>\n",
       "<style scoped>\n",
       "    .dataframe tbody tr th:only-of-type {\n",
       "        vertical-align: middle;\n",
       "    }\n",
       "\n",
       "    .dataframe tbody tr th {\n",
       "        vertical-align: top;\n",
       "    }\n",
       "\n",
       "    .dataframe thead th {\n",
       "        text-align: right;\n",
       "    }\n",
       "</style>\n",
       "<table border=\"1\" class=\"dataframe\">\n",
       "  <thead>\n",
       "    <tr style=\"text-align: right;\">\n",
       "      <th></th>\n",
       "      <th>employee</th>\n",
       "      <th>date</th>\n",
       "      <th>morning</th>\n",
       "      <th>evening</th>\n",
       "      <th>shift</th>\n",
       "    </tr>\n",
       "  </thead>\n",
       "  <tbody>\n",
       "    <tr>\n",
       "      <th>0</th>\n",
       "      <td>Alice</td>\n",
       "      <td>2025-11-01</td>\n",
       "      <td>O</td>\n",
       "      <td>X</td>\n",
       "      <td>morning</td>\n",
       "    </tr>\n",
       "    <tr>\n",
       "      <th>1</th>\n",
       "      <td>Alice</td>\n",
       "      <td>2025-11-02</td>\n",
       "      <td>O</td>\n",
       "      <td>O</td>\n",
       "      <td>morning</td>\n",
       "    </tr>\n",
       "    <tr>\n",
       "      <th>2</th>\n",
       "      <td>Alice</td>\n",
       "      <td>2025-11-03</td>\n",
       "      <td>X</td>\n",
       "      <td>O</td>\n",
       "      <td>evening</td>\n",
       "    </tr>\n",
       "    <tr>\n",
       "      <th>3</th>\n",
       "      <td>Alice</td>\n",
       "      <td>2025-11-04</td>\n",
       "      <td>O</td>\n",
       "      <td>O</td>\n",
       "      <td>morning</td>\n",
       "    </tr>\n",
       "    <tr>\n",
       "      <th>4</th>\n",
       "      <td>Alice</td>\n",
       "      <td>2025-11-05</td>\n",
       "      <td>X</td>\n",
       "      <td>X</td>\n",
       "      <td>evening</td>\n",
       "    </tr>\n",
       "    <tr>\n",
       "      <th>5</th>\n",
       "      <td>Alice</td>\n",
       "      <td>2025-11-06</td>\n",
       "      <td>O</td>\n",
       "      <td>O</td>\n",
       "      <td>morning</td>\n",
       "    </tr>\n",
       "    <tr>\n",
       "      <th>6</th>\n",
       "      <td>Alice</td>\n",
       "      <td>2025-11-07</td>\n",
       "      <td>X</td>\n",
       "      <td>O</td>\n",
       "      <td>evening</td>\n",
       "    </tr>\n",
       "    <tr>\n",
       "      <th>7</th>\n",
       "      <td>Bob</td>\n",
       "      <td>2025-11-01</td>\n",
       "      <td>X</td>\n",
       "      <td>O</td>\n",
       "      <td>evening</td>\n",
       "    </tr>\n",
       "    <tr>\n",
       "      <th>8</th>\n",
       "      <td>Bob</td>\n",
       "      <td>2025-11-02</td>\n",
       "      <td>X</td>\n",
       "      <td>O</td>\n",
       "      <td>evening</td>\n",
       "    </tr>\n",
       "    <tr>\n",
       "      <th>9</th>\n",
       "      <td>Bob</td>\n",
       "      <td>2025-11-03</td>\n",
       "      <td>O</td>\n",
       "      <td>X</td>\n",
       "      <td>morning</td>\n",
       "    </tr>\n",
       "    <tr>\n",
       "      <th>10</th>\n",
       "      <td>Bob</td>\n",
       "      <td>2025-11-04</td>\n",
       "      <td>O</td>\n",
       "      <td>O</td>\n",
       "      <td>morning</td>\n",
       "    </tr>\n",
       "    <tr>\n",
       "      <th>11</th>\n",
       "      <td>Bob</td>\n",
       "      <td>2025-11-05</td>\n",
       "      <td>O</td>\n",
       "      <td>X</td>\n",
       "      <td>morning</td>\n",
       "    </tr>\n",
       "    <tr>\n",
       "      <th>12</th>\n",
       "      <td>Bob</td>\n",
       "      <td>2025-11-06</td>\n",
       "      <td>O</td>\n",
       "      <td>O</td>\n",
       "      <td>morning</td>\n",
       "    </tr>\n",
       "    <tr>\n",
       "      <th>13</th>\n",
       "      <td>Bob</td>\n",
       "      <td>2025-11-07</td>\n",
       "      <td>O</td>\n",
       "      <td>X</td>\n",
       "      <td>morning</td>\n",
       "    </tr>\n",
       "    <tr>\n",
       "      <th>14</th>\n",
       "      <td>Carol</td>\n",
       "      <td>2025-11-01</td>\n",
       "      <td>X</td>\n",
       "      <td>X</td>\n",
       "      <td>evening</td>\n",
       "    </tr>\n",
       "    <tr>\n",
       "      <th>15</th>\n",
       "      <td>Carol</td>\n",
       "      <td>2025-11-02</td>\n",
       "      <td>O</td>\n",
       "      <td>O</td>\n",
       "      <td>morning</td>\n",
       "    </tr>\n",
       "    <tr>\n",
       "      <th>16</th>\n",
       "      <td>Carol</td>\n",
       "      <td>2025-11-03</td>\n",
       "      <td>X</td>\n",
       "      <td>O</td>\n",
       "      <td>evening</td>\n",
       "    </tr>\n",
       "    <tr>\n",
       "      <th>17</th>\n",
       "      <td>Carol</td>\n",
       "      <td>2025-11-04</td>\n",
       "      <td>O</td>\n",
       "      <td>O</td>\n",
       "      <td>morning</td>\n",
       "    </tr>\n",
       "    <tr>\n",
       "      <th>18</th>\n",
       "      <td>Carol</td>\n",
       "      <td>2025-11-05</td>\n",
       "      <td>O</td>\n",
       "      <td>X</td>\n",
       "      <td>morning</td>\n",
       "    </tr>\n",
       "    <tr>\n",
       "      <th>19</th>\n",
       "      <td>Carol</td>\n",
       "      <td>2025-11-06</td>\n",
       "      <td>O</td>\n",
       "      <td>O</td>\n",
       "      <td>morning</td>\n",
       "    </tr>\n",
       "    <tr>\n",
       "      <th>20</th>\n",
       "      <td>Carol</td>\n",
       "      <td>2025-11-07</td>\n",
       "      <td>O</td>\n",
       "      <td>O</td>\n",
       "      <td>morning</td>\n",
       "    </tr>\n",
       "  </tbody>\n",
       "</table>\n",
       "</div>"
      ],
      "text/plain": [
       "   employee        date morning evening    shift\n",
       "0     Alice  2025-11-01       O       X  morning\n",
       "1     Alice  2025-11-02       O       O  morning\n",
       "2     Alice  2025-11-03       X       O  evening\n",
       "3     Alice  2025-11-04       O       O  morning\n",
       "4     Alice  2025-11-05       X       X  evening\n",
       "5     Alice  2025-11-06       O       O  morning\n",
       "6     Alice  2025-11-07       X       O  evening\n",
       "7       Bob  2025-11-01       X       O  evening\n",
       "8       Bob  2025-11-02       X       O  evening\n",
       "9       Bob  2025-11-03       O       X  morning\n",
       "10      Bob  2025-11-04       O       O  morning\n",
       "11      Bob  2025-11-05       O       X  morning\n",
       "12      Bob  2025-11-06       O       O  morning\n",
       "13      Bob  2025-11-07       O       X  morning\n",
       "14    Carol  2025-11-01       X       X  evening\n",
       "15    Carol  2025-11-02       O       O  morning\n",
       "16    Carol  2025-11-03       X       O  evening\n",
       "17    Carol  2025-11-04       O       O  morning\n",
       "18    Carol  2025-11-05       O       X  morning\n",
       "19    Carol  2025-11-06       O       O  morning\n",
       "20    Carol  2025-11-07       O       O  morning"
      ]
     },
     "execution_count": 55,
     "metadata": {},
     "output_type": "execute_result"
    }
   ],
   "source": [
    "df_flat_av"
   ]
  },
  {
   "cell_type": "code",
   "execution_count": null,
   "id": "56249d71",
   "metadata": {},
   "outputs": [],
   "source": []
  }
 ],
 "metadata": {
  "kernelspec": {
   "display_name": "jphacks25",
   "language": "python",
   "name": "python3"
  },
  "language_info": {
   "codemirror_mode": {
    "name": "ipython",
    "version": 3
   },
   "file_extension": ".py",
   "mimetype": "text/x-python",
   "name": "python",
   "nbconvert_exporter": "python",
   "pygments_lexer": "ipython3",
   "version": "3.10.18"
  }
 },
 "nbformat": 4,
 "nbformat_minor": 5
}
