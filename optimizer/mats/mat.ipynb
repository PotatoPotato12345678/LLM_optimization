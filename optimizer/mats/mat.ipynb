{
 "cells": [
  {
   "cell_type": "markdown",
   "id": "761156d81c06b607",
   "metadata": {},
   "source": [
    "# Willingness Matrix"
   ]
  },
  {
   "cell_type": "code",
   "execution_count": 1,
   "id": "0218aa6f",
   "metadata": {
    "ExecuteTime": {
     "end_time": "2025-10-18T13:12:55.435555Z",
     "start_time": "2025-10-18T13:12:55.421625Z"
    }
   },
   "outputs": [],
   "source": [
    "import numpy as np\n",
    "import pandas as pd"
   ]
  },
  {
   "cell_type": "code",
   "execution_count": 2,
   "id": "ce13a940",
   "metadata": {
    "ExecuteTime": {
     "end_time": "2025-10-18T13:12:55.472981Z",
     "start_time": "2025-10-18T13:12:55.464018Z"
    }
   },
   "outputs": [],
   "source": [
    "df_will = pd.read_json(\"willingness_mat.json\")"
   ]
  },
  {
   "cell_type": "code",
   "execution_count": 3,
   "id": "9f555ec6",
   "metadata": {
    "ExecuteTime": {
     "end_time": "2025-10-18T13:12:55.518761Z",
     "start_time": "2025-10-18T13:12:55.495391Z"
    }
   },
   "outputs": [
    {
     "data": {
      "application/vnd.microsoft.datawrangler.viewer.v0+json": {
       "columns": [
        {
         "name": "index",
         "rawType": "object",
         "type": "string"
        },
        {
         "name": "Alice",
         "rawType": "object",
         "type": "unknown"
        },
        {
         "name": "Bob",
         "rawType": "object",
         "type": "unknown"
        }
       ],
       "ref": "7b771c94-71ee-42fd-8d92-af88646413f8",
       "rows": [
        [
         "d1",
         "[{'shift': 0, 'willingness': 0.0}, {'shift': 1, 'willingness': 0.0}]",
         "[{'shift': 0, 'willingness': 0.0}, {'shift': 1, 'willingness': 0.0}]"
        ],
        [
         "d2",
         "[{'shift': 0, 'willingness': -0.5}, {'shift': 1, 'willingness': -0.5}]",
         "[{'shift': 0, 'willingness': -0.5}, {'shift': 1, 'willingness': -0.5}]"
        ],
        [
         "d3",
         "[{'shift': 0, 'willingness': 0.5}, {'shift': 1, 'willingness': 0.5}]",
         "[{'shift': 0, 'willingness': 0.5}, {'shift': 1, 'willingness': 0.5}]"
        ],
        [
         "d4",
         "[{'shift': 0, 'willingness': 0.5}, {'shift': 1, 'willingness': 0.5}]",
         "[{'shift': 0, 'willingness': 0.5}, {'shift': 1, 'willingness': 0.5}]"
        ],
        [
         "d5",
         "[{'shift': 0, 'willingness': 0.5}, {'shift': 1, 'willingness': 0.5}]",
         "[{'shift': 0, 'willingness': 0.5}, {'shift': 1, 'willingness': 0.5}]"
        ],
        [
         "d6",
         "[{'shift': 0, 'willingness': 0.0}, {'shift': 1, 'willingness': 0.0}]",
         "[{'shift': 0, 'willingness': 0.0}, {'shift': 1, 'willingness': 0.0}]"
        ],
        [
         "d7",
         "[{'shift': 0, 'willingness': 0.0}, {'shift': 1, 'willingness': 0.0}]",
         "[{'shift': 0, 'willingness': 0.0}, {'shift': 1, 'willingness': 0.0}]"
        ],
        [
         "d8",
         "[{'shift': 0, 'willingness': 1.0}, {'shift': 1, 'willingness': 0.0}]",
         "[{'shift': 0, 'willingness': 1.0}, {'shift': 1, 'willingness': 0.0}]"
        ],
        [
         "d9",
         "[{'shift': 0, 'willingness': 1.0}, {'shift': 1, 'willingness': 0.0}]",
         "[{'shift': 0, 'willingness': 1.0}, {'shift': 1, 'willingness': 0.0}]"
        ],
        [
         "d10",
         "[{'shift': 0, 'willingness': -0.5}, {'shift': 1, 'willingness': -0.5}]",
         "[{'shift': 0, 'willingness': -0.5}, {'shift': 1, 'willingness': -0.5}]"
        ],
        [
         "d11",
         "[{'shift': 0, 'willingness': 0.5}, {'shift': 1, 'willingness': 0.5}]",
         "[{'shift': 0, 'willingness': 0.5}, {'shift': 1, 'willingness': 0.5}]"
        ],
        [
         "d12",
         "[{'shift': 0, 'willingness': 0.5}, {'shift': 1, 'willingness': 0.5}]",
         "[{'shift': 0, 'willingness': 0.5}, {'shift': 1, 'willingness': 0.5}]"
        ],
        [
         "d13",
         "[{'shift': 0, 'willingness': 0.5}, {'shift': 1, 'willingness': 0.5}]",
         "[{'shift': 0, 'willingness': 0.5}, {'shift': 1, 'willingness': 0.5}]"
        ],
        [
         "d14",
         "[{'shift': 0, 'willingness': 0.0}, {'shift': 1, 'willingness': 0.0}]",
         "[{'shift': 0, 'willingness': 0.0}, {'shift': 1, 'willingness': 0.0}]"
        ],
        [
         "d15",
         "[{'shift': 0, 'willingness': 0.0}, {'shift': 1, 'willingness': 0.0}]",
         "[{'shift': 0, 'willingness': 0.0}, {'shift': 1, 'willingness': 0.0}]"
        ],
        [
         "d16",
         "[{'shift': 0, 'willingness': 0.0}, {'shift': 1, 'willingness': 0.0}]",
         "[{'shift': 0, 'willingness': 0.0}, {'shift': 1, 'willingness': 0.0}]"
        ],
        [
         "d17",
         "[{'shift': 0, 'willingness': -0.5}, {'shift': 1, 'willingness': -0.5}]",
         "[{'shift': 0, 'willingness': -0.5}, {'shift': 1, 'willingness': -0.5}]"
        ],
        [
         "d18",
         "[{'shift': 0, 'willingness': 0.5}, {'shift': 1, 'willingness': 0.5}]",
         "[{'shift': 0, 'willingness': 0.5}, {'shift': 1, 'willingness': 0.5}]"
        ],
        [
         "d19",
         "[{'shift': 0, 'willingness': 0.5}, {'shift': 1, 'willingness': 0.5}]",
         "[{'shift': 0, 'willingness': 0.5}, {'shift': 1, 'willingness': 0.5}]"
        ],
        [
         "d20",
         "[{'shift': 0, 'willingness': 0.5}, {'shift': 1, 'willingness': 0.5}]",
         "[{'shift': 0, 'willingness': 0.5}, {'shift': 1, 'willingness': 0.5}]"
        ],
        [
         "d21",
         "[{'shift': 0, 'willingness': 0.0}, {'shift': 1, 'willingness': 0.0}]",
         "[{'shift': 0, 'willingness': 0.0}, {'shift': 1, 'willingness': 0.0}]"
        ],
        [
         "d22",
         "[{'shift': 0, 'willingness': 1.0}, {'shift': 1, 'willingness': 0.0}]",
         "[{'shift': 0, 'willingness': 1.0}, {'shift': 1, 'willingness': 0.0}]"
        ],
        [
         "d23",
         "[{'shift': 0, 'willingness': 1.0}, {'shift': 1, 'willingness': 0.0}]",
         "[{'shift': 0, 'willingness': 1.0}, {'shift': 1, 'willingness': 0.0}]"
        ],
        [
         "d24",
         "[{'shift': 0, 'willingness': -0.5}, {'shift': 1, 'willingness': -0.5}]",
         "[{'shift': 0, 'willingness': -0.5}, {'shift': 1, 'willingness': -0.5}]"
        ],
        [
         "d25",
         "[{'shift': 0, 'willingness': 0.5}, {'shift': 1, 'willingness': 0.5}]",
         "[{'shift': 0, 'willingness': 0.5}, {'shift': 1, 'willingness': 0.5}]"
        ],
        [
         "d26",
         "[{'shift': 0, 'willingness': 0.5}, {'shift': 1, 'willingness': 0.5}]",
         "[{'shift': 0, 'willingness': 0.5}, {'shift': 1, 'willingness': 0.5}]"
        ],
        [
         "d27",
         "[{'shift': 0, 'willingness': 0.5}, {'shift': 1, 'willingness': 0.5}]",
         "[{'shift': 0, 'willingness': 0.5}, {'shift': 1, 'willingness': 0.5}]"
        ],
        [
         "d28",
         "[{'shift': 0, 'willingness': 0.0}, {'shift': 1, 'willingness': 0.0}]",
         "[{'shift': 0, 'willingness': 0.0}, {'shift': 1, 'willingness': 0.0}]"
        ]
       ],
       "shape": {
        "columns": 2,
        "rows": 28
       }
      },
      "text/html": [
       "<div>\n",
       "<style scoped>\n",
       "    .dataframe tbody tr th:only-of-type {\n",
       "        vertical-align: middle;\n",
       "    }\n",
       "\n",
       "    .dataframe tbody tr th {\n",
       "        vertical-align: top;\n",
       "    }\n",
       "\n",
       "    .dataframe thead th {\n",
       "        text-align: right;\n",
       "    }\n",
       "</style>\n",
       "<table border=\"1\" class=\"dataframe\">\n",
       "  <thead>\n",
       "    <tr style=\"text-align: right;\">\n",
       "      <th></th>\n",
       "      <th>Alice</th>\n",
       "      <th>Bob</th>\n",
       "    </tr>\n",
       "  </thead>\n",
       "  <tbody>\n",
       "    <tr>\n",
       "      <th>d1</th>\n",
       "      <td>[{'shift': 0, 'willingness': 0.0}, {'shift': 1...</td>\n",
       "      <td>[{'shift': 0, 'willingness': 0.0}, {'shift': 1...</td>\n",
       "    </tr>\n",
       "    <tr>\n",
       "      <th>d2</th>\n",
       "      <td>[{'shift': 0, 'willingness': -0.5}, {'shift': ...</td>\n",
       "      <td>[{'shift': 0, 'willingness': -0.5}, {'shift': ...</td>\n",
       "    </tr>\n",
       "    <tr>\n",
       "      <th>d3</th>\n",
       "      <td>[{'shift': 0, 'willingness': 0.5}, {'shift': 1...</td>\n",
       "      <td>[{'shift': 0, 'willingness': 0.5}, {'shift': 1...</td>\n",
       "    </tr>\n",
       "    <tr>\n",
       "      <th>d4</th>\n",
       "      <td>[{'shift': 0, 'willingness': 0.5}, {'shift': 1...</td>\n",
       "      <td>[{'shift': 0, 'willingness': 0.5}, {'shift': 1...</td>\n",
       "    </tr>\n",
       "    <tr>\n",
       "      <th>d5</th>\n",
       "      <td>[{'shift': 0, 'willingness': 0.5}, {'shift': 1...</td>\n",
       "      <td>[{'shift': 0, 'willingness': 0.5}, {'shift': 1...</td>\n",
       "    </tr>\n",
       "    <tr>\n",
       "      <th>d6</th>\n",
       "      <td>[{'shift': 0, 'willingness': 0.0}, {'shift': 1...</td>\n",
       "      <td>[{'shift': 0, 'willingness': 0.0}, {'shift': 1...</td>\n",
       "    </tr>\n",
       "    <tr>\n",
       "      <th>d7</th>\n",
       "      <td>[{'shift': 0, 'willingness': 0.0}, {'shift': 1...</td>\n",
       "      <td>[{'shift': 0, 'willingness': 0.0}, {'shift': 1...</td>\n",
       "    </tr>\n",
       "    <tr>\n",
       "      <th>d8</th>\n",
       "      <td>[{'shift': 0, 'willingness': 1.0}, {'shift': 1...</td>\n",
       "      <td>[{'shift': 0, 'willingness': 1.0}, {'shift': 1...</td>\n",
       "    </tr>\n",
       "    <tr>\n",
       "      <th>d9</th>\n",
       "      <td>[{'shift': 0, 'willingness': 1.0}, {'shift': 1...</td>\n",
       "      <td>[{'shift': 0, 'willingness': 1.0}, {'shift': 1...</td>\n",
       "    </tr>\n",
       "    <tr>\n",
       "      <th>d10</th>\n",
       "      <td>[{'shift': 0, 'willingness': -0.5}, {'shift': ...</td>\n",
       "      <td>[{'shift': 0, 'willingness': -0.5}, {'shift': ...</td>\n",
       "    </tr>\n",
       "    <tr>\n",
       "      <th>d11</th>\n",
       "      <td>[{'shift': 0, 'willingness': 0.5}, {'shift': 1...</td>\n",
       "      <td>[{'shift': 0, 'willingness': 0.5}, {'shift': 1...</td>\n",
       "    </tr>\n",
       "    <tr>\n",
       "      <th>d12</th>\n",
       "      <td>[{'shift': 0, 'willingness': 0.5}, {'shift': 1...</td>\n",
       "      <td>[{'shift': 0, 'willingness': 0.5}, {'shift': 1...</td>\n",
       "    </tr>\n",
       "    <tr>\n",
       "      <th>d13</th>\n",
       "      <td>[{'shift': 0, 'willingness': 0.5}, {'shift': 1...</td>\n",
       "      <td>[{'shift': 0, 'willingness': 0.5}, {'shift': 1...</td>\n",
       "    </tr>\n",
       "    <tr>\n",
       "      <th>d14</th>\n",
       "      <td>[{'shift': 0, 'willingness': 0.0}, {'shift': 1...</td>\n",
       "      <td>[{'shift': 0, 'willingness': 0.0}, {'shift': 1...</td>\n",
       "    </tr>\n",
       "    <tr>\n",
       "      <th>d15</th>\n",
       "      <td>[{'shift': 0, 'willingness': 0.0}, {'shift': 1...</td>\n",
       "      <td>[{'shift': 0, 'willingness': 0.0}, {'shift': 1...</td>\n",
       "    </tr>\n",
       "    <tr>\n",
       "      <th>d16</th>\n",
       "      <td>[{'shift': 0, 'willingness': 0.0}, {'shift': 1...</td>\n",
       "      <td>[{'shift': 0, 'willingness': 0.0}, {'shift': 1...</td>\n",
       "    </tr>\n",
       "    <tr>\n",
       "      <th>d17</th>\n",
       "      <td>[{'shift': 0, 'willingness': -0.5}, {'shift': ...</td>\n",
       "      <td>[{'shift': 0, 'willingness': -0.5}, {'shift': ...</td>\n",
       "    </tr>\n",
       "    <tr>\n",
       "      <th>d18</th>\n",
       "      <td>[{'shift': 0, 'willingness': 0.5}, {'shift': 1...</td>\n",
       "      <td>[{'shift': 0, 'willingness': 0.5}, {'shift': 1...</td>\n",
       "    </tr>\n",
       "    <tr>\n",
       "      <th>d19</th>\n",
       "      <td>[{'shift': 0, 'willingness': 0.5}, {'shift': 1...</td>\n",
       "      <td>[{'shift': 0, 'willingness': 0.5}, {'shift': 1...</td>\n",
       "    </tr>\n",
       "    <tr>\n",
       "      <th>d20</th>\n",
       "      <td>[{'shift': 0, 'willingness': 0.5}, {'shift': 1...</td>\n",
       "      <td>[{'shift': 0, 'willingness': 0.5}, {'shift': 1...</td>\n",
       "    </tr>\n",
       "    <tr>\n",
       "      <th>d21</th>\n",
       "      <td>[{'shift': 0, 'willingness': 0.0}, {'shift': 1...</td>\n",
       "      <td>[{'shift': 0, 'willingness': 0.0}, {'shift': 1...</td>\n",
       "    </tr>\n",
       "    <tr>\n",
       "      <th>d22</th>\n",
       "      <td>[{'shift': 0, 'willingness': 1.0}, {'shift': 1...</td>\n",
       "      <td>[{'shift': 0, 'willingness': 1.0}, {'shift': 1...</td>\n",
       "    </tr>\n",
       "    <tr>\n",
       "      <th>d23</th>\n",
       "      <td>[{'shift': 0, 'willingness': 1.0}, {'shift': 1...</td>\n",
       "      <td>[{'shift': 0, 'willingness': 1.0}, {'shift': 1...</td>\n",
       "    </tr>\n",
       "    <tr>\n",
       "      <th>d24</th>\n",
       "      <td>[{'shift': 0, 'willingness': -0.5}, {'shift': ...</td>\n",
       "      <td>[{'shift': 0, 'willingness': -0.5}, {'shift': ...</td>\n",
       "    </tr>\n",
       "    <tr>\n",
       "      <th>d25</th>\n",
       "      <td>[{'shift': 0, 'willingness': 0.5}, {'shift': 1...</td>\n",
       "      <td>[{'shift': 0, 'willingness': 0.5}, {'shift': 1...</td>\n",
       "    </tr>\n",
       "    <tr>\n",
       "      <th>d26</th>\n",
       "      <td>[{'shift': 0, 'willingness': 0.5}, {'shift': 1...</td>\n",
       "      <td>[{'shift': 0, 'willingness': 0.5}, {'shift': 1...</td>\n",
       "    </tr>\n",
       "    <tr>\n",
       "      <th>d27</th>\n",
       "      <td>[{'shift': 0, 'willingness': 0.5}, {'shift': 1...</td>\n",
       "      <td>[{'shift': 0, 'willingness': 0.5}, {'shift': 1...</td>\n",
       "    </tr>\n",
       "    <tr>\n",
       "      <th>d28</th>\n",
       "      <td>[{'shift': 0, 'willingness': 0.0}, {'shift': 1...</td>\n",
       "      <td>[{'shift': 0, 'willingness': 0.0}, {'shift': 1...</td>\n",
       "    </tr>\n",
       "  </tbody>\n",
       "</table>\n",
       "</div>"
      ],
      "text/plain": [
       "                                                 Alice  \\\n",
       "d1   [{'shift': 0, 'willingness': 0.0}, {'shift': 1...   \n",
       "d2   [{'shift': 0, 'willingness': -0.5}, {'shift': ...   \n",
       "d3   [{'shift': 0, 'willingness': 0.5}, {'shift': 1...   \n",
       "d4   [{'shift': 0, 'willingness': 0.5}, {'shift': 1...   \n",
       "d5   [{'shift': 0, 'willingness': 0.5}, {'shift': 1...   \n",
       "d6   [{'shift': 0, 'willingness': 0.0}, {'shift': 1...   \n",
       "d7   [{'shift': 0, 'willingness': 0.0}, {'shift': 1...   \n",
       "d8   [{'shift': 0, 'willingness': 1.0}, {'shift': 1...   \n",
       "d9   [{'shift': 0, 'willingness': 1.0}, {'shift': 1...   \n",
       "d10  [{'shift': 0, 'willingness': -0.5}, {'shift': ...   \n",
       "d11  [{'shift': 0, 'willingness': 0.5}, {'shift': 1...   \n",
       "d12  [{'shift': 0, 'willingness': 0.5}, {'shift': 1...   \n",
       "d13  [{'shift': 0, 'willingness': 0.5}, {'shift': 1...   \n",
       "d14  [{'shift': 0, 'willingness': 0.0}, {'shift': 1...   \n",
       "d15  [{'shift': 0, 'willingness': 0.0}, {'shift': 1...   \n",
       "d16  [{'shift': 0, 'willingness': 0.0}, {'shift': 1...   \n",
       "d17  [{'shift': 0, 'willingness': -0.5}, {'shift': ...   \n",
       "d18  [{'shift': 0, 'willingness': 0.5}, {'shift': 1...   \n",
       "d19  [{'shift': 0, 'willingness': 0.5}, {'shift': 1...   \n",
       "d20  [{'shift': 0, 'willingness': 0.5}, {'shift': 1...   \n",
       "d21  [{'shift': 0, 'willingness': 0.0}, {'shift': 1...   \n",
       "d22  [{'shift': 0, 'willingness': 1.0}, {'shift': 1...   \n",
       "d23  [{'shift': 0, 'willingness': 1.0}, {'shift': 1...   \n",
       "d24  [{'shift': 0, 'willingness': -0.5}, {'shift': ...   \n",
       "d25  [{'shift': 0, 'willingness': 0.5}, {'shift': 1...   \n",
       "d26  [{'shift': 0, 'willingness': 0.5}, {'shift': 1...   \n",
       "d27  [{'shift': 0, 'willingness': 0.5}, {'shift': 1...   \n",
       "d28  [{'shift': 0, 'willingness': 0.0}, {'shift': 1...   \n",
       "\n",
       "                                                   Bob  \n",
       "d1   [{'shift': 0, 'willingness': 0.0}, {'shift': 1...  \n",
       "d2   [{'shift': 0, 'willingness': -0.5}, {'shift': ...  \n",
       "d3   [{'shift': 0, 'willingness': 0.5}, {'shift': 1...  \n",
       "d4   [{'shift': 0, 'willingness': 0.5}, {'shift': 1...  \n",
       "d5   [{'shift': 0, 'willingness': 0.5}, {'shift': 1...  \n",
       "d6   [{'shift': 0, 'willingness': 0.0}, {'shift': 1...  \n",
       "d7   [{'shift': 0, 'willingness': 0.0}, {'shift': 1...  \n",
       "d8   [{'shift': 0, 'willingness': 1.0}, {'shift': 1...  \n",
       "d9   [{'shift': 0, 'willingness': 1.0}, {'shift': 1...  \n",
       "d10  [{'shift': 0, 'willingness': -0.5}, {'shift': ...  \n",
       "d11  [{'shift': 0, 'willingness': 0.5}, {'shift': 1...  \n",
       "d12  [{'shift': 0, 'willingness': 0.5}, {'shift': 1...  \n",
       "d13  [{'shift': 0, 'willingness': 0.5}, {'shift': 1...  \n",
       "d14  [{'shift': 0, 'willingness': 0.0}, {'shift': 1...  \n",
       "d15  [{'shift': 0, 'willingness': 0.0}, {'shift': 1...  \n",
       "d16  [{'shift': 0, 'willingness': 0.0}, {'shift': 1...  \n",
       "d17  [{'shift': 0, 'willingness': -0.5}, {'shift': ...  \n",
       "d18  [{'shift': 0, 'willingness': 0.5}, {'shift': 1...  \n",
       "d19  [{'shift': 0, 'willingness': 0.5}, {'shift': 1...  \n",
       "d20  [{'shift': 0, 'willingness': 0.5}, {'shift': 1...  \n",
       "d21  [{'shift': 0, 'willingness': 0.0}, {'shift': 1...  \n",
       "d22  [{'shift': 0, 'willingness': 1.0}, {'shift': 1...  \n",
       "d23  [{'shift': 0, 'willingness': 1.0}, {'shift': 1...  \n",
       "d24  [{'shift': 0, 'willingness': -0.5}, {'shift': ...  \n",
       "d25  [{'shift': 0, 'willingness': 0.5}, {'shift': 1...  \n",
       "d26  [{'shift': 0, 'willingness': 0.5}, {'shift': 1...  \n",
       "d27  [{'shift': 0, 'willingness': 0.5}, {'shift': 1...  \n",
       "d28  [{'shift': 0, 'willingness': 0.0}, {'shift': 1...  "
      ]
     },
     "execution_count": 3,
     "metadata": {},
     "output_type": "execute_result"
    }
   ],
   "source": [
    "df_will"
   ]
  },
  {
   "cell_type": "code",
   "execution_count": 4,
   "id": "79b73f95",
   "metadata": {
    "ExecuteTime": {
     "end_time": "2025-10-18T13:12:55.561254Z",
     "start_time": "2025-10-18T13:12:55.557873Z"
    }
   },
   "outputs": [],
   "source": [
    "rows = []\n",
    "\n",
    "for day, row in df_will.iterrows():\n",
    "    for employee, shifts in row.items():\n",
    "        for s in shifts:\n",
    "            rows.append({\n",
    "                \"employee\": employee,\n",
    "                \"day\": day,\n",
    "                \"shift\": s[\"shift\"],\n",
    "                \"willingness\": s[\"willingness\"]\n",
    "            })\n",
    "\n",
    "\n",
    "df_flat = pd.DataFrame(rows)"
   ]
  },
  {
   "cell_type": "code",
   "execution_count": 5,
   "id": "fd6de653334ced73",
   "metadata": {
    "ExecuteTime": {
     "end_time": "2025-10-18T13:12:55.629418Z",
     "start_time": "2025-10-18T13:12:55.626289Z"
    }
   },
   "outputs": [],
   "source": [
    "df_flat = df_flat.sort_values([\"employee\", \"day\", \"shift\"]).reset_index(drop=True)"
   ]
  },
  {
   "cell_type": "code",
   "execution_count": 6,
   "id": "5cc540878ca227d2",
   "metadata": {
    "ExecuteTime": {
     "end_time": "2025-10-18T13:12:55.655813Z",
     "start_time": "2025-10-18T13:12:55.652390Z"
    }
   },
   "outputs": [],
   "source": [
    "df_flat[\"shift\"] = df_flat[\"shift\"].map({0: \"morning\", 1: \"evening\"})"
   ]
  },
  {
   "cell_type": "code",
   "execution_count": 7,
   "id": "d52401972987b2d6",
   "metadata": {
    "ExecuteTime": {
     "end_time": "2025-10-18T13:12:55.681667Z",
     "start_time": "2025-10-18T13:12:55.674611Z"
    }
   },
   "outputs": [
    {
     "data": {
      "application/vnd.microsoft.datawrangler.viewer.v0+json": {
       "columns": [
        {
         "name": "index",
         "rawType": "int64",
         "type": "integer"
        },
        {
         "name": "employee",
         "rawType": "object",
         "type": "string"
        },
        {
         "name": "day",
         "rawType": "object",
         "type": "string"
        },
        {
         "name": "shift",
         "rawType": "object",
         "type": "string"
        },
        {
         "name": "willingness",
         "rawType": "float64",
         "type": "float"
        }
       ],
       "ref": "c8f59319-4d2c-4ad6-afd1-a82ff6d7f616",
       "rows": [
        [
         "0",
         "Alice",
         "d1",
         "morning",
         "0.0"
        ],
        [
         "1",
         "Alice",
         "d1",
         "evening",
         "0.0"
        ],
        [
         "2",
         "Alice",
         "d10",
         "morning",
         "-0.5"
        ],
        [
         "3",
         "Alice",
         "d10",
         "evening",
         "-0.5"
        ],
        [
         "4",
         "Alice",
         "d11",
         "morning",
         "0.5"
        ],
        [
         "5",
         "Alice",
         "d11",
         "evening",
         "0.5"
        ],
        [
         "6",
         "Alice",
         "d12",
         "morning",
         "0.5"
        ],
        [
         "7",
         "Alice",
         "d12",
         "evening",
         "0.5"
        ],
        [
         "8",
         "Alice",
         "d13",
         "morning",
         "0.5"
        ],
        [
         "9",
         "Alice",
         "d13",
         "evening",
         "0.5"
        ],
        [
         "10",
         "Alice",
         "d14",
         "morning",
         "0.0"
        ],
        [
         "11",
         "Alice",
         "d14",
         "evening",
         "0.0"
        ],
        [
         "12",
         "Alice",
         "d15",
         "morning",
         "0.0"
        ],
        [
         "13",
         "Alice",
         "d15",
         "evening",
         "0.0"
        ],
        [
         "14",
         "Alice",
         "d16",
         "morning",
         "0.0"
        ],
        [
         "15",
         "Alice",
         "d16",
         "evening",
         "0.0"
        ],
        [
         "16",
         "Alice",
         "d17",
         "morning",
         "-0.5"
        ],
        [
         "17",
         "Alice",
         "d17",
         "evening",
         "-0.5"
        ],
        [
         "18",
         "Alice",
         "d18",
         "morning",
         "0.5"
        ],
        [
         "19",
         "Alice",
         "d18",
         "evening",
         "0.5"
        ],
        [
         "20",
         "Alice",
         "d19",
         "morning",
         "0.5"
        ],
        [
         "21",
         "Alice",
         "d19",
         "evening",
         "0.5"
        ],
        [
         "22",
         "Alice",
         "d2",
         "morning",
         "-0.5"
        ],
        [
         "23",
         "Alice",
         "d2",
         "evening",
         "-0.5"
        ],
        [
         "24",
         "Alice",
         "d20",
         "morning",
         "0.5"
        ],
        [
         "25",
         "Alice",
         "d20",
         "evening",
         "0.5"
        ],
        [
         "26",
         "Alice",
         "d21",
         "morning",
         "0.0"
        ],
        [
         "27",
         "Alice",
         "d21",
         "evening",
         "0.0"
        ],
        [
         "28",
         "Alice",
         "d22",
         "morning",
         "1.0"
        ],
        [
         "29",
         "Alice",
         "d22",
         "evening",
         "0.0"
        ],
        [
         "30",
         "Alice",
         "d23",
         "morning",
         "1.0"
        ],
        [
         "31",
         "Alice",
         "d23",
         "evening",
         "0.0"
        ],
        [
         "32",
         "Alice",
         "d24",
         "morning",
         "-0.5"
        ],
        [
         "33",
         "Alice",
         "d24",
         "evening",
         "-0.5"
        ],
        [
         "34",
         "Alice",
         "d25",
         "morning",
         "0.5"
        ],
        [
         "35",
         "Alice",
         "d25",
         "evening",
         "0.5"
        ],
        [
         "36",
         "Alice",
         "d26",
         "morning",
         "0.5"
        ],
        [
         "37",
         "Alice",
         "d26",
         "evening",
         "0.5"
        ],
        [
         "38",
         "Alice",
         "d27",
         "morning",
         "0.5"
        ],
        [
         "39",
         "Alice",
         "d27",
         "evening",
         "0.5"
        ],
        [
         "40",
         "Alice",
         "d28",
         "morning",
         "0.0"
        ],
        [
         "41",
         "Alice",
         "d28",
         "evening",
         "0.0"
        ],
        [
         "42",
         "Alice",
         "d3",
         "morning",
         "0.5"
        ],
        [
         "43",
         "Alice",
         "d3",
         "evening",
         "0.5"
        ],
        [
         "44",
         "Alice",
         "d4",
         "morning",
         "0.5"
        ],
        [
         "45",
         "Alice",
         "d4",
         "evening",
         "0.5"
        ],
        [
         "46",
         "Alice",
         "d5",
         "morning",
         "0.5"
        ],
        [
         "47",
         "Alice",
         "d5",
         "evening",
         "0.5"
        ],
        [
         "48",
         "Alice",
         "d6",
         "morning",
         "0.0"
        ],
        [
         "49",
         "Alice",
         "d6",
         "evening",
         "0.0"
        ]
       ],
       "shape": {
        "columns": 4,
        "rows": 112
       }
      },
      "text/html": [
       "<div>\n",
       "<style scoped>\n",
       "    .dataframe tbody tr th:only-of-type {\n",
       "        vertical-align: middle;\n",
       "    }\n",
       "\n",
       "    .dataframe tbody tr th {\n",
       "        vertical-align: top;\n",
       "    }\n",
       "\n",
       "    .dataframe thead th {\n",
       "        text-align: right;\n",
       "    }\n",
       "</style>\n",
       "<table border=\"1\" class=\"dataframe\">\n",
       "  <thead>\n",
       "    <tr style=\"text-align: right;\">\n",
       "      <th></th>\n",
       "      <th>employee</th>\n",
       "      <th>day</th>\n",
       "      <th>shift</th>\n",
       "      <th>willingness</th>\n",
       "    </tr>\n",
       "  </thead>\n",
       "  <tbody>\n",
       "    <tr>\n",
       "      <th>0</th>\n",
       "      <td>Alice</td>\n",
       "      <td>d1</td>\n",
       "      <td>morning</td>\n",
       "      <td>0.0</td>\n",
       "    </tr>\n",
       "    <tr>\n",
       "      <th>1</th>\n",
       "      <td>Alice</td>\n",
       "      <td>d1</td>\n",
       "      <td>evening</td>\n",
       "      <td>0.0</td>\n",
       "    </tr>\n",
       "    <tr>\n",
       "      <th>2</th>\n",
       "      <td>Alice</td>\n",
       "      <td>d10</td>\n",
       "      <td>morning</td>\n",
       "      <td>-0.5</td>\n",
       "    </tr>\n",
       "    <tr>\n",
       "      <th>3</th>\n",
       "      <td>Alice</td>\n",
       "      <td>d10</td>\n",
       "      <td>evening</td>\n",
       "      <td>-0.5</td>\n",
       "    </tr>\n",
       "    <tr>\n",
       "      <th>4</th>\n",
       "      <td>Alice</td>\n",
       "      <td>d11</td>\n",
       "      <td>morning</td>\n",
       "      <td>0.5</td>\n",
       "    </tr>\n",
       "    <tr>\n",
       "      <th>...</th>\n",
       "      <td>...</td>\n",
       "      <td>...</td>\n",
       "      <td>...</td>\n",
       "      <td>...</td>\n",
       "    </tr>\n",
       "    <tr>\n",
       "      <th>107</th>\n",
       "      <td>Bob</td>\n",
       "      <td>d7</td>\n",
       "      <td>evening</td>\n",
       "      <td>0.0</td>\n",
       "    </tr>\n",
       "    <tr>\n",
       "      <th>108</th>\n",
       "      <td>Bob</td>\n",
       "      <td>d8</td>\n",
       "      <td>morning</td>\n",
       "      <td>1.0</td>\n",
       "    </tr>\n",
       "    <tr>\n",
       "      <th>109</th>\n",
       "      <td>Bob</td>\n",
       "      <td>d8</td>\n",
       "      <td>evening</td>\n",
       "      <td>0.0</td>\n",
       "    </tr>\n",
       "    <tr>\n",
       "      <th>110</th>\n",
       "      <td>Bob</td>\n",
       "      <td>d9</td>\n",
       "      <td>morning</td>\n",
       "      <td>1.0</td>\n",
       "    </tr>\n",
       "    <tr>\n",
       "      <th>111</th>\n",
       "      <td>Bob</td>\n",
       "      <td>d9</td>\n",
       "      <td>evening</td>\n",
       "      <td>0.0</td>\n",
       "    </tr>\n",
       "  </tbody>\n",
       "</table>\n",
       "<p>112 rows × 4 columns</p>\n",
       "</div>"
      ],
      "text/plain": [
       "    employee  day    shift  willingness\n",
       "0      Alice   d1  morning          0.0\n",
       "1      Alice   d1  evening          0.0\n",
       "2      Alice  d10  morning         -0.5\n",
       "3      Alice  d10  evening         -0.5\n",
       "4      Alice  d11  morning          0.5\n",
       "..       ...  ...      ...          ...\n",
       "107      Bob   d7  evening          0.0\n",
       "108      Bob   d8  morning          1.0\n",
       "109      Bob   d8  evening          0.0\n",
       "110      Bob   d9  morning          1.0\n",
       "111      Bob   d9  evening          0.0\n",
       "\n",
       "[112 rows x 4 columns]"
      ]
     },
     "execution_count": 7,
     "metadata": {},
     "output_type": "execute_result"
    }
   ],
   "source": [
    "df_flat"
   ]
  },
  {
   "cell_type": "code",
   "execution_count": 8,
   "id": "28f7ad0648fe48d6",
   "metadata": {
    "ExecuteTime": {
     "end_time": "2025-10-18T13:12:55.722999Z",
     "start_time": "2025-10-18T13:12:55.719348Z"
    }
   },
   "outputs": [],
   "source": [
    "df_flat[\"day\"] = df_flat[\"day\"].str.extract(r\"(\\d+)\").astype(int)\n",
    "df_sorted = df_flat.sort_values([\"employee\", \"day\", \"shift\"]).reset_index(drop=True)"
   ]
  },
  {
   "cell_type": "code",
   "execution_count": 9,
   "id": "820d22fa2589f1d1",
   "metadata": {
    "ExecuteTime": {
     "end_time": "2025-10-18T13:12:55.789620Z",
     "start_time": "2025-10-18T13:12:55.783516Z"
    }
   },
   "outputs": [
    {
     "data": {
      "application/vnd.microsoft.datawrangler.viewer.v0+json": {
       "columns": [
        {
         "name": "index",
         "rawType": "int64",
         "type": "integer"
        },
        {
         "name": "employee",
         "rawType": "object",
         "type": "string"
        },
        {
         "name": "day",
         "rawType": "int64",
         "type": "integer"
        },
        {
         "name": "shift",
         "rawType": "object",
         "type": "string"
        },
        {
         "name": "willingness",
         "rawType": "float64",
         "type": "float"
        }
       ],
       "ref": "25093940-09d3-49ae-8823-60a0ff7884ce",
       "rows": [
        [
         "0",
         "Alice",
         "1",
         "evening",
         "0.0"
        ],
        [
         "1",
         "Alice",
         "1",
         "morning",
         "0.0"
        ],
        [
         "2",
         "Alice",
         "2",
         "evening",
         "-0.5"
        ],
        [
         "3",
         "Alice",
         "2",
         "morning",
         "-0.5"
        ],
        [
         "4",
         "Alice",
         "3",
         "evening",
         "0.5"
        ],
        [
         "5",
         "Alice",
         "3",
         "morning",
         "0.5"
        ],
        [
         "6",
         "Alice",
         "4",
         "evening",
         "0.5"
        ],
        [
         "7",
         "Alice",
         "4",
         "morning",
         "0.5"
        ],
        [
         "8",
         "Alice",
         "5",
         "evening",
         "0.5"
        ],
        [
         "9",
         "Alice",
         "5",
         "morning",
         "0.5"
        ],
        [
         "10",
         "Alice",
         "6",
         "evening",
         "0.0"
        ],
        [
         "11",
         "Alice",
         "6",
         "morning",
         "0.0"
        ],
        [
         "12",
         "Alice",
         "7",
         "evening",
         "0.0"
        ],
        [
         "13",
         "Alice",
         "7",
         "morning",
         "0.0"
        ],
        [
         "14",
         "Alice",
         "8",
         "evening",
         "0.0"
        ],
        [
         "15",
         "Alice",
         "8",
         "morning",
         "1.0"
        ],
        [
         "16",
         "Alice",
         "9",
         "evening",
         "0.0"
        ],
        [
         "17",
         "Alice",
         "9",
         "morning",
         "1.0"
        ],
        [
         "18",
         "Alice",
         "10",
         "evening",
         "-0.5"
        ],
        [
         "19",
         "Alice",
         "10",
         "morning",
         "-0.5"
        ],
        [
         "20",
         "Alice",
         "11",
         "evening",
         "0.5"
        ],
        [
         "21",
         "Alice",
         "11",
         "morning",
         "0.5"
        ],
        [
         "22",
         "Alice",
         "12",
         "evening",
         "0.5"
        ],
        [
         "23",
         "Alice",
         "12",
         "morning",
         "0.5"
        ],
        [
         "24",
         "Alice",
         "13",
         "evening",
         "0.5"
        ],
        [
         "25",
         "Alice",
         "13",
         "morning",
         "0.5"
        ],
        [
         "26",
         "Alice",
         "14",
         "evening",
         "0.0"
        ],
        [
         "27",
         "Alice",
         "14",
         "morning",
         "0.0"
        ],
        [
         "28",
         "Alice",
         "15",
         "evening",
         "0.0"
        ],
        [
         "29",
         "Alice",
         "15",
         "morning",
         "0.0"
        ],
        [
         "30",
         "Alice",
         "16",
         "evening",
         "0.0"
        ],
        [
         "31",
         "Alice",
         "16",
         "morning",
         "0.0"
        ],
        [
         "32",
         "Alice",
         "17",
         "evening",
         "-0.5"
        ],
        [
         "33",
         "Alice",
         "17",
         "morning",
         "-0.5"
        ],
        [
         "34",
         "Alice",
         "18",
         "evening",
         "0.5"
        ],
        [
         "35",
         "Alice",
         "18",
         "morning",
         "0.5"
        ],
        [
         "36",
         "Alice",
         "19",
         "evening",
         "0.5"
        ],
        [
         "37",
         "Alice",
         "19",
         "morning",
         "0.5"
        ],
        [
         "38",
         "Alice",
         "20",
         "evening",
         "0.5"
        ],
        [
         "39",
         "Alice",
         "20",
         "morning",
         "0.5"
        ],
        [
         "40",
         "Alice",
         "21",
         "evening",
         "0.0"
        ],
        [
         "41",
         "Alice",
         "21",
         "morning",
         "0.0"
        ],
        [
         "42",
         "Alice",
         "22",
         "evening",
         "0.0"
        ],
        [
         "43",
         "Alice",
         "22",
         "morning",
         "1.0"
        ],
        [
         "44",
         "Alice",
         "23",
         "evening",
         "0.0"
        ],
        [
         "45",
         "Alice",
         "23",
         "morning",
         "1.0"
        ],
        [
         "46",
         "Alice",
         "24",
         "evening",
         "-0.5"
        ],
        [
         "47",
         "Alice",
         "24",
         "morning",
         "-0.5"
        ],
        [
         "48",
         "Alice",
         "25",
         "evening",
         "0.5"
        ],
        [
         "49",
         "Alice",
         "25",
         "morning",
         "0.5"
        ]
       ],
       "shape": {
        "columns": 4,
        "rows": 112
       }
      },
      "text/html": [
       "<div>\n",
       "<style scoped>\n",
       "    .dataframe tbody tr th:only-of-type {\n",
       "        vertical-align: middle;\n",
       "    }\n",
       "\n",
       "    .dataframe tbody tr th {\n",
       "        vertical-align: top;\n",
       "    }\n",
       "\n",
       "    .dataframe thead th {\n",
       "        text-align: right;\n",
       "    }\n",
       "</style>\n",
       "<table border=\"1\" class=\"dataframe\">\n",
       "  <thead>\n",
       "    <tr style=\"text-align: right;\">\n",
       "      <th></th>\n",
       "      <th>employee</th>\n",
       "      <th>day</th>\n",
       "      <th>shift</th>\n",
       "      <th>willingness</th>\n",
       "    </tr>\n",
       "  </thead>\n",
       "  <tbody>\n",
       "    <tr>\n",
       "      <th>0</th>\n",
       "      <td>Alice</td>\n",
       "      <td>1</td>\n",
       "      <td>evening</td>\n",
       "      <td>0.0</td>\n",
       "    </tr>\n",
       "    <tr>\n",
       "      <th>1</th>\n",
       "      <td>Alice</td>\n",
       "      <td>1</td>\n",
       "      <td>morning</td>\n",
       "      <td>0.0</td>\n",
       "    </tr>\n",
       "    <tr>\n",
       "      <th>2</th>\n",
       "      <td>Alice</td>\n",
       "      <td>2</td>\n",
       "      <td>evening</td>\n",
       "      <td>-0.5</td>\n",
       "    </tr>\n",
       "    <tr>\n",
       "      <th>3</th>\n",
       "      <td>Alice</td>\n",
       "      <td>2</td>\n",
       "      <td>morning</td>\n",
       "      <td>-0.5</td>\n",
       "    </tr>\n",
       "    <tr>\n",
       "      <th>4</th>\n",
       "      <td>Alice</td>\n",
       "      <td>3</td>\n",
       "      <td>evening</td>\n",
       "      <td>0.5</td>\n",
       "    </tr>\n",
       "    <tr>\n",
       "      <th>...</th>\n",
       "      <td>...</td>\n",
       "      <td>...</td>\n",
       "      <td>...</td>\n",
       "      <td>...</td>\n",
       "    </tr>\n",
       "    <tr>\n",
       "      <th>107</th>\n",
       "      <td>Bob</td>\n",
       "      <td>26</td>\n",
       "      <td>morning</td>\n",
       "      <td>0.5</td>\n",
       "    </tr>\n",
       "    <tr>\n",
       "      <th>108</th>\n",
       "      <td>Bob</td>\n",
       "      <td>27</td>\n",
       "      <td>evening</td>\n",
       "      <td>0.5</td>\n",
       "    </tr>\n",
       "    <tr>\n",
       "      <th>109</th>\n",
       "      <td>Bob</td>\n",
       "      <td>27</td>\n",
       "      <td>morning</td>\n",
       "      <td>0.5</td>\n",
       "    </tr>\n",
       "    <tr>\n",
       "      <th>110</th>\n",
       "      <td>Bob</td>\n",
       "      <td>28</td>\n",
       "      <td>evening</td>\n",
       "      <td>0.0</td>\n",
       "    </tr>\n",
       "    <tr>\n",
       "      <th>111</th>\n",
       "      <td>Bob</td>\n",
       "      <td>28</td>\n",
       "      <td>morning</td>\n",
       "      <td>0.0</td>\n",
       "    </tr>\n",
       "  </tbody>\n",
       "</table>\n",
       "<p>112 rows × 4 columns</p>\n",
       "</div>"
      ],
      "text/plain": [
       "    employee  day    shift  willingness\n",
       "0      Alice    1  evening          0.0\n",
       "1      Alice    1  morning          0.0\n",
       "2      Alice    2  evening         -0.5\n",
       "3      Alice    2  morning         -0.5\n",
       "4      Alice    3  evening          0.5\n",
       "..       ...  ...      ...          ...\n",
       "107      Bob   26  morning          0.5\n",
       "108      Bob   27  evening          0.5\n",
       "109      Bob   27  morning          0.5\n",
       "110      Bob   28  evening          0.0\n",
       "111      Bob   28  morning          0.0\n",
       "\n",
       "[112 rows x 4 columns]"
      ]
     },
     "execution_count": 9,
     "metadata": {},
     "output_type": "execute_result"
    }
   ],
   "source": [
    "df_sorted"
   ]
  },
  {
   "cell_type": "code",
   "execution_count": 10,
   "id": "a9c1933122baa499",
   "metadata": {
    "ExecuteTime": {
     "end_time": "2025-10-18T13:12:56.007096Z",
     "start_time": "2025-10-18T13:12:55.994961Z"
    }
   },
   "outputs": [
    {
     "data": {
      "application/vnd.microsoft.datawrangler.viewer.v0+json": {
       "columns": [
        {
         "name": "index",
         "rawType": "int64",
         "type": "integer"
        },
        {
         "name": "employee",
         "rawType": "object",
         "type": "string"
        },
        {
         "name": "day",
         "rawType": "int64",
         "type": "integer"
        },
        {
         "name": "shift",
         "rawType": "object",
         "type": "string"
        },
        {
         "name": "willingness",
         "rawType": "float64",
         "type": "float"
        }
       ],
       "ref": "c4701e3e-c5dd-47d2-8acf-c9f2ae4fe903",
       "rows": [
        [
         "0",
         "Alice",
         "1",
         "evening",
         "0.0"
        ],
        [
         "1",
         "Alice",
         "1",
         "morning",
         "0.0"
        ],
        [
         "2",
         "Alice",
         "2",
         "evening",
         "-0.5"
        ],
        [
         "3",
         "Alice",
         "2",
         "morning",
         "-0.5"
        ],
        [
         "4",
         "Alice",
         "3",
         "evening",
         "0.5"
        ],
        [
         "5",
         "Alice",
         "3",
         "morning",
         "0.5"
        ],
        [
         "6",
         "Alice",
         "4",
         "evening",
         "0.5"
        ],
        [
         "7",
         "Alice",
         "4",
         "morning",
         "0.5"
        ],
        [
         "8",
         "Alice",
         "5",
         "evening",
         "0.5"
        ],
        [
         "9",
         "Alice",
         "5",
         "morning",
         "0.5"
        ],
        [
         "10",
         "Alice",
         "6",
         "evening",
         "0.0"
        ],
        [
         "11",
         "Alice",
         "6",
         "morning",
         "0.0"
        ],
        [
         "12",
         "Alice",
         "7",
         "evening",
         "0.0"
        ],
        [
         "13",
         "Alice",
         "7",
         "morning",
         "0.0"
        ],
        [
         "14",
         "Alice",
         "8",
         "evening",
         "0.0"
        ],
        [
         "15",
         "Alice",
         "8",
         "morning",
         "1.0"
        ],
        [
         "16",
         "Alice",
         "9",
         "evening",
         "0.0"
        ],
        [
         "17",
         "Alice",
         "9",
         "morning",
         "1.0"
        ],
        [
         "18",
         "Alice",
         "10",
         "evening",
         "-0.5"
        ],
        [
         "19",
         "Alice",
         "10",
         "morning",
         "-0.5"
        ],
        [
         "20",
         "Alice",
         "11",
         "evening",
         "0.5"
        ],
        [
         "21",
         "Alice",
         "11",
         "morning",
         "0.5"
        ],
        [
         "22",
         "Alice",
         "12",
         "evening",
         "0.5"
        ],
        [
         "23",
         "Alice",
         "12",
         "morning",
         "0.5"
        ],
        [
         "24",
         "Alice",
         "13",
         "evening",
         "0.5"
        ],
        [
         "25",
         "Alice",
         "13",
         "morning",
         "0.5"
        ],
        [
         "26",
         "Alice",
         "14",
         "evening",
         "0.0"
        ],
        [
         "27",
         "Alice",
         "14",
         "morning",
         "0.0"
        ],
        [
         "28",
         "Alice",
         "15",
         "evening",
         "0.0"
        ],
        [
         "29",
         "Alice",
         "15",
         "morning",
         "0.0"
        ],
        [
         "30",
         "Alice",
         "16",
         "evening",
         "0.0"
        ],
        [
         "31",
         "Alice",
         "16",
         "morning",
         "0.0"
        ],
        [
         "32",
         "Alice",
         "17",
         "evening",
         "-0.5"
        ],
        [
         "33",
         "Alice",
         "17",
         "morning",
         "-0.5"
        ],
        [
         "34",
         "Alice",
         "18",
         "evening",
         "0.5"
        ],
        [
         "35",
         "Alice",
         "18",
         "morning",
         "0.5"
        ],
        [
         "36",
         "Alice",
         "19",
         "evening",
         "0.5"
        ],
        [
         "37",
         "Alice",
         "19",
         "morning",
         "0.5"
        ],
        [
         "38",
         "Alice",
         "20",
         "evening",
         "0.5"
        ],
        [
         "39",
         "Alice",
         "20",
         "morning",
         "0.5"
        ],
        [
         "40",
         "Alice",
         "21",
         "evening",
         "0.0"
        ],
        [
         "41",
         "Alice",
         "21",
         "morning",
         "0.0"
        ],
        [
         "42",
         "Alice",
         "22",
         "evening",
         "0.0"
        ],
        [
         "43",
         "Alice",
         "22",
         "morning",
         "1.0"
        ],
        [
         "44",
         "Alice",
         "23",
         "evening",
         "0.0"
        ],
        [
         "45",
         "Alice",
         "23",
         "morning",
         "1.0"
        ],
        [
         "46",
         "Alice",
         "24",
         "evening",
         "-0.5"
        ],
        [
         "47",
         "Alice",
         "24",
         "morning",
         "-0.5"
        ],
        [
         "48",
         "Alice",
         "25",
         "evening",
         "0.5"
        ],
        [
         "49",
         "Alice",
         "25",
         "morning",
         "0.5"
        ]
       ],
       "shape": {
        "columns": 4,
        "rows": 56
       }
      },
      "text/html": [
       "<div>\n",
       "<style scoped>\n",
       "    .dataframe tbody tr th:only-of-type {\n",
       "        vertical-align: middle;\n",
       "    }\n",
       "\n",
       "    .dataframe tbody tr th {\n",
       "        vertical-align: top;\n",
       "    }\n",
       "\n",
       "    .dataframe thead th {\n",
       "        text-align: right;\n",
       "    }\n",
       "</style>\n",
       "<table border=\"1\" class=\"dataframe\">\n",
       "  <thead>\n",
       "    <tr style=\"text-align: right;\">\n",
       "      <th></th>\n",
       "      <th>employee</th>\n",
       "      <th>day</th>\n",
       "      <th>shift</th>\n",
       "      <th>willingness</th>\n",
       "    </tr>\n",
       "  </thead>\n",
       "  <tbody>\n",
       "    <tr>\n",
       "      <th>0</th>\n",
       "      <td>Alice</td>\n",
       "      <td>1</td>\n",
       "      <td>evening</td>\n",
       "      <td>0.0</td>\n",
       "    </tr>\n",
       "    <tr>\n",
       "      <th>1</th>\n",
       "      <td>Alice</td>\n",
       "      <td>1</td>\n",
       "      <td>morning</td>\n",
       "      <td>0.0</td>\n",
       "    </tr>\n",
       "    <tr>\n",
       "      <th>2</th>\n",
       "      <td>Alice</td>\n",
       "      <td>2</td>\n",
       "      <td>evening</td>\n",
       "      <td>-0.5</td>\n",
       "    </tr>\n",
       "    <tr>\n",
       "      <th>3</th>\n",
       "      <td>Alice</td>\n",
       "      <td>2</td>\n",
       "      <td>morning</td>\n",
       "      <td>-0.5</td>\n",
       "    </tr>\n",
       "    <tr>\n",
       "      <th>4</th>\n",
       "      <td>Alice</td>\n",
       "      <td>3</td>\n",
       "      <td>evening</td>\n",
       "      <td>0.5</td>\n",
       "    </tr>\n",
       "    <tr>\n",
       "      <th>5</th>\n",
       "      <td>Alice</td>\n",
       "      <td>3</td>\n",
       "      <td>morning</td>\n",
       "      <td>0.5</td>\n",
       "    </tr>\n",
       "    <tr>\n",
       "      <th>6</th>\n",
       "      <td>Alice</td>\n",
       "      <td>4</td>\n",
       "      <td>evening</td>\n",
       "      <td>0.5</td>\n",
       "    </tr>\n",
       "    <tr>\n",
       "      <th>7</th>\n",
       "      <td>Alice</td>\n",
       "      <td>4</td>\n",
       "      <td>morning</td>\n",
       "      <td>0.5</td>\n",
       "    </tr>\n",
       "    <tr>\n",
       "      <th>8</th>\n",
       "      <td>Alice</td>\n",
       "      <td>5</td>\n",
       "      <td>evening</td>\n",
       "      <td>0.5</td>\n",
       "    </tr>\n",
       "    <tr>\n",
       "      <th>9</th>\n",
       "      <td>Alice</td>\n",
       "      <td>5</td>\n",
       "      <td>morning</td>\n",
       "      <td>0.5</td>\n",
       "    </tr>\n",
       "    <tr>\n",
       "      <th>10</th>\n",
       "      <td>Alice</td>\n",
       "      <td>6</td>\n",
       "      <td>evening</td>\n",
       "      <td>0.0</td>\n",
       "    </tr>\n",
       "    <tr>\n",
       "      <th>11</th>\n",
       "      <td>Alice</td>\n",
       "      <td>6</td>\n",
       "      <td>morning</td>\n",
       "      <td>0.0</td>\n",
       "    </tr>\n",
       "    <tr>\n",
       "      <th>12</th>\n",
       "      <td>Alice</td>\n",
       "      <td>7</td>\n",
       "      <td>evening</td>\n",
       "      <td>0.0</td>\n",
       "    </tr>\n",
       "    <tr>\n",
       "      <th>13</th>\n",
       "      <td>Alice</td>\n",
       "      <td>7</td>\n",
       "      <td>morning</td>\n",
       "      <td>0.0</td>\n",
       "    </tr>\n",
       "    <tr>\n",
       "      <th>14</th>\n",
       "      <td>Alice</td>\n",
       "      <td>8</td>\n",
       "      <td>evening</td>\n",
       "      <td>0.0</td>\n",
       "    </tr>\n",
       "    <tr>\n",
       "      <th>15</th>\n",
       "      <td>Alice</td>\n",
       "      <td>8</td>\n",
       "      <td>morning</td>\n",
       "      <td>1.0</td>\n",
       "    </tr>\n",
       "    <tr>\n",
       "      <th>16</th>\n",
       "      <td>Alice</td>\n",
       "      <td>9</td>\n",
       "      <td>evening</td>\n",
       "      <td>0.0</td>\n",
       "    </tr>\n",
       "    <tr>\n",
       "      <th>17</th>\n",
       "      <td>Alice</td>\n",
       "      <td>9</td>\n",
       "      <td>morning</td>\n",
       "      <td>1.0</td>\n",
       "    </tr>\n",
       "    <tr>\n",
       "      <th>18</th>\n",
       "      <td>Alice</td>\n",
       "      <td>10</td>\n",
       "      <td>evening</td>\n",
       "      <td>-0.5</td>\n",
       "    </tr>\n",
       "    <tr>\n",
       "      <th>19</th>\n",
       "      <td>Alice</td>\n",
       "      <td>10</td>\n",
       "      <td>morning</td>\n",
       "      <td>-0.5</td>\n",
       "    </tr>\n",
       "    <tr>\n",
       "      <th>20</th>\n",
       "      <td>Alice</td>\n",
       "      <td>11</td>\n",
       "      <td>evening</td>\n",
       "      <td>0.5</td>\n",
       "    </tr>\n",
       "    <tr>\n",
       "      <th>21</th>\n",
       "      <td>Alice</td>\n",
       "      <td>11</td>\n",
       "      <td>morning</td>\n",
       "      <td>0.5</td>\n",
       "    </tr>\n",
       "    <tr>\n",
       "      <th>22</th>\n",
       "      <td>Alice</td>\n",
       "      <td>12</td>\n",
       "      <td>evening</td>\n",
       "      <td>0.5</td>\n",
       "    </tr>\n",
       "    <tr>\n",
       "      <th>23</th>\n",
       "      <td>Alice</td>\n",
       "      <td>12</td>\n",
       "      <td>morning</td>\n",
       "      <td>0.5</td>\n",
       "    </tr>\n",
       "    <tr>\n",
       "      <th>24</th>\n",
       "      <td>Alice</td>\n",
       "      <td>13</td>\n",
       "      <td>evening</td>\n",
       "      <td>0.5</td>\n",
       "    </tr>\n",
       "    <tr>\n",
       "      <th>25</th>\n",
       "      <td>Alice</td>\n",
       "      <td>13</td>\n",
       "      <td>morning</td>\n",
       "      <td>0.5</td>\n",
       "    </tr>\n",
       "    <tr>\n",
       "      <th>26</th>\n",
       "      <td>Alice</td>\n",
       "      <td>14</td>\n",
       "      <td>evening</td>\n",
       "      <td>0.0</td>\n",
       "    </tr>\n",
       "    <tr>\n",
       "      <th>27</th>\n",
       "      <td>Alice</td>\n",
       "      <td>14</td>\n",
       "      <td>morning</td>\n",
       "      <td>0.0</td>\n",
       "    </tr>\n",
       "    <tr>\n",
       "      <th>28</th>\n",
       "      <td>Alice</td>\n",
       "      <td>15</td>\n",
       "      <td>evening</td>\n",
       "      <td>0.0</td>\n",
       "    </tr>\n",
       "    <tr>\n",
       "      <th>29</th>\n",
       "      <td>Alice</td>\n",
       "      <td>15</td>\n",
       "      <td>morning</td>\n",
       "      <td>0.0</td>\n",
       "    </tr>\n",
       "    <tr>\n",
       "      <th>30</th>\n",
       "      <td>Alice</td>\n",
       "      <td>16</td>\n",
       "      <td>evening</td>\n",
       "      <td>0.0</td>\n",
       "    </tr>\n",
       "    <tr>\n",
       "      <th>31</th>\n",
       "      <td>Alice</td>\n",
       "      <td>16</td>\n",
       "      <td>morning</td>\n",
       "      <td>0.0</td>\n",
       "    </tr>\n",
       "    <tr>\n",
       "      <th>32</th>\n",
       "      <td>Alice</td>\n",
       "      <td>17</td>\n",
       "      <td>evening</td>\n",
       "      <td>-0.5</td>\n",
       "    </tr>\n",
       "    <tr>\n",
       "      <th>33</th>\n",
       "      <td>Alice</td>\n",
       "      <td>17</td>\n",
       "      <td>morning</td>\n",
       "      <td>-0.5</td>\n",
       "    </tr>\n",
       "    <tr>\n",
       "      <th>34</th>\n",
       "      <td>Alice</td>\n",
       "      <td>18</td>\n",
       "      <td>evening</td>\n",
       "      <td>0.5</td>\n",
       "    </tr>\n",
       "    <tr>\n",
       "      <th>35</th>\n",
       "      <td>Alice</td>\n",
       "      <td>18</td>\n",
       "      <td>morning</td>\n",
       "      <td>0.5</td>\n",
       "    </tr>\n",
       "    <tr>\n",
       "      <th>36</th>\n",
       "      <td>Alice</td>\n",
       "      <td>19</td>\n",
       "      <td>evening</td>\n",
       "      <td>0.5</td>\n",
       "    </tr>\n",
       "    <tr>\n",
       "      <th>37</th>\n",
       "      <td>Alice</td>\n",
       "      <td>19</td>\n",
       "      <td>morning</td>\n",
       "      <td>0.5</td>\n",
       "    </tr>\n",
       "    <tr>\n",
       "      <th>38</th>\n",
       "      <td>Alice</td>\n",
       "      <td>20</td>\n",
       "      <td>evening</td>\n",
       "      <td>0.5</td>\n",
       "    </tr>\n",
       "    <tr>\n",
       "      <th>39</th>\n",
       "      <td>Alice</td>\n",
       "      <td>20</td>\n",
       "      <td>morning</td>\n",
       "      <td>0.5</td>\n",
       "    </tr>\n",
       "    <tr>\n",
       "      <th>40</th>\n",
       "      <td>Alice</td>\n",
       "      <td>21</td>\n",
       "      <td>evening</td>\n",
       "      <td>0.0</td>\n",
       "    </tr>\n",
       "    <tr>\n",
       "      <th>41</th>\n",
       "      <td>Alice</td>\n",
       "      <td>21</td>\n",
       "      <td>morning</td>\n",
       "      <td>0.0</td>\n",
       "    </tr>\n",
       "    <tr>\n",
       "      <th>42</th>\n",
       "      <td>Alice</td>\n",
       "      <td>22</td>\n",
       "      <td>evening</td>\n",
       "      <td>0.0</td>\n",
       "    </tr>\n",
       "    <tr>\n",
       "      <th>43</th>\n",
       "      <td>Alice</td>\n",
       "      <td>22</td>\n",
       "      <td>morning</td>\n",
       "      <td>1.0</td>\n",
       "    </tr>\n",
       "    <tr>\n",
       "      <th>44</th>\n",
       "      <td>Alice</td>\n",
       "      <td>23</td>\n",
       "      <td>evening</td>\n",
       "      <td>0.0</td>\n",
       "    </tr>\n",
       "    <tr>\n",
       "      <th>45</th>\n",
       "      <td>Alice</td>\n",
       "      <td>23</td>\n",
       "      <td>morning</td>\n",
       "      <td>1.0</td>\n",
       "    </tr>\n",
       "    <tr>\n",
       "      <th>46</th>\n",
       "      <td>Alice</td>\n",
       "      <td>24</td>\n",
       "      <td>evening</td>\n",
       "      <td>-0.5</td>\n",
       "    </tr>\n",
       "    <tr>\n",
       "      <th>47</th>\n",
       "      <td>Alice</td>\n",
       "      <td>24</td>\n",
       "      <td>morning</td>\n",
       "      <td>-0.5</td>\n",
       "    </tr>\n",
       "    <tr>\n",
       "      <th>48</th>\n",
       "      <td>Alice</td>\n",
       "      <td>25</td>\n",
       "      <td>evening</td>\n",
       "      <td>0.5</td>\n",
       "    </tr>\n",
       "    <tr>\n",
       "      <th>49</th>\n",
       "      <td>Alice</td>\n",
       "      <td>25</td>\n",
       "      <td>morning</td>\n",
       "      <td>0.5</td>\n",
       "    </tr>\n",
       "    <tr>\n",
       "      <th>50</th>\n",
       "      <td>Alice</td>\n",
       "      <td>26</td>\n",
       "      <td>evening</td>\n",
       "      <td>0.5</td>\n",
       "    </tr>\n",
       "    <tr>\n",
       "      <th>51</th>\n",
       "      <td>Alice</td>\n",
       "      <td>26</td>\n",
       "      <td>morning</td>\n",
       "      <td>0.5</td>\n",
       "    </tr>\n",
       "    <tr>\n",
       "      <th>52</th>\n",
       "      <td>Alice</td>\n",
       "      <td>27</td>\n",
       "      <td>evening</td>\n",
       "      <td>0.5</td>\n",
       "    </tr>\n",
       "    <tr>\n",
       "      <th>53</th>\n",
       "      <td>Alice</td>\n",
       "      <td>27</td>\n",
       "      <td>morning</td>\n",
       "      <td>0.5</td>\n",
       "    </tr>\n",
       "    <tr>\n",
       "      <th>54</th>\n",
       "      <td>Alice</td>\n",
       "      <td>28</td>\n",
       "      <td>evening</td>\n",
       "      <td>0.0</td>\n",
       "    </tr>\n",
       "    <tr>\n",
       "      <th>55</th>\n",
       "      <td>Alice</td>\n",
       "      <td>28</td>\n",
       "      <td>morning</td>\n",
       "      <td>0.0</td>\n",
       "    </tr>\n",
       "  </tbody>\n",
       "</table>\n",
       "</div>"
      ],
      "text/plain": [
       "   employee  day    shift  willingness\n",
       "0     Alice    1  evening          0.0\n",
       "1     Alice    1  morning          0.0\n",
       "2     Alice    2  evening         -0.5\n",
       "3     Alice    2  morning         -0.5\n",
       "4     Alice    3  evening          0.5\n",
       "5     Alice    3  morning          0.5\n",
       "6     Alice    4  evening          0.5\n",
       "7     Alice    4  morning          0.5\n",
       "8     Alice    5  evening          0.5\n",
       "9     Alice    5  morning          0.5\n",
       "10    Alice    6  evening          0.0\n",
       "11    Alice    6  morning          0.0\n",
       "12    Alice    7  evening          0.0\n",
       "13    Alice    7  morning          0.0\n",
       "14    Alice    8  evening          0.0\n",
       "15    Alice    8  morning          1.0\n",
       "16    Alice    9  evening          0.0\n",
       "17    Alice    9  morning          1.0\n",
       "18    Alice   10  evening         -0.5\n",
       "19    Alice   10  morning         -0.5\n",
       "20    Alice   11  evening          0.5\n",
       "21    Alice   11  morning          0.5\n",
       "22    Alice   12  evening          0.5\n",
       "23    Alice   12  morning          0.5\n",
       "24    Alice   13  evening          0.5\n",
       "25    Alice   13  morning          0.5\n",
       "26    Alice   14  evening          0.0\n",
       "27    Alice   14  morning          0.0\n",
       "28    Alice   15  evening          0.0\n",
       "29    Alice   15  morning          0.0\n",
       "30    Alice   16  evening          0.0\n",
       "31    Alice   16  morning          0.0\n",
       "32    Alice   17  evening         -0.5\n",
       "33    Alice   17  morning         -0.5\n",
       "34    Alice   18  evening          0.5\n",
       "35    Alice   18  morning          0.5\n",
       "36    Alice   19  evening          0.5\n",
       "37    Alice   19  morning          0.5\n",
       "38    Alice   20  evening          0.5\n",
       "39    Alice   20  morning          0.5\n",
       "40    Alice   21  evening          0.0\n",
       "41    Alice   21  morning          0.0\n",
       "42    Alice   22  evening          0.0\n",
       "43    Alice   22  morning          1.0\n",
       "44    Alice   23  evening          0.0\n",
       "45    Alice   23  morning          1.0\n",
       "46    Alice   24  evening         -0.5\n",
       "47    Alice   24  morning         -0.5\n",
       "48    Alice   25  evening          0.5\n",
       "49    Alice   25  morning          0.5\n",
       "50    Alice   26  evening          0.5\n",
       "51    Alice   26  morning          0.5\n",
       "52    Alice   27  evening          0.5\n",
       "53    Alice   27  morning          0.5\n",
       "54    Alice   28  evening          0.0\n",
       "55    Alice   28  morning          0.0"
      ]
     },
     "execution_count": 10,
     "metadata": {},
     "output_type": "execute_result"
    }
   ],
   "source": [
    "df_sorted[df_sorted[\"employee\"] == \"Alice\"]"
   ]
  },
  {
   "cell_type": "code",
   "execution_count": 11,
   "id": "8361875d1b14bf31",
   "metadata": {
    "ExecuteTime": {
     "end_time": "2025-10-18T13:12:56.100610Z",
     "start_time": "2025-10-18T13:12:56.098272Z"
    }
   },
   "outputs": [],
   "source": [
    "M_LLM_willingness = df_sorted[[\"employee\", \"day\", \"shift\", \"willingness\"]].values.tolist()"
   ]
  },
  {
   "cell_type": "code",
   "execution_count": 12,
   "id": "4291f2bfbe0fb841",
   "metadata": {
    "ExecuteTime": {
     "end_time": "2025-10-18T13:12:56.132035Z",
     "start_time": "2025-10-18T13:12:56.123985Z"
    }
   },
   "outputs": [
    {
     "data": {
      "text/plain": [
       "[['Alice', 1, 'evening', 0.0],\n",
       " ['Alice', 1, 'morning', 0.0],\n",
       " ['Alice', 2, 'evening', -0.5],\n",
       " ['Alice', 2, 'morning', -0.5],\n",
       " ['Alice', 3, 'evening', 0.5],\n",
       " ['Alice', 3, 'morning', 0.5],\n",
       " ['Alice', 4, 'evening', 0.5],\n",
       " ['Alice', 4, 'morning', 0.5],\n",
       " ['Alice', 5, 'evening', 0.5],\n",
       " ['Alice', 5, 'morning', 0.5],\n",
       " ['Alice', 6, 'evening', 0.0],\n",
       " ['Alice', 6, 'morning', 0.0],\n",
       " ['Alice', 7, 'evening', 0.0],\n",
       " ['Alice', 7, 'morning', 0.0],\n",
       " ['Alice', 8, 'evening', 0.0],\n",
       " ['Alice', 8, 'morning', 1.0],\n",
       " ['Alice', 9, 'evening', 0.0],\n",
       " ['Alice', 9, 'morning', 1.0],\n",
       " ['Alice', 10, 'evening', -0.5],\n",
       " ['Alice', 10, 'morning', -0.5],\n",
       " ['Alice', 11, 'evening', 0.5],\n",
       " ['Alice', 11, 'morning', 0.5],\n",
       " ['Alice', 12, 'evening', 0.5],\n",
       " ['Alice', 12, 'morning', 0.5],\n",
       " ['Alice', 13, 'evening', 0.5],\n",
       " ['Alice', 13, 'morning', 0.5],\n",
       " ['Alice', 14, 'evening', 0.0],\n",
       " ['Alice', 14, 'morning', 0.0],\n",
       " ['Alice', 15, 'evening', 0.0],\n",
       " ['Alice', 15, 'morning', 0.0],\n",
       " ['Alice', 16, 'evening', 0.0],\n",
       " ['Alice', 16, 'morning', 0.0],\n",
       " ['Alice', 17, 'evening', -0.5],\n",
       " ['Alice', 17, 'morning', -0.5],\n",
       " ['Alice', 18, 'evening', 0.5],\n",
       " ['Alice', 18, 'morning', 0.5],\n",
       " ['Alice', 19, 'evening', 0.5],\n",
       " ['Alice', 19, 'morning', 0.5],\n",
       " ['Alice', 20, 'evening', 0.5],\n",
       " ['Alice', 20, 'morning', 0.5],\n",
       " ['Alice', 21, 'evening', 0.0],\n",
       " ['Alice', 21, 'morning', 0.0],\n",
       " ['Alice', 22, 'evening', 0.0],\n",
       " ['Alice', 22, 'morning', 1.0],\n",
       " ['Alice', 23, 'evening', 0.0],\n",
       " ['Alice', 23, 'morning', 1.0],\n",
       " ['Alice', 24, 'evening', -0.5],\n",
       " ['Alice', 24, 'morning', -0.5],\n",
       " ['Alice', 25, 'evening', 0.5],\n",
       " ['Alice', 25, 'morning', 0.5],\n",
       " ['Alice', 26, 'evening', 0.5],\n",
       " ['Alice', 26, 'morning', 0.5],\n",
       " ['Alice', 27, 'evening', 0.5],\n",
       " ['Alice', 27, 'morning', 0.5],\n",
       " ['Alice', 28, 'evening', 0.0],\n",
       " ['Alice', 28, 'morning', 0.0],\n",
       " ['Bob', 1, 'evening', 0.0],\n",
       " ['Bob', 1, 'morning', 0.0],\n",
       " ['Bob', 2, 'evening', -0.5],\n",
       " ['Bob', 2, 'morning', -0.5],\n",
       " ['Bob', 3, 'evening', 0.5],\n",
       " ['Bob', 3, 'morning', 0.5],\n",
       " ['Bob', 4, 'evening', 0.5],\n",
       " ['Bob', 4, 'morning', 0.5],\n",
       " ['Bob', 5, 'evening', 0.5],\n",
       " ['Bob', 5, 'morning', 0.5],\n",
       " ['Bob', 6, 'evening', 0.0],\n",
       " ['Bob', 6, 'morning', 0.0],\n",
       " ['Bob', 7, 'evening', 0.0],\n",
       " ['Bob', 7, 'morning', 0.0],\n",
       " ['Bob', 8, 'evening', 0.0],\n",
       " ['Bob', 8, 'morning', 1.0],\n",
       " ['Bob', 9, 'evening', 0.0],\n",
       " ['Bob', 9, 'morning', 1.0],\n",
       " ['Bob', 10, 'evening', -0.5],\n",
       " ['Bob', 10, 'morning', -0.5],\n",
       " ['Bob', 11, 'evening', 0.5],\n",
       " ['Bob', 11, 'morning', 0.5],\n",
       " ['Bob', 12, 'evening', 0.5],\n",
       " ['Bob', 12, 'morning', 0.5],\n",
       " ['Bob', 13, 'evening', 0.5],\n",
       " ['Bob', 13, 'morning', 0.5],\n",
       " ['Bob', 14, 'evening', 0.0],\n",
       " ['Bob', 14, 'morning', 0.0],\n",
       " ['Bob', 15, 'evening', 0.0],\n",
       " ['Bob', 15, 'morning', 0.0],\n",
       " ['Bob', 16, 'evening', 0.0],\n",
       " ['Bob', 16, 'morning', 0.0],\n",
       " ['Bob', 17, 'evening', -0.5],\n",
       " ['Bob', 17, 'morning', -0.5],\n",
       " ['Bob', 18, 'evening', 0.5],\n",
       " ['Bob', 18, 'morning', 0.5],\n",
       " ['Bob', 19, 'evening', 0.5],\n",
       " ['Bob', 19, 'morning', 0.5],\n",
       " ['Bob', 20, 'evening', 0.5],\n",
       " ['Bob', 20, 'morning', 0.5],\n",
       " ['Bob', 21, 'evening', 0.0],\n",
       " ['Bob', 21, 'morning', 0.0],\n",
       " ['Bob', 22, 'evening', 0.0],\n",
       " ['Bob', 22, 'morning', 1.0],\n",
       " ['Bob', 23, 'evening', 0.0],\n",
       " ['Bob', 23, 'morning', 1.0],\n",
       " ['Bob', 24, 'evening', -0.5],\n",
       " ['Bob', 24, 'morning', -0.5],\n",
       " ['Bob', 25, 'evening', 0.5],\n",
       " ['Bob', 25, 'morning', 0.5],\n",
       " ['Bob', 26, 'evening', 0.5],\n",
       " ['Bob', 26, 'morning', 0.5],\n",
       " ['Bob', 27, 'evening', 0.5],\n",
       " ['Bob', 27, 'morning', 0.5],\n",
       " ['Bob', 28, 'evening', 0.0],\n",
       " ['Bob', 28, 'morning', 0.0]]"
      ]
     },
     "execution_count": 12,
     "metadata": {},
     "output_type": "execute_result"
    }
   ],
   "source": [
    "M_LLM_willingness"
   ]
  },
  {
   "cell_type": "markdown",
   "id": "98bc1c6d",
   "metadata": {},
   "source": [
    "# Willingness 5 Shifts"
   ]
  },
  {
   "cell_type": "code",
   "execution_count": 50,
   "id": "4ac034bb",
   "metadata": {},
   "outputs": [],
   "source": [
    "df_wi_mult = pd.read_json(\"willingness_mat_new.json\")"
   ]
  },
  {
   "cell_type": "code",
   "execution_count": 51,
   "id": "7f1adf46",
   "metadata": {},
   "outputs": [
    {
     "data": {
      "application/vnd.microsoft.datawrangler.viewer.v0+json": {
       "columns": [
        {
         "name": "index",
         "rawType": "object",
         "type": "string"
        },
        {
         "name": "Alice",
         "rawType": "object",
         "type": "unknown"
        },
        {
         "name": "Bob",
         "rawType": "object",
         "type": "unknown"
        },
        {
         "name": "Carol",
         "rawType": "object",
         "type": "unknown"
        }
       ],
       "ref": "c3a1f489-3e87-43ce-b243-00582304a8d1",
       "rows": [
        [
         "d1",
         "[{'shift': 0, 'willingness': 0.0}, {'shift': 1, 'willingness': 0.0}, {'shift': 2, 'willingness': -0.5}, {'shift': 3, 'willingness': 0.9}, {'shift': 4, 'willingness': 0.4}]",
         "[{'shift': 0, 'willingness': 0.0}, {'shift': 1, 'willingness': 0.0}, {'shift': 2, 'willingness': -0.4}, {'shift': 3, 'willingness': -0.0}, {'shift': 4, 'willingness': 0.5}]",
         "[{'shift': 0, 'willingness': -0.9}, {'shift': 1, 'willingness': -0.1}, {'shift': 2, 'willingness': 0.1}, {'shift': 3, 'willingness': -0.0}, {'shift': 4, 'willingness': 0.7000000000000001}]"
        ],
        [
         "d2",
         "[{'shift': 0, 'willingness': -0.5}, {'shift': 1, 'willingness': -0.5}, {'shift': 2, 'willingness': -0.1}, {'shift': 3, 'willingness': 0.8}, {'shift': 4, 'willingness': 0.9}]",
         "[{'shift': 0, 'willingness': -0.5}, {'shift': 1, 'willingness': -0.5}, {'shift': 2, 'willingness': 0.5}, {'shift': 3, 'willingness': -1.0}, {'shift': 4, 'willingness': -0.8}]",
         "[{'shift': 0, 'willingness': -0.5}, {'shift': 1, 'willingness': 0.6000000000000001}, {'shift': 2, 'willingness': 0.30000000000000004}, {'shift': 3, 'willingness': 0.7000000000000001}, {'shift': 4, 'willingness': -0.1}]"
        ],
        [
         "d3",
         "[{'shift': 0, 'willingness': 0.5}, {'shift': 1, 'willingness': 0.5}, {'shift': 2, 'willingness': -0.1}, {'shift': 3, 'willingness': 0.5}, {'shift': 4, 'willingness': -0.8}]",
         "[{'shift': 0, 'willingness': 0.5}, {'shift': 1, 'willingness': 0.5}, {'shift': 2, 'willingness': -0.9}, {'shift': 3, 'willingness': -0.5}, {'shift': 4, 'willingness': -0.9}]",
         "[{'shift': 0, 'willingness': 0.5}, {'shift': 1, 'willingness': 0.30000000000000004}, {'shift': 2, 'willingness': 0.6000000000000001}, {'shift': 3, 'willingness': -0.6000000000000001}, {'shift': 4, 'willingness': -0.7000000000000001}]"
        ],
        [
         "d4",
         "[{'shift': 0, 'willingness': 0.5}, {'shift': 1, 'willingness': 0.5}, {'shift': 2, 'willingness': 0.5}, {'shift': 3, 'willingness': 0.8}, {'shift': 4, 'willingness': 0.4}]",
         "[{'shift': 0, 'willingness': 0.5}, {'shift': 1, 'willingness': 0.5}, {'shift': 2, 'willingness': -0.6000000000000001}, {'shift': 3, 'willingness': -0.4}, {'shift': 4, 'willingness': 0.2}]",
         "[{'shift': 0, 'willingness': -0.1}, {'shift': 1, 'willingness': 0.8}, {'shift': 2, 'willingness': 0.2}, {'shift': 3, 'willingness': 0.30000000000000004}, {'shift': 4, 'willingness': -0.1}]"
        ],
        [
         "d5",
         "[{'shift': 0, 'willingness': 0.5}, {'shift': 1, 'willingness': 0.5}, {'shift': 2, 'willingness': -0.30000000000000004}, {'shift': 3, 'willingness': 0.4}, {'shift': 4, 'willingness': -1.0}]",
         "[{'shift': 0, 'willingness': 0.5}, {'shift': 1, 'willingness': 0.5}, {'shift': 2, 'willingness': 0.2}, {'shift': 3, 'willingness': -0.9}, {'shift': 4, 'willingness': 0.6000000000000001}]",
         "[{'shift': 0, 'willingness': -0.0}, {'shift': 1, 'willingness': 1.0}, {'shift': 2, 'willingness': 0.30000000000000004}, {'shift': 3, 'willingness': -0.8}, {'shift': 4, 'willingness': 0.8}]"
        ]
       ],
       "shape": {
        "columns": 3,
        "rows": 5
       }
      },
      "text/html": [
       "<div>\n",
       "<style scoped>\n",
       "    .dataframe tbody tr th:only-of-type {\n",
       "        vertical-align: middle;\n",
       "    }\n",
       "\n",
       "    .dataframe tbody tr th {\n",
       "        vertical-align: top;\n",
       "    }\n",
       "\n",
       "    .dataframe thead th {\n",
       "        text-align: right;\n",
       "    }\n",
       "</style>\n",
       "<table border=\"1\" class=\"dataframe\">\n",
       "  <thead>\n",
       "    <tr style=\"text-align: right;\">\n",
       "      <th></th>\n",
       "      <th>Alice</th>\n",
       "      <th>Bob</th>\n",
       "      <th>Carol</th>\n",
       "    </tr>\n",
       "  </thead>\n",
       "  <tbody>\n",
       "    <tr>\n",
       "      <th>d1</th>\n",
       "      <td>[{'shift': 0, 'willingness': 0.0}, {'shift': 1...</td>\n",
       "      <td>[{'shift': 0, 'willingness': 0.0}, {'shift': 1...</td>\n",
       "      <td>[{'shift': 0, 'willingness': -0.9}, {'shift': ...</td>\n",
       "    </tr>\n",
       "    <tr>\n",
       "      <th>d2</th>\n",
       "      <td>[{'shift': 0, 'willingness': -0.5}, {'shift': ...</td>\n",
       "      <td>[{'shift': 0, 'willingness': -0.5}, {'shift': ...</td>\n",
       "      <td>[{'shift': 0, 'willingness': -0.5}, {'shift': ...</td>\n",
       "    </tr>\n",
       "    <tr>\n",
       "      <th>d3</th>\n",
       "      <td>[{'shift': 0, 'willingness': 0.5}, {'shift': 1...</td>\n",
       "      <td>[{'shift': 0, 'willingness': 0.5}, {'shift': 1...</td>\n",
       "      <td>[{'shift': 0, 'willingness': 0.5}, {'shift': 1...</td>\n",
       "    </tr>\n",
       "    <tr>\n",
       "      <th>d4</th>\n",
       "      <td>[{'shift': 0, 'willingness': 0.5}, {'shift': 1...</td>\n",
       "      <td>[{'shift': 0, 'willingness': 0.5}, {'shift': 1...</td>\n",
       "      <td>[{'shift': 0, 'willingness': -0.1}, {'shift': ...</td>\n",
       "    </tr>\n",
       "    <tr>\n",
       "      <th>d5</th>\n",
       "      <td>[{'shift': 0, 'willingness': 0.5}, {'shift': 1...</td>\n",
       "      <td>[{'shift': 0, 'willingness': 0.5}, {'shift': 1...</td>\n",
       "      <td>[{'shift': 0, 'willingness': -0.0}, {'shift': ...</td>\n",
       "    </tr>\n",
       "  </tbody>\n",
       "</table>\n",
       "</div>"
      ],
      "text/plain": [
       "                                                Alice  \\\n",
       "d1  [{'shift': 0, 'willingness': 0.0}, {'shift': 1...   \n",
       "d2  [{'shift': 0, 'willingness': -0.5}, {'shift': ...   \n",
       "d3  [{'shift': 0, 'willingness': 0.5}, {'shift': 1...   \n",
       "d4  [{'shift': 0, 'willingness': 0.5}, {'shift': 1...   \n",
       "d5  [{'shift': 0, 'willingness': 0.5}, {'shift': 1...   \n",
       "\n",
       "                                                  Bob  \\\n",
       "d1  [{'shift': 0, 'willingness': 0.0}, {'shift': 1...   \n",
       "d2  [{'shift': 0, 'willingness': -0.5}, {'shift': ...   \n",
       "d3  [{'shift': 0, 'willingness': 0.5}, {'shift': 1...   \n",
       "d4  [{'shift': 0, 'willingness': 0.5}, {'shift': 1...   \n",
       "d5  [{'shift': 0, 'willingness': 0.5}, {'shift': 1...   \n",
       "\n",
       "                                                Carol  \n",
       "d1  [{'shift': 0, 'willingness': -0.9}, {'shift': ...  \n",
       "d2  [{'shift': 0, 'willingness': -0.5}, {'shift': ...  \n",
       "d3  [{'shift': 0, 'willingness': 0.5}, {'shift': 1...  \n",
       "d4  [{'shift': 0, 'willingness': -0.1}, {'shift': ...  \n",
       "d5  [{'shift': 0, 'willingness': -0.0}, {'shift': ...  "
      ]
     },
     "execution_count": 51,
     "metadata": {},
     "output_type": "execute_result"
    }
   ],
   "source": [
    "df_wi_mult.head()"
   ]
  },
  {
   "cell_type": "code",
   "execution_count": 52,
   "id": "be1a7cbc",
   "metadata": {},
   "outputs": [],
   "source": [
    "records = []\n",
    "\n",
    "for day, rows in df_wi_mult.iterrows():\n",
    "    for employee, shifts in rows.items():\n",
    "        for s in shifts:\n",
    "            records.append({\n",
    "                \"employee\": employee,\n",
    "                \"day\": day,\n",
    "                \"shift\": s[\"shift\"],\n",
    "                \"willingness\": s[\"willingness\"]\n",
    "            })\n",
    "df_wi_flat = pd.DataFrame(records)"
   ]
  },
  {
   "cell_type": "code",
   "execution_count": 53,
   "id": "d2f3dae3",
   "metadata": {},
   "outputs": [
    {
     "data": {
      "application/vnd.microsoft.datawrangler.viewer.v0+json": {
       "columns": [
        {
         "name": "index",
         "rawType": "int64",
         "type": "integer"
        },
        {
         "name": "employee",
         "rawType": "object",
         "type": "string"
        },
        {
         "name": "day",
         "rawType": "object",
         "type": "string"
        },
        {
         "name": "shift",
         "rawType": "int64",
         "type": "integer"
        },
        {
         "name": "willingness",
         "rawType": "float64",
         "type": "float"
        }
       ],
       "ref": "e68f3fbe-1aae-451f-b121-b26230f8c135",
       "rows": [
        [
         "0",
         "Alice",
         "d1",
         "0",
         "0.0"
        ],
        [
         "1",
         "Alice",
         "d1",
         "1",
         "0.0"
        ],
        [
         "2",
         "Alice",
         "d1",
         "2",
         "-0.5"
        ],
        [
         "3",
         "Alice",
         "d1",
         "3",
         "0.9"
        ],
        [
         "4",
         "Alice",
         "d1",
         "4",
         "0.4"
        ],
        [
         "5",
         "Bob",
         "d1",
         "0",
         "0.0"
        ],
        [
         "6",
         "Bob",
         "d1",
         "1",
         "0.0"
        ],
        [
         "7",
         "Bob",
         "d1",
         "2",
         "-0.4"
        ],
        [
         "8",
         "Bob",
         "d1",
         "3",
         "-0.0"
        ],
        [
         "9",
         "Bob",
         "d1",
         "4",
         "0.5"
        ],
        [
         "10",
         "Carol",
         "d1",
         "0",
         "-0.9"
        ],
        [
         "11",
         "Carol",
         "d1",
         "1",
         "-0.1"
        ],
        [
         "12",
         "Carol",
         "d1",
         "2",
         "0.1"
        ],
        [
         "13",
         "Carol",
         "d1",
         "3",
         "-0.0"
        ],
        [
         "14",
         "Carol",
         "d1",
         "4",
         "0.7000000000000001"
        ],
        [
         "15",
         "Alice",
         "d2",
         "0",
         "-0.5"
        ],
        [
         "16",
         "Alice",
         "d2",
         "1",
         "-0.5"
        ],
        [
         "17",
         "Alice",
         "d2",
         "2",
         "-0.1"
        ],
        [
         "18",
         "Alice",
         "d2",
         "3",
         "0.8"
        ],
        [
         "19",
         "Alice",
         "d2",
         "4",
         "0.9"
        ],
        [
         "20",
         "Bob",
         "d2",
         "0",
         "-0.5"
        ],
        [
         "21",
         "Bob",
         "d2",
         "1",
         "-0.5"
        ],
        [
         "22",
         "Bob",
         "d2",
         "2",
         "0.5"
        ],
        [
         "23",
         "Bob",
         "d2",
         "3",
         "-1.0"
        ],
        [
         "24",
         "Bob",
         "d2",
         "4",
         "-0.8"
        ],
        [
         "25",
         "Carol",
         "d2",
         "0",
         "-0.5"
        ],
        [
         "26",
         "Carol",
         "d2",
         "1",
         "0.6000000000000001"
        ],
        [
         "27",
         "Carol",
         "d2",
         "2",
         "0.30000000000000004"
        ],
        [
         "28",
         "Carol",
         "d2",
         "3",
         "0.7000000000000001"
        ],
        [
         "29",
         "Carol",
         "d2",
         "4",
         "-0.1"
        ],
        [
         "30",
         "Alice",
         "d3",
         "0",
         "0.5"
        ],
        [
         "31",
         "Alice",
         "d3",
         "1",
         "0.5"
        ],
        [
         "32",
         "Alice",
         "d3",
         "2",
         "-0.1"
        ],
        [
         "33",
         "Alice",
         "d3",
         "3",
         "0.5"
        ],
        [
         "34",
         "Alice",
         "d3",
         "4",
         "-0.8"
        ],
        [
         "35",
         "Bob",
         "d3",
         "0",
         "0.5"
        ],
        [
         "36",
         "Bob",
         "d3",
         "1",
         "0.5"
        ],
        [
         "37",
         "Bob",
         "d3",
         "2",
         "-0.9"
        ],
        [
         "38",
         "Bob",
         "d3",
         "3",
         "-0.5"
        ],
        [
         "39",
         "Bob",
         "d3",
         "4",
         "-0.9"
        ],
        [
         "40",
         "Carol",
         "d3",
         "0",
         "0.5"
        ],
        [
         "41",
         "Carol",
         "d3",
         "1",
         "0.30000000000000004"
        ],
        [
         "42",
         "Carol",
         "d3",
         "2",
         "0.6000000000000001"
        ],
        [
         "43",
         "Carol",
         "d3",
         "3",
         "-0.6000000000000001"
        ],
        [
         "44",
         "Carol",
         "d3",
         "4",
         "-0.7000000000000001"
        ],
        [
         "45",
         "Alice",
         "d4",
         "0",
         "0.5"
        ],
        [
         "46",
         "Alice",
         "d4",
         "1",
         "0.5"
        ],
        [
         "47",
         "Alice",
         "d4",
         "2",
         "0.5"
        ],
        [
         "48",
         "Alice",
         "d4",
         "3",
         "0.8"
        ],
        [
         "49",
         "Alice",
         "d4",
         "4",
         "0.4"
        ]
       ],
       "shape": {
        "columns": 4,
        "rows": 420
       }
      },
      "text/html": [
       "<div>\n",
       "<style scoped>\n",
       "    .dataframe tbody tr th:only-of-type {\n",
       "        vertical-align: middle;\n",
       "    }\n",
       "\n",
       "    .dataframe tbody tr th {\n",
       "        vertical-align: top;\n",
       "    }\n",
       "\n",
       "    .dataframe thead th {\n",
       "        text-align: right;\n",
       "    }\n",
       "</style>\n",
       "<table border=\"1\" class=\"dataframe\">\n",
       "  <thead>\n",
       "    <tr style=\"text-align: right;\">\n",
       "      <th></th>\n",
       "      <th>employee</th>\n",
       "      <th>day</th>\n",
       "      <th>shift</th>\n",
       "      <th>willingness</th>\n",
       "    </tr>\n",
       "  </thead>\n",
       "  <tbody>\n",
       "    <tr>\n",
       "      <th>0</th>\n",
       "      <td>Alice</td>\n",
       "      <td>d1</td>\n",
       "      <td>0</td>\n",
       "      <td>0.0</td>\n",
       "    </tr>\n",
       "    <tr>\n",
       "      <th>1</th>\n",
       "      <td>Alice</td>\n",
       "      <td>d1</td>\n",
       "      <td>1</td>\n",
       "      <td>0.0</td>\n",
       "    </tr>\n",
       "    <tr>\n",
       "      <th>2</th>\n",
       "      <td>Alice</td>\n",
       "      <td>d1</td>\n",
       "      <td>2</td>\n",
       "      <td>-0.5</td>\n",
       "    </tr>\n",
       "    <tr>\n",
       "      <th>3</th>\n",
       "      <td>Alice</td>\n",
       "      <td>d1</td>\n",
       "      <td>3</td>\n",
       "      <td>0.9</td>\n",
       "    </tr>\n",
       "    <tr>\n",
       "      <th>4</th>\n",
       "      <td>Alice</td>\n",
       "      <td>d1</td>\n",
       "      <td>4</td>\n",
       "      <td>0.4</td>\n",
       "    </tr>\n",
       "    <tr>\n",
       "      <th>...</th>\n",
       "      <td>...</td>\n",
       "      <td>...</td>\n",
       "      <td>...</td>\n",
       "      <td>...</td>\n",
       "    </tr>\n",
       "    <tr>\n",
       "      <th>415</th>\n",
       "      <td>Carol</td>\n",
       "      <td>d28</td>\n",
       "      <td>0</td>\n",
       "      <td>0.6</td>\n",
       "    </tr>\n",
       "    <tr>\n",
       "      <th>416</th>\n",
       "      <td>Carol</td>\n",
       "      <td>d28</td>\n",
       "      <td>1</td>\n",
       "      <td>0.5</td>\n",
       "    </tr>\n",
       "    <tr>\n",
       "      <th>417</th>\n",
       "      <td>Carol</td>\n",
       "      <td>d28</td>\n",
       "      <td>2</td>\n",
       "      <td>0.6</td>\n",
       "    </tr>\n",
       "    <tr>\n",
       "      <th>418</th>\n",
       "      <td>Carol</td>\n",
       "      <td>d28</td>\n",
       "      <td>3</td>\n",
       "      <td>0.3</td>\n",
       "    </tr>\n",
       "    <tr>\n",
       "      <th>419</th>\n",
       "      <td>Carol</td>\n",
       "      <td>d28</td>\n",
       "      <td>4</td>\n",
       "      <td>-0.5</td>\n",
       "    </tr>\n",
       "  </tbody>\n",
       "</table>\n",
       "<p>420 rows × 4 columns</p>\n",
       "</div>"
      ],
      "text/plain": [
       "    employee  day  shift  willingness\n",
       "0      Alice   d1      0          0.0\n",
       "1      Alice   d1      1          0.0\n",
       "2      Alice   d1      2         -0.5\n",
       "3      Alice   d1      3          0.9\n",
       "4      Alice   d1      4          0.4\n",
       "..       ...  ...    ...          ...\n",
       "415    Carol  d28      0          0.6\n",
       "416    Carol  d28      1          0.5\n",
       "417    Carol  d28      2          0.6\n",
       "418    Carol  d28      3          0.3\n",
       "419    Carol  d28      4         -0.5\n",
       "\n",
       "[420 rows x 4 columns]"
      ]
     },
     "execution_count": 53,
     "metadata": {},
     "output_type": "execute_result"
    }
   ],
   "source": [
    "df_wi_flat"
   ]
  },
  {
   "cell_type": "code",
   "execution_count": 54,
   "id": "06a99ce5",
   "metadata": {},
   "outputs": [],
   "source": [
    "df_wi_flat[\"day\"] = df_wi_flat[\"day\"].str.extract(r\"(\\d+)\").astype(int)"
   ]
  },
  {
   "cell_type": "code",
   "execution_count": 59,
   "id": "533e7331",
   "metadata": {},
   "outputs": [
    {
     "data": {
      "application/vnd.microsoft.datawrangler.viewer.v0+json": {
       "columns": [
        {
         "name": "index",
         "rawType": "int64",
         "type": "integer"
        },
        {
         "name": "employee",
         "rawType": "object",
         "type": "string"
        },
        {
         "name": "day",
         "rawType": "int64",
         "type": "integer"
        },
        {
         "name": "shift",
         "rawType": "int64",
         "type": "integer"
        },
        {
         "name": "willingness",
         "rawType": "float64",
         "type": "float"
        }
       ],
       "ref": "269416fc-f568-478e-9d95-1c5cc3838e84",
       "rows": [
        [
         "0",
         "Alice",
         "1",
         "0",
         "0.0"
        ],
        [
         "1",
         "Alice",
         "1",
         "1",
         "0.0"
        ],
        [
         "2",
         "Alice",
         "1",
         "2",
         "-0.5"
        ],
        [
         "3",
         "Alice",
         "1",
         "3",
         "0.9"
        ],
        [
         "4",
         "Alice",
         "1",
         "4",
         "0.4"
        ],
        [
         "5",
         "Alice",
         "2",
         "0",
         "-0.5"
        ],
        [
         "6",
         "Alice",
         "2",
         "1",
         "-0.5"
        ],
        [
         "7",
         "Alice",
         "2",
         "2",
         "-0.1"
        ],
        [
         "8",
         "Alice",
         "2",
         "3",
         "0.8"
        ],
        [
         "9",
         "Alice",
         "2",
         "4",
         "0.9"
        ],
        [
         "10",
         "Alice",
         "3",
         "0",
         "0.5"
        ],
        [
         "11",
         "Alice",
         "3",
         "1",
         "0.5"
        ],
        [
         "12",
         "Alice",
         "3",
         "2",
         "-0.1"
        ],
        [
         "13",
         "Alice",
         "3",
         "3",
         "0.5"
        ],
        [
         "14",
         "Alice",
         "3",
         "4",
         "-0.8"
        ],
        [
         "15",
         "Alice",
         "4",
         "0",
         "0.5"
        ],
        [
         "16",
         "Alice",
         "4",
         "1",
         "0.5"
        ],
        [
         "17",
         "Alice",
         "4",
         "2",
         "0.5"
        ],
        [
         "18",
         "Alice",
         "4",
         "3",
         "0.8"
        ],
        [
         "19",
         "Alice",
         "4",
         "4",
         "0.4"
        ],
        [
         "20",
         "Alice",
         "5",
         "0",
         "0.5"
        ],
        [
         "21",
         "Alice",
         "5",
         "1",
         "0.5"
        ],
        [
         "22",
         "Alice",
         "5",
         "2",
         "-0.30000000000000004"
        ],
        [
         "23",
         "Alice",
         "5",
         "3",
         "0.4"
        ],
        [
         "24",
         "Alice",
         "5",
         "4",
         "-1.0"
        ],
        [
         "25",
         "Alice",
         "6",
         "0",
         "0.0"
        ],
        [
         "26",
         "Alice",
         "6",
         "1",
         "0.0"
        ],
        [
         "27",
         "Alice",
         "6",
         "2",
         "0.2"
        ],
        [
         "28",
         "Alice",
         "6",
         "3",
         "0.1"
        ],
        [
         "29",
         "Alice",
         "6",
         "4",
         "0.0"
        ],
        [
         "30",
         "Alice",
         "7",
         "0",
         "0.0"
        ],
        [
         "31",
         "Alice",
         "7",
         "1",
         "0.0"
        ],
        [
         "32",
         "Alice",
         "7",
         "2",
         "-0.8"
        ],
        [
         "33",
         "Alice",
         "7",
         "3",
         "0.30000000000000004"
        ],
        [
         "34",
         "Alice",
         "7",
         "4",
         "0.7000000000000001"
        ],
        [
         "35",
         "Alice",
         "8",
         "0",
         "1.0"
        ],
        [
         "36",
         "Alice",
         "8",
         "1",
         "0.0"
        ],
        [
         "37",
         "Alice",
         "8",
         "2",
         "0.7000000000000001"
        ],
        [
         "38",
         "Alice",
         "8",
         "3",
         "-0.5"
        ],
        [
         "39",
         "Alice",
         "8",
         "4",
         "-0.5"
        ],
        [
         "40",
         "Alice",
         "9",
         "0",
         "1.0"
        ],
        [
         "41",
         "Alice",
         "9",
         "1",
         "0.0"
        ],
        [
         "42",
         "Alice",
         "9",
         "2",
         "0.4"
        ],
        [
         "43",
         "Alice",
         "9",
         "3",
         "-0.0"
        ],
        [
         "44",
         "Alice",
         "9",
         "4",
         "-0.30000000000000004"
        ],
        [
         "45",
         "Alice",
         "10",
         "0",
         "-0.5"
        ],
        [
         "46",
         "Alice",
         "10",
         "1",
         "-0.5"
        ],
        [
         "47",
         "Alice",
         "10",
         "2",
         "-0.4"
        ],
        [
         "48",
         "Alice",
         "10",
         "3",
         "-0.8"
        ],
        [
         "49",
         "Alice",
         "10",
         "4",
         "0.2"
        ]
       ],
       "shape": {
        "columns": 4,
        "rows": 420
       }
      },
      "text/html": [
       "<div>\n",
       "<style scoped>\n",
       "    .dataframe tbody tr th:only-of-type {\n",
       "        vertical-align: middle;\n",
       "    }\n",
       "\n",
       "    .dataframe tbody tr th {\n",
       "        vertical-align: top;\n",
       "    }\n",
       "\n",
       "    .dataframe thead th {\n",
       "        text-align: right;\n",
       "    }\n",
       "</style>\n",
       "<table border=\"1\" class=\"dataframe\">\n",
       "  <thead>\n",
       "    <tr style=\"text-align: right;\">\n",
       "      <th></th>\n",
       "      <th>employee</th>\n",
       "      <th>day</th>\n",
       "      <th>shift</th>\n",
       "      <th>willingness</th>\n",
       "    </tr>\n",
       "  </thead>\n",
       "  <tbody>\n",
       "    <tr>\n",
       "      <th>0</th>\n",
       "      <td>Alice</td>\n",
       "      <td>1</td>\n",
       "      <td>0</td>\n",
       "      <td>0.0</td>\n",
       "    </tr>\n",
       "    <tr>\n",
       "      <th>1</th>\n",
       "      <td>Alice</td>\n",
       "      <td>1</td>\n",
       "      <td>1</td>\n",
       "      <td>0.0</td>\n",
       "    </tr>\n",
       "    <tr>\n",
       "      <th>2</th>\n",
       "      <td>Alice</td>\n",
       "      <td>1</td>\n",
       "      <td>2</td>\n",
       "      <td>-0.5</td>\n",
       "    </tr>\n",
       "    <tr>\n",
       "      <th>3</th>\n",
       "      <td>Alice</td>\n",
       "      <td>1</td>\n",
       "      <td>3</td>\n",
       "      <td>0.9</td>\n",
       "    </tr>\n",
       "    <tr>\n",
       "      <th>4</th>\n",
       "      <td>Alice</td>\n",
       "      <td>1</td>\n",
       "      <td>4</td>\n",
       "      <td>0.4</td>\n",
       "    </tr>\n",
       "    <tr>\n",
       "      <th>...</th>\n",
       "      <td>...</td>\n",
       "      <td>...</td>\n",
       "      <td>...</td>\n",
       "      <td>...</td>\n",
       "    </tr>\n",
       "    <tr>\n",
       "      <th>415</th>\n",
       "      <td>Carol</td>\n",
       "      <td>28</td>\n",
       "      <td>0</td>\n",
       "      <td>0.6</td>\n",
       "    </tr>\n",
       "    <tr>\n",
       "      <th>416</th>\n",
       "      <td>Carol</td>\n",
       "      <td>28</td>\n",
       "      <td>1</td>\n",
       "      <td>0.5</td>\n",
       "    </tr>\n",
       "    <tr>\n",
       "      <th>417</th>\n",
       "      <td>Carol</td>\n",
       "      <td>28</td>\n",
       "      <td>2</td>\n",
       "      <td>0.6</td>\n",
       "    </tr>\n",
       "    <tr>\n",
       "      <th>418</th>\n",
       "      <td>Carol</td>\n",
       "      <td>28</td>\n",
       "      <td>3</td>\n",
       "      <td>0.3</td>\n",
       "    </tr>\n",
       "    <tr>\n",
       "      <th>419</th>\n",
       "      <td>Carol</td>\n",
       "      <td>28</td>\n",
       "      <td>4</td>\n",
       "      <td>-0.5</td>\n",
       "    </tr>\n",
       "  </tbody>\n",
       "</table>\n",
       "<p>420 rows × 4 columns</p>\n",
       "</div>"
      ],
      "text/plain": [
       "    employee  day  shift  willingness\n",
       "0      Alice    1      0          0.0\n",
       "1      Alice    1      1          0.0\n",
       "2      Alice    1      2         -0.5\n",
       "3      Alice    1      3          0.9\n",
       "4      Alice    1      4          0.4\n",
       "..       ...  ...    ...          ...\n",
       "415    Carol   28      0          0.6\n",
       "416    Carol   28      1          0.5\n",
       "417    Carol   28      2          0.6\n",
       "418    Carol   28      3          0.3\n",
       "419    Carol   28      4         -0.5\n",
       "\n",
       "[420 rows x 4 columns]"
      ]
     },
     "execution_count": 59,
     "metadata": {},
     "output_type": "execute_result"
    }
   ],
   "source": [
    "df_wi_sorted = df_wi_flat.sort_values(by=[\"employee\", \"day\", \"shift\"]).reset_index(drop=True)\n",
    "df_wi_sorted"
   ]
  },
  {
   "cell_type": "code",
   "execution_count": 60,
   "id": "dc6158bd",
   "metadata": {},
   "outputs": [],
   "source": [
    "M_LLM_willingness = df_wi_sorted[[\"employee\", \"day\", \"shift\", \"willingness\"]].values.tolist()"
   ]
  },
  {
   "cell_type": "code",
   "execution_count": 61,
   "id": "db6c742d",
   "metadata": {},
   "outputs": [
    {
     "data": {
      "text/plain": [
       "[['Alice', 1, 0, 0.0],\n",
       " ['Alice', 1, 1, 0.0],\n",
       " ['Alice', 1, 2, -0.5],\n",
       " ['Alice', 1, 3, 0.9],\n",
       " ['Alice', 1, 4, 0.4],\n",
       " ['Alice', 2, 0, -0.5],\n",
       " ['Alice', 2, 1, -0.5],\n",
       " ['Alice', 2, 2, -0.1],\n",
       " ['Alice', 2, 3, 0.8],\n",
       " ['Alice', 2, 4, 0.9],\n",
       " ['Alice', 3, 0, 0.5],\n",
       " ['Alice', 3, 1, 0.5],\n",
       " ['Alice', 3, 2, -0.1],\n",
       " ['Alice', 3, 3, 0.5],\n",
       " ['Alice', 3, 4, -0.8],\n",
       " ['Alice', 4, 0, 0.5],\n",
       " ['Alice', 4, 1, 0.5],\n",
       " ['Alice', 4, 2, 0.5],\n",
       " ['Alice', 4, 3, 0.8],\n",
       " ['Alice', 4, 4, 0.4],\n",
       " ['Alice', 5, 0, 0.5],\n",
       " ['Alice', 5, 1, 0.5],\n",
       " ['Alice', 5, 2, -0.30000000000000004],\n",
       " ['Alice', 5, 3, 0.4],\n",
       " ['Alice', 5, 4, -1.0],\n",
       " ['Alice', 6, 0, 0.0],\n",
       " ['Alice', 6, 1, 0.0],\n",
       " ['Alice', 6, 2, 0.2],\n",
       " ['Alice', 6, 3, 0.1],\n",
       " ['Alice', 6, 4, 0.0],\n",
       " ['Alice', 7, 0, 0.0],\n",
       " ['Alice', 7, 1, 0.0],\n",
       " ['Alice', 7, 2, -0.8],\n",
       " ['Alice', 7, 3, 0.30000000000000004],\n",
       " ['Alice', 7, 4, 0.7000000000000001],\n",
       " ['Alice', 8, 0, 1.0],\n",
       " ['Alice', 8, 1, 0.0],\n",
       " ['Alice', 8, 2, 0.7000000000000001],\n",
       " ['Alice', 8, 3, -0.5],\n",
       " ['Alice', 8, 4, -0.5],\n",
       " ['Alice', 9, 0, 1.0],\n",
       " ['Alice', 9, 1, 0.0],\n",
       " ['Alice', 9, 2, 0.4],\n",
       " ['Alice', 9, 3, -0.0],\n",
       " ['Alice', 9, 4, -0.30000000000000004],\n",
       " ['Alice', 10, 0, -0.5],\n",
       " ['Alice', 10, 1, -0.5],\n",
       " ['Alice', 10, 2, -0.4],\n",
       " ['Alice', 10, 3, -0.8],\n",
       " ['Alice', 10, 4, 0.2],\n",
       " ['Alice', 11, 0, 0.5],\n",
       " ['Alice', 11, 1, 0.5],\n",
       " ['Alice', 11, 2, 0.1],\n",
       " ['Alice', 11, 3, -0.0],\n",
       " ['Alice', 11, 4, -0.8],\n",
       " ['Alice', 12, 0, 0.5],\n",
       " ['Alice', 12, 1, 0.5],\n",
       " ['Alice', 12, 2, 0.30000000000000004],\n",
       " ['Alice', 12, 3, -0.1],\n",
       " ['Alice', 12, 4, 0.8],\n",
       " ['Alice', 13, 0, 0.5],\n",
       " ['Alice', 13, 1, 0.5],\n",
       " ['Alice', 13, 2, -0.8],\n",
       " ['Alice', 13, 3, -0.6000000000000001],\n",
       " ['Alice', 13, 4, 0.9],\n",
       " ['Alice', 14, 0, 0.0],\n",
       " ['Alice', 14, 1, 0.0],\n",
       " ['Alice', 14, 2, -0.6000000000000001],\n",
       " ['Alice', 14, 3, 0.30000000000000004],\n",
       " ['Alice', 14, 4, -0.30000000000000004],\n",
       " ['Alice', 15, 0, 0.0],\n",
       " ['Alice', 15, 1, 0.0],\n",
       " ['Alice', 15, 2, -0.7000000000000001],\n",
       " ['Alice', 15, 3, 0.8],\n",
       " ['Alice', 15, 4, 0.4],\n",
       " ['Alice', 16, 0, 0.0],\n",
       " ['Alice', 16, 1, 0.0],\n",
       " ['Alice', 16, 2, -0.6000000000000001],\n",
       " ['Alice', 16, 3, 0.1],\n",
       " ['Alice', 16, 4, 0.7000000000000001],\n",
       " ['Alice', 17, 0, -0.5],\n",
       " ['Alice', 17, 1, -0.5],\n",
       " ['Alice', 17, 2, 0.5],\n",
       " ['Alice', 17, 3, 0.30000000000000004],\n",
       " ['Alice', 17, 4, -0.2],\n",
       " ['Alice', 18, 0, 0.5],\n",
       " ['Alice', 18, 1, 0.5],\n",
       " ['Alice', 18, 2, 1.0],\n",
       " ['Alice', 18, 3, 0.6000000000000001],\n",
       " ['Alice', 18, 4, 0.7000000000000001],\n",
       " ['Alice', 19, 0, 0.5],\n",
       " ['Alice', 19, 1, 0.5],\n",
       " ['Alice', 19, 2, -0.1],\n",
       " ['Alice', 19, 3, 0.30000000000000004],\n",
       " ['Alice', 19, 4, -0.8],\n",
       " ['Alice', 20, 0, 0.5],\n",
       " ['Alice', 20, 1, 0.5],\n",
       " ['Alice', 20, 2, 0.4],\n",
       " ['Alice', 20, 3, 0.7000000000000001],\n",
       " ['Alice', 20, 4, -0.2],\n",
       " ['Alice', 21, 0, 0.0],\n",
       " ['Alice', 21, 1, 0.0],\n",
       " ['Alice', 21, 2, -0.1],\n",
       " ['Alice', 21, 3, 0.8],\n",
       " ['Alice', 21, 4, 0.30000000000000004],\n",
       " ['Alice', 22, 0, 1.0],\n",
       " ['Alice', 22, 1, 0.0],\n",
       " ['Alice', 22, 2, 0.9],\n",
       " ['Alice', 22, 3, 0.9],\n",
       " ['Alice', 22, 4, -0.9],\n",
       " ['Alice', 23, 0, 1.0],\n",
       " ['Alice', 23, 1, 0.0],\n",
       " ['Alice', 23, 2, -0.1],\n",
       " ['Alice', 23, 3, 0.8],\n",
       " ['Alice', 23, 4, 0.1],\n",
       " ['Alice', 24, 0, -0.5],\n",
       " ['Alice', 24, 1, -0.5],\n",
       " ['Alice', 24, 2, 0.7000000000000001],\n",
       " ['Alice', 24, 3, 1.0],\n",
       " ['Alice', 24, 4, -0.2],\n",
       " ['Alice', 25, 0, 0.5],\n",
       " ['Alice', 25, 1, 0.5],\n",
       " ['Alice', 25, 2, -0.30000000000000004],\n",
       " ['Alice', 25, 3, 0.4],\n",
       " ['Alice', 25, 4, -0.0],\n",
       " ['Alice', 26, 0, 0.5],\n",
       " ['Alice', 26, 1, 0.5],\n",
       " ['Alice', 26, 2, -0.9],\n",
       " ['Alice', 26, 3, 0.8],\n",
       " ['Alice', 26, 4, -0.8],\n",
       " ['Alice', 27, 0, 0.5],\n",
       " ['Alice', 27, 1, 0.5],\n",
       " ['Alice', 27, 2, 0.5],\n",
       " ['Alice', 27, 3, -0.6000000000000001],\n",
       " ['Alice', 27, 4, -0.30000000000000004],\n",
       " ['Alice', 28, 0, 0.0],\n",
       " ['Alice', 28, 1, 0.0],\n",
       " ['Alice', 28, 2, 0.6000000000000001],\n",
       " ['Alice', 28, 3, 0.1],\n",
       " ['Alice', 28, 4, 0.6000000000000001],\n",
       " ['Bob', 1, 0, 0.0],\n",
       " ['Bob', 1, 1, 0.0],\n",
       " ['Bob', 1, 2, -0.4],\n",
       " ['Bob', 1, 3, -0.0],\n",
       " ['Bob', 1, 4, 0.5],\n",
       " ['Bob', 2, 0, -0.5],\n",
       " ['Bob', 2, 1, -0.5],\n",
       " ['Bob', 2, 2, 0.5],\n",
       " ['Bob', 2, 3, -1.0],\n",
       " ['Bob', 2, 4, -0.8],\n",
       " ['Bob', 3, 0, 0.5],\n",
       " ['Bob', 3, 1, 0.5],\n",
       " ['Bob', 3, 2, -0.9],\n",
       " ['Bob', 3, 3, -0.5],\n",
       " ['Bob', 3, 4, -0.9],\n",
       " ['Bob', 4, 0, 0.5],\n",
       " ['Bob', 4, 1, 0.5],\n",
       " ['Bob', 4, 2, -0.6000000000000001],\n",
       " ['Bob', 4, 3, -0.4],\n",
       " ['Bob', 4, 4, 0.2],\n",
       " ['Bob', 5, 0, 0.5],\n",
       " ['Bob', 5, 1, 0.5],\n",
       " ['Bob', 5, 2, 0.2],\n",
       " ['Bob', 5, 3, -0.9],\n",
       " ['Bob', 5, 4, 0.6000000000000001],\n",
       " ['Bob', 6, 0, 0.0],\n",
       " ['Bob', 6, 1, 0.0],\n",
       " ['Bob', 6, 2, 0.5],\n",
       " ['Bob', 6, 3, 0.5],\n",
       " ['Bob', 6, 4, 0.7000000000000001],\n",
       " ['Bob', 7, 0, 0.0],\n",
       " ['Bob', 7, 1, 0.0],\n",
       " ['Bob', 7, 2, -0.7000000000000001],\n",
       " ['Bob', 7, 3, 0.6000000000000001],\n",
       " ['Bob', 7, 4, -0.4],\n",
       " ['Bob', 8, 0, 1.0],\n",
       " ['Bob', 8, 1, 0.0],\n",
       " ['Bob', 8, 2, -0.30000000000000004],\n",
       " ['Bob', 8, 3, -1.0],\n",
       " ['Bob', 8, 4, 0.30000000000000004],\n",
       " ['Bob', 9, 0, 1.0],\n",
       " ['Bob', 9, 1, 0.0],\n",
       " ['Bob', 9, 2, -0.1],\n",
       " ['Bob', 9, 3, -0.6000000000000001],\n",
       " ['Bob', 9, 4, -0.7000000000000001],\n",
       " ['Bob', 10, 0, -0.5],\n",
       " ['Bob', 10, 1, -0.5],\n",
       " ['Bob', 10, 2, 0.30000000000000004],\n",
       " ['Bob', 10, 3, 0.5],\n",
       " ['Bob', 10, 4, 0.30000000000000004],\n",
       " ['Bob', 11, 0, 0.5],\n",
       " ['Bob', 11, 1, 0.5],\n",
       " ['Bob', 11, 2, -0.7000000000000001],\n",
       " ['Bob', 11, 3, 0.4],\n",
       " ['Bob', 11, 4, 0.0],\n",
       " ['Bob', 12, 0, 0.5],\n",
       " ['Bob', 12, 1, 0.5],\n",
       " ['Bob', 12, 2, -0.9],\n",
       " ['Bob', 12, 3, 0.6000000000000001],\n",
       " ['Bob', 12, 4, -0.1],\n",
       " ['Bob', 13, 0, 0.5],\n",
       " ['Bob', 13, 1, 0.5],\n",
       " ['Bob', 13, 2, 0.9],\n",
       " ['Bob', 13, 3, -0.30000000000000004],\n",
       " ['Bob', 13, 4, 0.30000000000000004],\n",
       " ['Bob', 14, 0, 0.0],\n",
       " ['Bob', 14, 1, 0.0],\n",
       " ['Bob', 14, 2, -0.6000000000000001],\n",
       " ['Bob', 14, 3, -1.0],\n",
       " ['Bob', 14, 4, -0.1],\n",
       " ['Bob', 15, 0, 0.0],\n",
       " ['Bob', 15, 1, 0.0],\n",
       " ['Bob', 15, 2, -0.9],\n",
       " ['Bob', 15, 3, -0.6000000000000001],\n",
       " ['Bob', 15, 4, 0.4],\n",
       " ['Bob', 16, 0, 0.0],\n",
       " ['Bob', 16, 1, 0.0],\n",
       " ['Bob', 16, 2, -0.4],\n",
       " ['Bob', 16, 3, 0.8],\n",
       " ['Bob', 16, 4, 0.1],\n",
       " ['Bob', 17, 0, -0.5],\n",
       " ['Bob', 17, 1, -0.5],\n",
       " ['Bob', 17, 2, 0.2],\n",
       " ['Bob', 17, 3, -0.30000000000000004],\n",
       " ['Bob', 17, 4, -0.4],\n",
       " ['Bob', 18, 0, 0.5],\n",
       " ['Bob', 18, 1, 0.5],\n",
       " ['Bob', 18, 2, 0.30000000000000004],\n",
       " ['Bob', 18, 3, -0.30000000000000004],\n",
       " ['Bob', 18, 4, -0.1],\n",
       " ['Bob', 19, 0, 0.5],\n",
       " ['Bob', 19, 1, 0.5],\n",
       " ['Bob', 19, 2, 1.0],\n",
       " ['Bob', 19, 3, -0.8],\n",
       " ['Bob', 19, 4, -0.2],\n",
       " ['Bob', 20, 0, 0.5],\n",
       " ['Bob', 20, 1, 0.5],\n",
       " ['Bob', 20, 2, -0.1],\n",
       " ['Bob', 20, 3, -0.2],\n",
       " ['Bob', 20, 4, -0.7000000000000001],\n",
       " ['Bob', 21, 0, 0.0],\n",
       " ['Bob', 21, 1, 0.0],\n",
       " ['Bob', 21, 2, -0.9],\n",
       " ['Bob', 21, 3, 0.5],\n",
       " ['Bob', 21, 4, 0.2],\n",
       " ['Bob', 22, 0, 1.0],\n",
       " ['Bob', 22, 1, 0.0],\n",
       " ['Bob', 22, 2, -0.7000000000000001],\n",
       " ['Bob', 22, 3, -0.30000000000000004],\n",
       " ['Bob', 22, 4, -0.6000000000000001],\n",
       " ['Bob', 23, 0, 1.0],\n",
       " ['Bob', 23, 1, 0.0],\n",
       " ['Bob', 23, 2, -0.9],\n",
       " ['Bob', 23, 3, 0.5],\n",
       " ['Bob', 23, 4, -0.2],\n",
       " ['Bob', 24, 0, -0.5],\n",
       " ['Bob', 24, 1, -0.5],\n",
       " ['Bob', 24, 2, -0.8],\n",
       " ['Bob', 24, 3, 0.5],\n",
       " ['Bob', 24, 4, 0.9],\n",
       " ['Bob', 25, 0, 0.5],\n",
       " ['Bob', 25, 1, 0.5],\n",
       " ['Bob', 25, 2, -0.1],\n",
       " ['Bob', 25, 3, -0.6000000000000001],\n",
       " ['Bob', 25, 4, -0.2],\n",
       " ['Bob', 26, 0, 0.5],\n",
       " ['Bob', 26, 1, 0.5],\n",
       " ['Bob', 26, 2, -0.30000000000000004],\n",
       " ['Bob', 26, 3, -0.4],\n",
       " ['Bob', 26, 4, -0.30000000000000004],\n",
       " ['Bob', 27, 0, 0.5],\n",
       " ['Bob', 27, 1, 0.5],\n",
       " ['Bob', 27, 2, -0.30000000000000004],\n",
       " ['Bob', 27, 3, -0.8],\n",
       " ['Bob', 27, 4, -0.2],\n",
       " ['Bob', 28, 0, 0.0],\n",
       " ['Bob', 28, 1, 0.0],\n",
       " ['Bob', 28, 2, -0.1],\n",
       " ['Bob', 28, 3, 0.9],\n",
       " ['Bob', 28, 4, 1.0],\n",
       " ['Carol', 1, 0, -0.9],\n",
       " ['Carol', 1, 1, -0.1],\n",
       " ['Carol', 1, 2, 0.1],\n",
       " ['Carol', 1, 3, -0.0],\n",
       " ['Carol', 1, 4, 0.7000000000000001],\n",
       " ['Carol', 2, 0, -0.5],\n",
       " ['Carol', 2, 1, 0.6000000000000001],\n",
       " ['Carol', 2, 2, 0.30000000000000004],\n",
       " ['Carol', 2, 3, 0.7000000000000001],\n",
       " ['Carol', 2, 4, -0.1],\n",
       " ['Carol', 3, 0, 0.5],\n",
       " ['Carol', 3, 1, 0.30000000000000004],\n",
       " ['Carol', 3, 2, 0.6000000000000001],\n",
       " ['Carol', 3, 3, -0.6000000000000001],\n",
       " ['Carol', 3, 4, -0.7000000000000001],\n",
       " ['Carol', 4, 0, -0.1],\n",
       " ['Carol', 4, 1, 0.8],\n",
       " ['Carol', 4, 2, 0.2],\n",
       " ['Carol', 4, 3, 0.30000000000000004],\n",
       " ['Carol', 4, 4, -0.1],\n",
       " ['Carol', 5, 0, -0.0],\n",
       " ['Carol', 5, 1, 1.0],\n",
       " ['Carol', 5, 2, 0.30000000000000004],\n",
       " ['Carol', 5, 3, -0.8],\n",
       " ['Carol', 5, 4, 0.8],\n",
       " ['Carol', 6, 0, 0.4],\n",
       " ['Carol', 6, 1, -0.6000000000000001],\n",
       " ['Carol', 6, 2, -0.7000000000000001],\n",
       " ['Carol', 6, 3, 0.6000000000000001],\n",
       " ['Carol', 6, 4, 0.5],\n",
       " ['Carol', 7, 0, 0.9],\n",
       " ['Carol', 7, 1, 0.1],\n",
       " ['Carol', 7, 2, 0.0],\n",
       " ['Carol', 7, 3, 0.2],\n",
       " ['Carol', 7, 4, -0.0],\n",
       " ['Carol', 8, 0, -0.9],\n",
       " ['Carol', 8, 1, -0.1],\n",
       " ['Carol', 8, 2, 0.1],\n",
       " ['Carol', 8, 3, 1.0],\n",
       " ['Carol', 8, 4, 0.0],\n",
       " ['Carol', 9, 0, -0.5],\n",
       " ['Carol', 9, 1, -0.7000000000000001],\n",
       " ['Carol', 9, 2, 0.4],\n",
       " ['Carol', 9, 3, -0.9],\n",
       " ['Carol', 9, 4, 1.0],\n",
       " ['Carol', 10, 0, 0.2],\n",
       " ['Carol', 10, 1, -0.30000000000000004],\n",
       " ['Carol', 10, 2, 0.8],\n",
       " ['Carol', 10, 3, 0.2],\n",
       " ['Carol', 10, 4, 0.2],\n",
       " ['Carol', 11, 0, 0.1],\n",
       " ['Carol', 11, 1, -0.30000000000000004],\n",
       " ['Carol', 11, 2, -0.5],\n",
       " ['Carol', 11, 3, 0.7000000000000001],\n",
       " ['Carol', 11, 4, 0.1],\n",
       " ['Carol', 12, 0, -0.6000000000000001],\n",
       " ['Carol', 12, 1, -0.30000000000000004],\n",
       " ['Carol', 12, 2, 0.7000000000000001],\n",
       " ['Carol', 12, 3, 0.2],\n",
       " ['Carol', 12, 4, 0.4],\n",
       " ['Carol', 13, 0, 0.7000000000000001],\n",
       " ['Carol', 13, 1, -0.1],\n",
       " ['Carol', 13, 2, -0.7000000000000001],\n",
       " ['Carol', 13, 3, 0.6000000000000001],\n",
       " ['Carol', 13, 4, -0.30000000000000004],\n",
       " ['Carol', 14, 0, 0.9],\n",
       " ['Carol', 14, 1, -0.7000000000000001],\n",
       " ['Carol', 14, 2, 0.5],\n",
       " ['Carol', 14, 3, 0.4],\n",
       " ['Carol', 14, 4, -0.30000000000000004],\n",
       " ['Carol', 15, 0, -0.8],\n",
       " ['Carol', 15, 1, 0.30000000000000004],\n",
       " ['Carol', 15, 2, -0.30000000000000004],\n",
       " ['Carol', 15, 3, -0.2],\n",
       " ['Carol', 15, 4, 0.7000000000000001],\n",
       " ['Carol', 16, 0, 0.6000000000000001],\n",
       " ['Carol', 16, 1, -0.0],\n",
       " ['Carol', 16, 2, 0.6000000000000001],\n",
       " ['Carol', 16, 3, -0.30000000000000004],\n",
       " ['Carol', 16, 4, -0.30000000000000004],\n",
       " ['Carol', 17, 0, 0.5],\n",
       " ['Carol', 17, 1, -0.6000000000000001],\n",
       " ['Carol', 17, 2, 0.1],\n",
       " ['Carol', 17, 3, -0.1],\n",
       " ['Carol', 17, 4, 0.2],\n",
       " ['Carol', 18, 0, -0.5],\n",
       " ['Carol', 18, 1, 0.1],\n",
       " ['Carol', 18, 2, -0.4],\n",
       " ['Carol', 18, 3, 0.0],\n",
       " ['Carol', 18, 4, 0.0],\n",
       " ['Carol', 19, 0, 0.2],\n",
       " ['Carol', 19, 1, -0.5],\n",
       " ['Carol', 19, 2, 0.30000000000000004],\n",
       " ['Carol', 19, 3, -0.7000000000000001],\n",
       " ['Carol', 19, 4, -0.9],\n",
       " ['Carol', 20, 0, -0.0],\n",
       " ['Carol', 20, 1, -0.30000000000000004],\n",
       " ['Carol', 20, 2, -0.2],\n",
       " ['Carol', 20, 3, 0.6000000000000001],\n",
       " ['Carol', 20, 4, -1.0],\n",
       " ['Carol', 21, 0, 0.7000000000000001],\n",
       " ['Carol', 21, 1, -0.9],\n",
       " ['Carol', 21, 2, 0.7000000000000001],\n",
       " ['Carol', 21, 3, -0.4],\n",
       " ['Carol', 21, 4, -0.7000000000000001],\n",
       " ['Carol', 22, 0, 0.1],\n",
       " ['Carol', 22, 1, -1.0],\n",
       " ['Carol', 22, 2, -0.30000000000000004],\n",
       " ['Carol', 22, 3, -0.2],\n",
       " ['Carol', 22, 4, -1.0],\n",
       " ['Carol', 23, 0, 0.30000000000000004],\n",
       " ['Carol', 23, 1, 1.0],\n",
       " ['Carol', 23, 2, 0.6000000000000001],\n",
       " ['Carol', 23, 3, 0.30000000000000004],\n",
       " ['Carol', 23, 4, -0.7000000000000001],\n",
       " ['Carol', 24, 0, 0.9],\n",
       " ['Carol', 24, 1, 0.1],\n",
       " ['Carol', 24, 2, 0.7000000000000001],\n",
       " ['Carol', 24, 3, 0.7000000000000001],\n",
       " ['Carol', 24, 4, 0.30000000000000004],\n",
       " ['Carol', 25, 0, 0.4],\n",
       " ['Carol', 25, 1, -1.0],\n",
       " ['Carol', 25, 2, 0.6000000000000001],\n",
       " ['Carol', 25, 3, -0.2],\n",
       " ['Carol', 25, 4, 0.1],\n",
       " ['Carol', 26, 0, -0.0],\n",
       " ['Carol', 26, 1, -0.9],\n",
       " ['Carol', 26, 2, -0.5],\n",
       " ['Carol', 26, 3, -0.30000000000000004],\n",
       " ['Carol', 26, 4, 0.5],\n",
       " ['Carol', 27, 0, -0.5],\n",
       " ['Carol', 27, 1, 0.7000000000000001],\n",
       " ['Carol', 27, 2, -0.6000000000000001],\n",
       " ['Carol', 27, 3, -0.8],\n",
       " ['Carol', 27, 4, -0.5],\n",
       " ['Carol', 28, 0, 0.6000000000000001],\n",
       " ['Carol', 28, 1, 0.5],\n",
       " ['Carol', 28, 2, 0.6000000000000001],\n",
       " ['Carol', 28, 3, 0.30000000000000004],\n",
       " ['Carol', 28, 4, -0.5]]"
      ]
     },
     "execution_count": 61,
     "metadata": {},
     "output_type": "execute_result"
    }
   ],
   "source": [
    "M_LLM_willingness"
   ]
  },
  {
   "cell_type": "markdown",
   "id": "23e81cd4c243fe16",
   "metadata": {},
   "source": [
    "# Availability Matrix"
   ]
  },
  {
   "cell_type": "code",
   "execution_count": 13,
   "id": "df5e0bd1b05ceb97",
   "metadata": {},
   "outputs": [],
   "source": [
    "df_av = pd.read_json(\"availability_mat.json\")"
   ]
  },
  {
   "cell_type": "code",
   "execution_count": 14,
   "id": "5d972e49",
   "metadata": {},
   "outputs": [
    {
     "data": {
      "application/vnd.microsoft.datawrangler.viewer.v0+json": {
       "columns": [
        {
         "name": "index",
         "rawType": "object",
         "type": "string"
        },
        {
         "name": "Alice",
         "rawType": "object",
         "type": "unknown"
        },
        {
         "name": "Bob",
         "rawType": "object",
         "type": "unknown"
        },
        {
         "name": "Carol",
         "rawType": "object",
         "type": "unknown"
        }
       ],
       "ref": "15c11ea3-2908-45e3-b5d0-b2449bb4fd50",
       "rows": [
        [
         "availability_calendar",
         "{'2025-11-01': {'morning': 'O', 'evening': 'X'}, '2025-11-02': {'morning': 'O', 'evening': 'O'}, '2025-11-03': {'morning': 'X', 'evening': 'O'}, '2025-11-04': {'morning': 'O', 'evening': 'O'}, '2025-11-05': {'morning': 'X', 'evening': 'X'}, '2025-11-06': {'morning': 'O', 'evening': 'O'}, '2025-11-07': {'morning': 'X', 'evening': 'O'}}",
         "{'2025-11-01': {'morning': 'X', 'evening': 'O'}, '2025-11-02': {'morning': 'X', 'evening': 'O'}, '2025-11-03': {'morning': 'O', 'evening': 'X'}, '2025-11-04': {'morning': 'O', 'evening': 'O'}, '2025-11-05': {'morning': 'O', 'evening': 'X'}, '2025-11-06': {'morning': 'O', 'evening': 'O'}, '2025-11-07': {'morning': 'O', 'evening': 'X'}}",
         "{'2025-11-01': {'morning': 'X', 'evening': 'X'}, '2025-11-02': {'morning': 'O', 'evening': 'O'}, '2025-11-03': {'morning': 'X', 'evening': 'O'}, '2025-11-04': {'morning': 'O', 'evening': 'O'}, '2025-11-05': {'morning': 'O', 'evening': 'X'}, '2025-11-06': {'morning': 'O', 'evening': 'O'}, '2025-11-07': {'morning': 'O', 'evening': 'O'}}"
        ],
        [
         "content",
         "Alice prefers working morning shifts on weekdays and evenings on weekends.",
         "Bob prefers even-numbered dates and cannot work Sunday mornings.",
         "Carol prefers evening shifts but can fill in mornings if needed."
        ]
       ],
       "shape": {
        "columns": 3,
        "rows": 2
       }
      },
      "text/html": [
       "<div>\n",
       "<style scoped>\n",
       "    .dataframe tbody tr th:only-of-type {\n",
       "        vertical-align: middle;\n",
       "    }\n",
       "\n",
       "    .dataframe tbody tr th {\n",
       "        vertical-align: top;\n",
       "    }\n",
       "\n",
       "    .dataframe thead th {\n",
       "        text-align: right;\n",
       "    }\n",
       "</style>\n",
       "<table border=\"1\" class=\"dataframe\">\n",
       "  <thead>\n",
       "    <tr style=\"text-align: right;\">\n",
       "      <th></th>\n",
       "      <th>Alice</th>\n",
       "      <th>Bob</th>\n",
       "      <th>Carol</th>\n",
       "    </tr>\n",
       "  </thead>\n",
       "  <tbody>\n",
       "    <tr>\n",
       "      <th>availability_calendar</th>\n",
       "      <td>{'2025-11-01': {'morning': 'O', 'evening': 'X'...</td>\n",
       "      <td>{'2025-11-01': {'morning': 'X', 'evening': 'O'...</td>\n",
       "      <td>{'2025-11-01': {'morning': 'X', 'evening': 'X'...</td>\n",
       "    </tr>\n",
       "    <tr>\n",
       "      <th>content</th>\n",
       "      <td>Alice prefers working morning shifts on weekda...</td>\n",
       "      <td>Bob prefers even-numbered dates and cannot wor...</td>\n",
       "      <td>Carol prefers evening shifts but can fill in m...</td>\n",
       "    </tr>\n",
       "  </tbody>\n",
       "</table>\n",
       "</div>"
      ],
      "text/plain": [
       "                                                                   Alice  \\\n",
       "availability_calendar  {'2025-11-01': {'morning': 'O', 'evening': 'X'...   \n",
       "content                Alice prefers working morning shifts on weekda...   \n",
       "\n",
       "                                                                     Bob  \\\n",
       "availability_calendar  {'2025-11-01': {'morning': 'X', 'evening': 'O'...   \n",
       "content                Bob prefers even-numbered dates and cannot wor...   \n",
       "\n",
       "                                                                   Carol  \n",
       "availability_calendar  {'2025-11-01': {'morning': 'X', 'evening': 'X'...  \n",
       "content                Carol prefers evening shifts but can fill in m...  "
      ]
     },
     "execution_count": 14,
     "metadata": {},
     "output_type": "execute_result"
    }
   ],
   "source": [
    "df_av"
   ]
  },
  {
   "cell_type": "code",
   "execution_count": 15,
   "id": "c78490ff",
   "metadata": {},
   "outputs": [],
   "source": [
    "df_av.drop(\"content\", inplace=True)"
   ]
  },
  {
   "cell_type": "code",
   "execution_count": 16,
   "id": "fd92aa13",
   "metadata": {},
   "outputs": [
    {
     "data": {
      "application/vnd.microsoft.datawrangler.viewer.v0+json": {
       "columns": [
        {
         "name": "index",
         "rawType": "object",
         "type": "string"
        },
        {
         "name": "Alice",
         "rawType": "object",
         "type": "unknown"
        },
        {
         "name": "Bob",
         "rawType": "object",
         "type": "unknown"
        },
        {
         "name": "Carol",
         "rawType": "object",
         "type": "unknown"
        }
       ],
       "ref": "452e076b-d3a0-4355-80be-e7a362e57e5f",
       "rows": [
        [
         "availability_calendar",
         "{'2025-11-01': {'morning': 'O', 'evening': 'X'}, '2025-11-02': {'morning': 'O', 'evening': 'O'}, '2025-11-03': {'morning': 'X', 'evening': 'O'}, '2025-11-04': {'morning': 'O', 'evening': 'O'}, '2025-11-05': {'morning': 'X', 'evening': 'X'}, '2025-11-06': {'morning': 'O', 'evening': 'O'}, '2025-11-07': {'morning': 'X', 'evening': 'O'}}",
         "{'2025-11-01': {'morning': 'X', 'evening': 'O'}, '2025-11-02': {'morning': 'X', 'evening': 'O'}, '2025-11-03': {'morning': 'O', 'evening': 'X'}, '2025-11-04': {'morning': 'O', 'evening': 'O'}, '2025-11-05': {'morning': 'O', 'evening': 'X'}, '2025-11-06': {'morning': 'O', 'evening': 'O'}, '2025-11-07': {'morning': 'O', 'evening': 'X'}}",
         "{'2025-11-01': {'morning': 'X', 'evening': 'X'}, '2025-11-02': {'morning': 'O', 'evening': 'O'}, '2025-11-03': {'morning': 'X', 'evening': 'O'}, '2025-11-04': {'morning': 'O', 'evening': 'O'}, '2025-11-05': {'morning': 'O', 'evening': 'X'}, '2025-11-06': {'morning': 'O', 'evening': 'O'}, '2025-11-07': {'morning': 'O', 'evening': 'O'}}"
        ]
       ],
       "shape": {
        "columns": 3,
        "rows": 1
       }
      },
      "text/html": [
       "<div>\n",
       "<style scoped>\n",
       "    .dataframe tbody tr th:only-of-type {\n",
       "        vertical-align: middle;\n",
       "    }\n",
       "\n",
       "    .dataframe tbody tr th {\n",
       "        vertical-align: top;\n",
       "    }\n",
       "\n",
       "    .dataframe thead th {\n",
       "        text-align: right;\n",
       "    }\n",
       "</style>\n",
       "<table border=\"1\" class=\"dataframe\">\n",
       "  <thead>\n",
       "    <tr style=\"text-align: right;\">\n",
       "      <th></th>\n",
       "      <th>Alice</th>\n",
       "      <th>Bob</th>\n",
       "      <th>Carol</th>\n",
       "    </tr>\n",
       "  </thead>\n",
       "  <tbody>\n",
       "    <tr>\n",
       "      <th>availability_calendar</th>\n",
       "      <td>{'2025-11-01': {'morning': 'O', 'evening': 'X'...</td>\n",
       "      <td>{'2025-11-01': {'morning': 'X', 'evening': 'O'...</td>\n",
       "      <td>{'2025-11-01': {'morning': 'X', 'evening': 'X'...</td>\n",
       "    </tr>\n",
       "  </tbody>\n",
       "</table>\n",
       "</div>"
      ],
      "text/plain": [
       "                                                                   Alice  \\\n",
       "availability_calendar  {'2025-11-01': {'morning': 'O', 'evening': 'X'...   \n",
       "\n",
       "                                                                     Bob  \\\n",
       "availability_calendar  {'2025-11-01': {'morning': 'X', 'evening': 'O'...   \n",
       "\n",
       "                                                                   Carol  \n",
       "availability_calendar  {'2025-11-01': {'morning': 'X', 'evening': 'X'...  "
      ]
     },
     "execution_count": 16,
     "metadata": {},
     "output_type": "execute_result"
    }
   ],
   "source": [
    "df_av"
   ]
  },
  {
   "cell_type": "code",
   "execution_count": 17,
   "id": "ab273eef",
   "metadata": {},
   "outputs": [],
   "source": [
    "records = []\n",
    "\n",
    "for employee in df_av.columns:\n",
    "    emp_data = df_av.iloc[0][employee]\n",
    "    for date, shifts in emp_data.items():\n",
    "        records.append({\n",
    "            \"employee\": employee,\n",
    "            \"date\": date,\n",
    "            \"morning\": shifts[\"morning\"],\n",
    "            \"evening\": shifts[\"evening\"]\n",
    "        })\n",
    "\n",
    "df_flat_av = pd.DataFrame(records)"
   ]
  },
  {
   "cell_type": "code",
   "execution_count": 18,
   "id": "b59b7619",
   "metadata": {},
   "outputs": [
    {
     "data": {
      "application/vnd.microsoft.datawrangler.viewer.v0+json": {
       "columns": [
        {
         "name": "index",
         "rawType": "int64",
         "type": "integer"
        },
        {
         "name": "employee",
         "rawType": "object",
         "type": "string"
        },
        {
         "name": "date",
         "rawType": "object",
         "type": "string"
        },
        {
         "name": "morning",
         "rawType": "object",
         "type": "string"
        },
        {
         "name": "evening",
         "rawType": "object",
         "type": "string"
        }
       ],
       "ref": "fcf0f4e1-4696-444e-a071-1df1322d06bb",
       "rows": [
        [
         "0",
         "Alice",
         "2025-11-01",
         "O",
         "X"
        ],
        [
         "1",
         "Alice",
         "2025-11-02",
         "O",
         "O"
        ],
        [
         "2",
         "Alice",
         "2025-11-03",
         "X",
         "O"
        ],
        [
         "3",
         "Alice",
         "2025-11-04",
         "O",
         "O"
        ],
        [
         "4",
         "Alice",
         "2025-11-05",
         "X",
         "X"
        ],
        [
         "5",
         "Alice",
         "2025-11-06",
         "O",
         "O"
        ],
        [
         "6",
         "Alice",
         "2025-11-07",
         "X",
         "O"
        ],
        [
         "7",
         "Bob",
         "2025-11-01",
         "X",
         "O"
        ],
        [
         "8",
         "Bob",
         "2025-11-02",
         "X",
         "O"
        ],
        [
         "9",
         "Bob",
         "2025-11-03",
         "O",
         "X"
        ],
        [
         "10",
         "Bob",
         "2025-11-04",
         "O",
         "O"
        ],
        [
         "11",
         "Bob",
         "2025-11-05",
         "O",
         "X"
        ],
        [
         "12",
         "Bob",
         "2025-11-06",
         "O",
         "O"
        ],
        [
         "13",
         "Bob",
         "2025-11-07",
         "O",
         "X"
        ],
        [
         "14",
         "Carol",
         "2025-11-01",
         "X",
         "X"
        ],
        [
         "15",
         "Carol",
         "2025-11-02",
         "O",
         "O"
        ],
        [
         "16",
         "Carol",
         "2025-11-03",
         "X",
         "O"
        ],
        [
         "17",
         "Carol",
         "2025-11-04",
         "O",
         "O"
        ],
        [
         "18",
         "Carol",
         "2025-11-05",
         "O",
         "X"
        ],
        [
         "19",
         "Carol",
         "2025-11-06",
         "O",
         "O"
        ],
        [
         "20",
         "Carol",
         "2025-11-07",
         "O",
         "O"
        ]
       ],
       "shape": {
        "columns": 4,
        "rows": 21
       }
      },
      "text/html": [
       "<div>\n",
       "<style scoped>\n",
       "    .dataframe tbody tr th:only-of-type {\n",
       "        vertical-align: middle;\n",
       "    }\n",
       "\n",
       "    .dataframe tbody tr th {\n",
       "        vertical-align: top;\n",
       "    }\n",
       "\n",
       "    .dataframe thead th {\n",
       "        text-align: right;\n",
       "    }\n",
       "</style>\n",
       "<table border=\"1\" class=\"dataframe\">\n",
       "  <thead>\n",
       "    <tr style=\"text-align: right;\">\n",
       "      <th></th>\n",
       "      <th>employee</th>\n",
       "      <th>date</th>\n",
       "      <th>morning</th>\n",
       "      <th>evening</th>\n",
       "    </tr>\n",
       "  </thead>\n",
       "  <tbody>\n",
       "    <tr>\n",
       "      <th>0</th>\n",
       "      <td>Alice</td>\n",
       "      <td>2025-11-01</td>\n",
       "      <td>O</td>\n",
       "      <td>X</td>\n",
       "    </tr>\n",
       "    <tr>\n",
       "      <th>1</th>\n",
       "      <td>Alice</td>\n",
       "      <td>2025-11-02</td>\n",
       "      <td>O</td>\n",
       "      <td>O</td>\n",
       "    </tr>\n",
       "    <tr>\n",
       "      <th>2</th>\n",
       "      <td>Alice</td>\n",
       "      <td>2025-11-03</td>\n",
       "      <td>X</td>\n",
       "      <td>O</td>\n",
       "    </tr>\n",
       "    <tr>\n",
       "      <th>3</th>\n",
       "      <td>Alice</td>\n",
       "      <td>2025-11-04</td>\n",
       "      <td>O</td>\n",
       "      <td>O</td>\n",
       "    </tr>\n",
       "    <tr>\n",
       "      <th>4</th>\n",
       "      <td>Alice</td>\n",
       "      <td>2025-11-05</td>\n",
       "      <td>X</td>\n",
       "      <td>X</td>\n",
       "    </tr>\n",
       "    <tr>\n",
       "      <th>5</th>\n",
       "      <td>Alice</td>\n",
       "      <td>2025-11-06</td>\n",
       "      <td>O</td>\n",
       "      <td>O</td>\n",
       "    </tr>\n",
       "    <tr>\n",
       "      <th>6</th>\n",
       "      <td>Alice</td>\n",
       "      <td>2025-11-07</td>\n",
       "      <td>X</td>\n",
       "      <td>O</td>\n",
       "    </tr>\n",
       "    <tr>\n",
       "      <th>7</th>\n",
       "      <td>Bob</td>\n",
       "      <td>2025-11-01</td>\n",
       "      <td>X</td>\n",
       "      <td>O</td>\n",
       "    </tr>\n",
       "    <tr>\n",
       "      <th>8</th>\n",
       "      <td>Bob</td>\n",
       "      <td>2025-11-02</td>\n",
       "      <td>X</td>\n",
       "      <td>O</td>\n",
       "    </tr>\n",
       "    <tr>\n",
       "      <th>9</th>\n",
       "      <td>Bob</td>\n",
       "      <td>2025-11-03</td>\n",
       "      <td>O</td>\n",
       "      <td>X</td>\n",
       "    </tr>\n",
       "    <tr>\n",
       "      <th>10</th>\n",
       "      <td>Bob</td>\n",
       "      <td>2025-11-04</td>\n",
       "      <td>O</td>\n",
       "      <td>O</td>\n",
       "    </tr>\n",
       "    <tr>\n",
       "      <th>11</th>\n",
       "      <td>Bob</td>\n",
       "      <td>2025-11-05</td>\n",
       "      <td>O</td>\n",
       "      <td>X</td>\n",
       "    </tr>\n",
       "    <tr>\n",
       "      <th>12</th>\n",
       "      <td>Bob</td>\n",
       "      <td>2025-11-06</td>\n",
       "      <td>O</td>\n",
       "      <td>O</td>\n",
       "    </tr>\n",
       "    <tr>\n",
       "      <th>13</th>\n",
       "      <td>Bob</td>\n",
       "      <td>2025-11-07</td>\n",
       "      <td>O</td>\n",
       "      <td>X</td>\n",
       "    </tr>\n",
       "    <tr>\n",
       "      <th>14</th>\n",
       "      <td>Carol</td>\n",
       "      <td>2025-11-01</td>\n",
       "      <td>X</td>\n",
       "      <td>X</td>\n",
       "    </tr>\n",
       "    <tr>\n",
       "      <th>15</th>\n",
       "      <td>Carol</td>\n",
       "      <td>2025-11-02</td>\n",
       "      <td>O</td>\n",
       "      <td>O</td>\n",
       "    </tr>\n",
       "    <tr>\n",
       "      <th>16</th>\n",
       "      <td>Carol</td>\n",
       "      <td>2025-11-03</td>\n",
       "      <td>X</td>\n",
       "      <td>O</td>\n",
       "    </tr>\n",
       "    <tr>\n",
       "      <th>17</th>\n",
       "      <td>Carol</td>\n",
       "      <td>2025-11-04</td>\n",
       "      <td>O</td>\n",
       "      <td>O</td>\n",
       "    </tr>\n",
       "    <tr>\n",
       "      <th>18</th>\n",
       "      <td>Carol</td>\n",
       "      <td>2025-11-05</td>\n",
       "      <td>O</td>\n",
       "      <td>X</td>\n",
       "    </tr>\n",
       "    <tr>\n",
       "      <th>19</th>\n",
       "      <td>Carol</td>\n",
       "      <td>2025-11-06</td>\n",
       "      <td>O</td>\n",
       "      <td>O</td>\n",
       "    </tr>\n",
       "    <tr>\n",
       "      <th>20</th>\n",
       "      <td>Carol</td>\n",
       "      <td>2025-11-07</td>\n",
       "      <td>O</td>\n",
       "      <td>O</td>\n",
       "    </tr>\n",
       "  </tbody>\n",
       "</table>\n",
       "</div>"
      ],
      "text/plain": [
       "   employee        date morning evening\n",
       "0     Alice  2025-11-01       O       X\n",
       "1     Alice  2025-11-02       O       O\n",
       "2     Alice  2025-11-03       X       O\n",
       "3     Alice  2025-11-04       O       O\n",
       "4     Alice  2025-11-05       X       X\n",
       "5     Alice  2025-11-06       O       O\n",
       "6     Alice  2025-11-07       X       O\n",
       "7       Bob  2025-11-01       X       O\n",
       "8       Bob  2025-11-02       X       O\n",
       "9       Bob  2025-11-03       O       X\n",
       "10      Bob  2025-11-04       O       O\n",
       "11      Bob  2025-11-05       O       X\n",
       "12      Bob  2025-11-06       O       O\n",
       "13      Bob  2025-11-07       O       X\n",
       "14    Carol  2025-11-01       X       X\n",
       "15    Carol  2025-11-02       O       O\n",
       "16    Carol  2025-11-03       X       O\n",
       "17    Carol  2025-11-04       O       O\n",
       "18    Carol  2025-11-05       O       X\n",
       "19    Carol  2025-11-06       O       O\n",
       "20    Carol  2025-11-07       O       O"
      ]
     },
     "execution_count": 18,
     "metadata": {},
     "output_type": "execute_result"
    }
   ],
   "source": [
    "df_flat_av"
   ]
  },
  {
   "cell_type": "code",
   "execution_count": 19,
   "id": "734992cc",
   "metadata": {},
   "outputs": [],
   "source": [
    "df_flat_av[\"shift\"] = np.where(\n",
    "    df_flat_av[\"morning\"] == \"O\",\n",
    "    \"morning\",\n",
    "    \"evening\"\n",
    ")"
   ]
  },
  {
   "cell_type": "code",
   "execution_count": null,
   "id": "dca6a0ac",
   "metadata": {},
   "outputs": [
    {
     "data": {
      "application/vnd.microsoft.datawrangler.viewer.v0+json": {
       "columns": [
        {
         "name": "index",
         "rawType": "int64",
         "type": "integer"
        },
        {
         "name": "employee",
         "rawType": "object",
         "type": "string"
        },
        {
         "name": "date",
         "rawType": "object",
         "type": "string"
        },
        {
         "name": "morning",
         "rawType": "object",
         "type": "string"
        },
        {
         "name": "evening",
         "rawType": "object",
         "type": "string"
        },
        {
         "name": "shift",
         "rawType": "object",
         "type": "string"
        }
       ],
       "ref": "5494fb80-ac60-4c86-a86a-61d98098a31e",
       "rows": [
        [
         "0",
         "Alice",
         "2025-11-01",
         "O",
         "X",
         "morning"
        ],
        [
         "1",
         "Alice",
         "2025-11-02",
         "O",
         "O",
         "morning"
        ],
        [
         "2",
         "Alice",
         "2025-11-03",
         "X",
         "O",
         "evening"
        ],
        [
         "3",
         "Alice",
         "2025-11-04",
         "O",
         "O",
         "morning"
        ],
        [
         "4",
         "Alice",
         "2025-11-05",
         "X",
         "X",
         "evening"
        ]
       ],
       "shape": {
        "columns": 5,
        "rows": 5
       }
      },
      "text/html": [
       "<div>\n",
       "<style scoped>\n",
       "    .dataframe tbody tr th:only-of-type {\n",
       "        vertical-align: middle;\n",
       "    }\n",
       "\n",
       "    .dataframe tbody tr th {\n",
       "        vertical-align: top;\n",
       "    }\n",
       "\n",
       "    .dataframe thead th {\n",
       "        text-align: right;\n",
       "    }\n",
       "</style>\n",
       "<table border=\"1\" class=\"dataframe\">\n",
       "  <thead>\n",
       "    <tr style=\"text-align: right;\">\n",
       "      <th></th>\n",
       "      <th>employee</th>\n",
       "      <th>date</th>\n",
       "      <th>morning</th>\n",
       "      <th>evening</th>\n",
       "      <th>shift</th>\n",
       "    </tr>\n",
       "  </thead>\n",
       "  <tbody>\n",
       "    <tr>\n",
       "      <th>0</th>\n",
       "      <td>Alice</td>\n",
       "      <td>2025-11-01</td>\n",
       "      <td>O</td>\n",
       "      <td>X</td>\n",
       "      <td>morning</td>\n",
       "    </tr>\n",
       "    <tr>\n",
       "      <th>1</th>\n",
       "      <td>Alice</td>\n",
       "      <td>2025-11-02</td>\n",
       "      <td>O</td>\n",
       "      <td>O</td>\n",
       "      <td>morning</td>\n",
       "    </tr>\n",
       "    <tr>\n",
       "      <th>2</th>\n",
       "      <td>Alice</td>\n",
       "      <td>2025-11-03</td>\n",
       "      <td>X</td>\n",
       "      <td>O</td>\n",
       "      <td>evening</td>\n",
       "    </tr>\n",
       "    <tr>\n",
       "      <th>3</th>\n",
       "      <td>Alice</td>\n",
       "      <td>2025-11-04</td>\n",
       "      <td>O</td>\n",
       "      <td>O</td>\n",
       "      <td>morning</td>\n",
       "    </tr>\n",
       "    <tr>\n",
       "      <th>4</th>\n",
       "      <td>Alice</td>\n",
       "      <td>2025-11-05</td>\n",
       "      <td>X</td>\n",
       "      <td>X</td>\n",
       "      <td>evening</td>\n",
       "    </tr>\n",
       "  </tbody>\n",
       "</table>\n",
       "</div>"
      ],
      "text/plain": [
       "  employee        date morning evening    shift\n",
       "0    Alice  2025-11-01       O       X  morning\n",
       "1    Alice  2025-11-02       O       O  morning\n",
       "2    Alice  2025-11-03       X       O  evening\n",
       "3    Alice  2025-11-04       O       O  morning\n",
       "4    Alice  2025-11-05       X       X  evening"
      ]
     },
     "execution_count": 22,
     "metadata": {},
     "output_type": "execute_result"
    }
   ],
   "source": [
    "df_flat_av_shift = df"
   ]
  },
  {
   "cell_type": "code",
   "execution_count": null,
   "id": "56249d71",
   "metadata": {},
   "outputs": [],
   "source": []
  }
 ],
 "metadata": {
  "kernelspec": {
   "display_name": "jphacks25",
   "language": "python",
   "name": "python3"
  },
  "language_info": {
   "codemirror_mode": {
    "name": "ipython",
    "version": 3
   },
   "file_extension": ".py",
   "mimetype": "text/x-python",
   "name": "python",
   "nbconvert_exporter": "python",
   "pygments_lexer": "ipython3",
   "version": "3.10.18"
  }
 },
 "nbformat": 4,
 "nbformat_minor": 5
}
